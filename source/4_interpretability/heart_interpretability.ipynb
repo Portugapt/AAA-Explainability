{
 "cells": [
  {
   "cell_type": "markdown",
   "id": "7d5b341d-4b36-49dc-9bf7-47e175b4b1c1",
   "metadata": {},
   "source": [
    "# Interpretability"
   ]
  },
  {
   "cell_type": "markdown",
   "id": "12d7b0dc-f9c3-4815-8434-57248c62f321",
   "metadata": {},
   "source": [
    "## Import Libraries"
   ]
  },
  {
   "cell_type": "code",
   "execution_count": 1,
   "id": "e9c84064-f563-4fc9-bbe8-c8cde86f8640",
   "metadata": {},
   "outputs": [],
   "source": [
    "import os\n",
    "from datetime import datetime\n",
    "import pickle\n",
    "\n",
    "import logging\n",
    "import warnings\n",
    "warnings.filterwarnings(\"ignore\")\n",
    "\n",
    "_ABSOLUTE_DIR = os.getcwd()\n",
    "_NOTEBOOK_START = datetime.now().strftime('%Y-%m-%d_%H-%M-%S')\n",
    "if not os.path.exists('logs'):\n",
    "    # Create a new directory because it does not exist \n",
    "    os.makedirs('logs')\n",
    "logging.basicConfig(filename=f'logs/heart_processing_{_NOTEBOOK_START}.log', encoding='utf-8', level=logging.DEBUG, format='%(levelname)s:%(asctime)s:%(message)s')\n",
    "\n",
    "import tqdm as notebook_tqdm\n",
    "\n",
    "import shap\n",
    "import lime\n",
    "\n",
    "import pandas as pd\n",
    "import numpy as np\n",
    "\n",
    "from sklearn.svm import LinearSVC\n",
    "from xgboost import XGBClassifier\n",
    "logging.info(f'Imports loaded')"
   ]
  },
  {
   "cell_type": "markdown",
   "id": "4ce54dba-6ee1-4618-92c8-539a8aeffa28",
   "metadata": {},
   "source": [
    "## Import Data"
   ]
  },
  {
   "cell_type": "code",
   "execution_count": 3,
   "id": "7d252f35-9223-4852-927a-58793ae56b70",
   "metadata": {},
   "outputs": [
    {
     "ename": "FileNotFoundError",
     "evalue": "[Errno 2] No such file or directory: '/home/jovyan/work/4_interpretability/../artifacts/models/heart_svc_model_1.pickle'",
     "output_type": "error",
     "traceback": [
      "\u001b[0;31m---------------------------------------------------------------------------\u001b[0m",
      "\u001b[0;31mFileNotFoundError\u001b[0m                         Traceback (most recent call last)",
      "Input \u001b[0;32mIn [3]\u001b[0m, in \u001b[0;36m<cell line: 3>\u001b[0;34m()\u001b[0m\n\u001b[1;32m      1\u001b[0m \u001b[38;5;66;03m## Models\u001b[39;00m\n\u001b[0;32m----> 3\u001b[0m \u001b[38;5;28;01mwith\u001b[39;00m \u001b[38;5;28;43mopen\u001b[39;49m\u001b[43m(\u001b[49m\u001b[38;5;124;43mf\u001b[39;49m\u001b[38;5;124;43m'\u001b[39;49m\u001b[38;5;132;43;01m{\u001b[39;49;00m\u001b[43m_ABSOLUTE_DIR\u001b[49m\u001b[38;5;132;43;01m}\u001b[39;49;00m\u001b[38;5;124;43m/../artifacts/models/heart_svc_model_1.pickle\u001b[39;49m\u001b[38;5;124;43m'\u001b[39;49m\u001b[43m,\u001b[49m\u001b[43m \u001b[49m\u001b[38;5;124;43m'\u001b[39;49m\u001b[38;5;124;43mrb\u001b[39;49m\u001b[38;5;124;43m'\u001b[39;49m\u001b[43m)\u001b[49m \u001b[38;5;28;01mas\u001b[39;00m pickle_file:\n\u001b[1;32m      4\u001b[0m     SVC_model_1 \u001b[38;5;241m=\u001b[39m pickle\u001b[38;5;241m.\u001b[39mload(pickle_file)\n\u001b[1;32m      6\u001b[0m \u001b[38;5;28;01mwith\u001b[39;00m \u001b[38;5;28mopen\u001b[39m(\u001b[38;5;124mf\u001b[39m\u001b[38;5;124m'\u001b[39m\u001b[38;5;124m../artifacts/models/heart_xgb_model_1.pickle\u001b[39m\u001b[38;5;124m'\u001b[39m, \u001b[38;5;124m'\u001b[39m\u001b[38;5;124mrb\u001b[39m\u001b[38;5;124m'\u001b[39m) \u001b[38;5;28;01mas\u001b[39;00m pickle_file:\n",
      "\u001b[0;31mFileNotFoundError\u001b[0m: [Errno 2] No such file or directory: '/home/jovyan/work/4_interpretability/../artifacts/models/heart_svc_model_1.pickle'"
     ]
    }
   ],
   "source": [
    "## Models\n",
    "\n",
    "with open(f'../artifacts/models/heart_svc_model_1.pickle', 'rb') as pickle_file:\n",
    "    SVC_model_1 = pickle.load(pickle_file)\n",
    "\n",
    "with open(f'../artifacts/models/heart_xgb_model_1.pickle', 'rb') as pickle_file:\n",
    "    XGBoost_model_1 = pickle.load(pickle_file)\n"
   ]
  },
  {
   "cell_type": "code",
   "execution_count": null,
   "id": "52a8f301-69d1-4ca4-8e99-f5ce89512335",
   "metadata": {},
   "outputs": [],
   "source": [
    "## Data\n",
    "\n",
    "dfHeart_processed = pd.read_parquet(f'{_ABSOLUTE_DIR}/../artifacts/data/heart/heart_processed.parquet')\n",
    "logging.info(f'Load dataset from {_ABSOLUTE_DIR}/../artifacts/data/heart/heart_processed.parquet')\n",
    "\n",
    "dfHeart_processed['diabetic_no_fe'] = dfHeart_processed['diabetic_no_fe'].astype(int)\n",
    "dfHeart_processed['MentalHealth'] = dfHeart_processed['MentalHealth'].astype(int)\n",
    "dfHeart_processed['PhysicalHealth'] = dfHeart_processed['PhysicalHealth'].astype(int)\n",
    "dfHeart_processed['DiffWalking'] = dfHeart_processed['DiffWalking'].astype(int)\n",
    "dfHeart_processed['Smoking'] = dfHeart_processed['Smoking'].astype(int)\n",
    "\n",
    "columns_v1 = ['AgeCategory_seq_fe', \n",
    "              'BMI_scaled', \n",
    "              'GenHealth', \n",
    "              'Smoking', \n",
    "              'PriorDiseases', \n",
    "              'diabetic_no_fe', \n",
    "              'DiffWalking', \n",
    "              'MentalHealth', \n",
    "              'PhysicalHealth']\n",
    "\n",
    "train_data = dfHeart_processed[(dfHeart_processed['Set'] == 'train')]\n",
    "test_data = dfHeart_processed[(dfHeart_processed['Set'] == 'test')]\n",
    "val_data = dfHeart_processed[(dfHeart_processed['Set'] == 'valid')]\n",
    "\n",
    "X_train = train_data[columns_v1]\n",
    "y_train = train_data['HeartDisease']\n",
    "\n",
    "X_test = test_data[columns_v1]\n",
    "y_test = test_data['HeartDisease']\n",
    "\n",
    "X_val = val_data[columns_v1]\n",
    "y_val = val_data['HeartDisease']"
   ]
  },
  {
   "cell_type": "code",
   "execution_count": null,
   "id": "b365e741-316b-422e-97b5-7e0fe971c9c9",
   "metadata": {},
   "outputs": [],
   "source": [
    "X_train.dtypes"
   ]
  },
  {
   "cell_type": "code",
   "execution_count": null,
   "id": "b1bd5cbe-c76e-40c5-8a25-661a1c8b44be",
   "metadata": {},
   "outputs": [],
   "source": [
    "## Transformation Map\n",
    "\n",
    "with open(f'../artifacts/transformation_maps/heart/bmi_scaler.pickle', 'rb') as pickle_file:\n",
    "    StandardScaler_map = pickle.load(pickle_file)"
   ]
  },
  {
   "cell_type": "markdown",
   "id": "481368f6-e68f-4330-8c37-2baea13f7f3a",
   "metadata": {},
   "source": [
    "## SHAP"
   ]
  },
  {
   "cell_type": "code",
   "execution_count": null,
   "id": "9809f628-2306-41d6-a3ed-19fb31bdd711",
   "metadata": {},
   "outputs": [],
   "source": [
    "test_x_set = X_test.sample(500, random_state = 42)"
   ]
  },
  {
   "cell_type": "code",
   "execution_count": null,
   "id": "131356d1-6ead-4cbb-895f-99bc5dff5892",
   "metadata": {},
   "outputs": [],
   "source": [
    "#explainer_LinearSVC = shap.Explainer(SVC_model_1.predict, X_train)\n",
    "#shap_values_LinearSVC = explainer_LinearSVC(test_x_set)"
   ]
  },
  {
   "cell_type": "code",
   "execution_count": null,
   "id": "6e5788e9-edc2-43ae-8375-855cc20208ca",
   "metadata": {},
   "outputs": [],
   "source": [
    "#shap.summary_plot(shap_values_LinearSVC.values, test_x_set)"
   ]
  },
  {
   "cell_type": "code",
   "execution_count": null,
   "id": "4a9919a7-c3b8-41be-aff5-e5ef57f2be99",
   "metadata": {},
   "outputs": [],
   "source": [
    "background = shap.maskers.Partition(X_train, max_samples=5000)\n",
    "def f(x):\n",
    "    return shap.links.identity(model.predict_proba(x, validate_features=False)[:,1])\n",
    "explainer = shap.Explainer(f, background, link=shap.links.logit)\n",
    "shap_values = explainer(test_x_set)\n",
    "\n",
    "\n",
    "#explainer_XGB = shap.TreeExplainer(XGBoost_model_1.predict, X_train)\n",
    "#shap_values_XGB = explainer_XGB(test_x_set)"
   ]
  }
 ],
 "metadata": {
  "kernelspec": {
   "display_name": "Python 3 (ipykernel)",
   "language": "python",
   "name": "python3"
  },
  "language_info": {
   "codemirror_mode": {
    "name": "ipython",
    "version": 3
   },
   "file_extension": ".py",
   "mimetype": "text/x-python",
   "name": "python",
   "nbconvert_exporter": "python",
   "pygments_lexer": "ipython3",
   "version": "3.9.13"
  }
 },
 "nbformat": 4,
 "nbformat_minor": 5
}
