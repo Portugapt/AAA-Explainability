{
 "cells": [
  {
   "cell_type": "markdown",
   "id": "4529d59e-b8b5-4353-b9c0-05c6efd955fa",
   "metadata": {},
   "source": [
    "# Modeling\n",
    "\n",
    "In this section, we will setup a Docker with MLFLOW and Postgres, to keep track of the models trained.  \n",
    "https://github.com/aganse/docker_mlflow_db\n",
    "\n",
    "First, we will try to overfit a few models with a selection of features, to make a sanity check on weather it's possible to train a model to a reasonable degree.  \n"
   ]
  }
 ],
 "metadata": {
  "kernelspec": {
   "display_name": "",
   "name": ""
  },
  "language_info": {
   "name": ""
  }
 },
 "nbformat": 4,
 "nbformat_minor": 5
}
