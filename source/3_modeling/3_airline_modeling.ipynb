{
  "cells": [
    {
      "cell_type": "markdown",
      "metadata": {
        "id": "hOhsH3Pjwxcq"
      },
      "source": [
        "# Airline Dataset Modeling"
      ]
    },
    {
      "cell_type": "markdown",
      "metadata": {
        "id": "Q8NUEzKowxcs"
      },
      "source": [
        "## TODO \n",
        "\n",
        "* [ ] Support Vector Machine\n",
        "* [ ] Gradient Boosting"
      ]
    },
    {
      "cell_type": "markdown",
      "metadata": {
        "id": "B5uPCxRlwxcs"
      },
      "source": [
        "As we said in the Project Proposal, we will use two types of Machine Learning Algorithms: Support Vector Machine and Gradient Boosting. In the this step, we are gonna test some parameterizations of this algorithms."
      ]
    },
    {
      "cell_type": "markdown",
      "metadata": {
        "id": "2sPJkxT2wxct"
      },
      "source": [
        "## Import Libraries"
      ]
    },
    {
      "cell_type": "code",
      "execution_count": 65,
      "metadata": {
        "id": "QnfzzClmwxct"
      },
      "outputs": [],
      "source": [
        "import os\n",
        "from datetime import datetime\n",
        "import logging\n",
        "_ABSOLUTE_DIR = os.getcwd()\n",
        "import typing\n",
        "\n",
        "import numpy as np\n",
        "import pandas as pd\n",
        "import seaborn as sns\n",
        "import matplotlib.pyplot as plt\n",
        "## SKLEARN LIBRARIES\n",
        "from sklearn.preprocessing import OneHotEncoder\n",
        "from sklearn.preprocessing import StandardScaler\n",
        "import math\n",
        "from sklearn import svm\n",
        "from sklearn.ensemble import GradientBoostingClassifier\n",
        "from sklearn.model_selection import cross_val_score\n",
        "from sklearn.metrics import accuracy_score\n",
        "from sklearn.metrics import f1_score\n",
        "from sklearn.metrics import recall_score\n",
        "from sklearn.ensemble import BaggingClassifier\n",
        "from xgboost import XGBClassifier\n",
        "from sklearn.svm import LinearSVC\n",
        "from sklearn.metrics import confusion_matrix\n",
        "from sklearn.metrics import plot_confusion_matrix\n",
        "import pickle"
      ]
    },
    {
      "cell_type": "markdown",
      "metadata": {
        "id": "fJL-o5Auwxcu"
      },
      "source": [
        "## Get Processed Data"
      ]
    },
    {
      "cell_type": "code",
      "source": [
        "from google.colab import files\n",
        "uploaded = files.upload()"
      ],
      "metadata": {
        "colab": {
          "resources": {
            "http://localhost:8080/nbextensions/google.colab/files.js": {
              "data": "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",
              "ok": true,
              "headers": [
                [
                  "content-type",
                  "application/javascript"
                ]
              ],
              "status": 200,
              "status_text": ""
            }
          },
          "base_uri": "https://localhost:8080/",
          "height": 107
        },
        "id": "Xg0Fo23TxLuD",
        "outputId": "41523656-7eb0-4dbf-8095-197d6c0510a6"
      },
      "execution_count": 2,
      "outputs": [
        {
          "output_type": "display_data",
          "data": {
            "text/plain": [
              "<IPython.core.display.HTML object>"
            ],
            "text/html": [
              "\n",
              "     <input type=\"file\" id=\"files-2b22f96a-6687-4565-9d0e-5213608b2d2f\" name=\"files[]\" multiple disabled\n",
              "        style=\"border:none\" />\n",
              "     <output id=\"result-2b22f96a-6687-4565-9d0e-5213608b2d2f\">\n",
              "      Upload widget is only available when the cell has been executed in the\n",
              "      current browser session. Please rerun this cell to enable.\n",
              "      </output>\n",
              "      <script src=\"/nbextensions/google.colab/files.js\"></script> "
            ]
          },
          "metadata": {}
        },
        {
          "output_type": "stream",
          "name": "stdout",
          "text": [
            "Saving airline_test__processed.csv to airline_test__processed (1).csv\n",
            "Saving airline_train__processed.csv to airline_train__processed (1).csv\n"
          ]
        }
      ]
    },
    {
      "cell_type": "code",
      "execution_count": 3,
      "metadata": {
        "id": "5pS5SwN1wxcu"
      },
      "outputs": [],
      "source": [
        "df_airline_train_processed = pd.read_csv('airline_train__processed.csv')\n",
        "df_airline_test_processed = pd.read_csv('airline_test__processed.csv')"
      ]
    },
    {
      "cell_type": "markdown",
      "metadata": {
        "id": "lR5eyavDwxcv"
      },
      "source": [
        "## Dataframes into variables"
      ]
    },
    {
      "cell_type": "code",
      "execution_count": 4,
      "metadata": {
        "id": "0ImdTCo-wxcv"
      },
      "outputs": [],
      "source": [
        "train_data = df_airline_train_processed\n",
        "val_data = df_airline_test_processed\n",
        "train_100_samples = train_data.sample(n=100, random_state=42)\n",
        "val_100_samples = val_data.sample(n=100, random_state=42)\n",
        "train_200_samples = train_data.sample(n=200, random_state=42)\n",
        "val_200_samples = val_data.sample(n=200, random_state=42)"
      ]
    },
    {
      "cell_type": "markdown",
      "metadata": {
        "id": "3lUqKjk-wxcv"
      },
      "source": [
        "## Support Vector Machine"
      ]
    },
    {
      "cell_type": "markdown",
      "metadata": {
        "id": "sD9dxHQhwxcv"
      },
      "source": [
        "### Train with 100 samples"
      ]
    },
    {
      "cell_type": "code",
      "execution_count": null,
      "metadata": {
        "id": "G8JotMOlwxcw",
        "outputId": "9970fcf2-863f-49e1-8976-84f561afdcd6"
      },
      "outputs": [
        {
          "name": "stdout",
          "output_type": "stream",
          "text": [
            "-- For kernel = linear C= 0.001 -- check\n",
            "-- For kernel = linear C= 0.2573846153846154 -- check\n",
            "-- For kernel = linear C= 0.5137692307692308 -- check\n",
            "-- For kernel = linear C= 0.7701538461538461 -- check\n",
            "-- For kernel = linear C= 1.0265384615384614 -- check\n",
            "-- For kernel = linear C= 1.2829230769230768 -- check\n",
            "-- For kernel = linear C= 1.539307692307692 -- check\n",
            "-- For kernel = linear C= 1.7956923076923075 -- check\n",
            "-- For kernel = linear C= 2.052076923076923 -- check\n",
            "-- For kernel = linear C= 2.3084615384615383 -- check\n",
            "-- For kernel = linear C= 2.5648461538461538 -- check\n",
            "-- For kernel = linear C= 2.821230769230769 -- check\n",
            "-- For kernel = linear C= 3.077615384615384 -- check\n",
            "-- For kernel = linear C= 3.3339999999999996 -- check\n",
            "-- For kernel = linear C= 3.590384615384615 -- check\n",
            "-- For kernel = linear C= 3.8467692307692305 -- check\n",
            "-- For kernel = linear C= 4.103153846153846 -- check\n",
            "-- For kernel = linear C= 4.359538461538461 -- check\n",
            "-- For kernel = linear C= 4.615923076923077 -- check\n",
            "-- For kernel = linear C= 4.872307692307692 -- check\n",
            "-- For kernel = linear C= 5.128692307692308 -- check\n",
            "-- For kernel = linear C= 5.385076923076923 -- check\n",
            "-- For kernel = linear C= 5.641461538461539 -- check\n",
            "-- For kernel = linear C= 5.897846153846154 -- check\n",
            "-- For kernel = linear C= 6.154230769230769 -- check\n",
            "-- For kernel = linear C= 6.410615384615385 -- check\n",
            "-- For kernel = linear C= 6.667 -- check\n",
            "-- For kernel = linear C= 6.923384615384616 -- check\n",
            "-- For kernel = linear C= 7.179769230769231 -- check\n",
            "-- For kernel = linear C= 7.436153846153847 -- check\n",
            "-- For kernel = linear C= 7.6925384615384615 -- check\n",
            "-- For kernel = linear C= 7.948923076923077 -- check\n",
            "-- For kernel = linear C= 8.205307692307692 -- check\n",
            "-- For kernel = linear C= 8.461692307692307 -- check\n",
            "-- For kernel = linear C= 8.718076923076922 -- check\n",
            "-- For kernel = linear C= 8.974461538461538 -- check\n",
            "-- For kernel = linear C= 9.230846153846153 -- check\n",
            "-- For kernel = linear C= 9.487230769230768 -- check\n",
            "-- For kernel = linear C= 9.743615384615383 -- check\n",
            "-- For kernel = linear C= 10.0 -- check\n",
            "-- For kernel = poly C= 0.001 -- check\n",
            "-- For kernel = poly C= 0.2573846153846154 -- check\n",
            "-- For kernel = poly C= 0.5137692307692308 -- check\n",
            "-- For kernel = poly C= 0.7701538461538461 -- check\n",
            "-- For kernel = poly C= 1.0265384615384614 -- check\n",
            "-- For kernel = poly C= 1.2829230769230768 -- check\n",
            "-- For kernel = poly C= 1.539307692307692 -- check\n",
            "-- For kernel = poly C= 1.7956923076923075 -- check\n",
            "-- For kernel = poly C= 2.052076923076923 -- check\n",
            "-- For kernel = poly C= 2.3084615384615383 -- check\n",
            "-- For kernel = poly C= 2.5648461538461538 -- check\n",
            "-- For kernel = poly C= 2.821230769230769 -- check\n",
            "-- For kernel = poly C= 3.077615384615384 -- check\n",
            "-- For kernel = poly C= 3.3339999999999996 -- check\n",
            "-- For kernel = poly C= 3.590384615384615 -- check\n",
            "-- For kernel = poly C= 3.8467692307692305 -- check\n",
            "-- For kernel = poly C= 4.103153846153846 -- check\n",
            "-- For kernel = poly C= 4.359538461538461 -- check\n",
            "-- For kernel = poly C= 4.615923076923077 -- check\n",
            "-- For kernel = poly C= 4.872307692307692 -- check\n",
            "-- For kernel = poly C= 5.128692307692308 -- check\n",
            "-- For kernel = poly C= 5.385076923076923 -- check\n",
            "-- For kernel = poly C= 5.641461538461539 -- check\n",
            "-- For kernel = poly C= 5.897846153846154 -- check\n",
            "-- For kernel = poly C= 6.154230769230769 -- check\n",
            "-- For kernel = poly C= 6.410615384615385 -- check\n",
            "-- For kernel = poly C= 6.667 -- check\n",
            "-- For kernel = poly C= 6.923384615384616 -- check\n",
            "-- For kernel = poly C= 7.179769230769231 -- check\n",
            "-- For kernel = poly C= 7.436153846153847 -- check\n",
            "-- For kernel = poly C= 7.6925384615384615 -- check\n",
            "-- For kernel = poly C= 7.948923076923077 -- check\n",
            "-- For kernel = poly C= 8.205307692307692 -- check\n",
            "-- For kernel = poly C= 8.461692307692307 -- check\n",
            "-- For kernel = poly C= 8.718076923076922 -- check\n",
            "-- For kernel = poly C= 8.974461538461538 -- check\n",
            "-- For kernel = poly C= 9.230846153846153 -- check\n",
            "-- For kernel = poly C= 9.487230769230768 -- check\n",
            "-- For kernel = poly C= 9.743615384615383 -- check\n",
            "-- For kernel = poly C= 10.0 -- check\n",
            "-- For kernel = rbf C= 0.001 -- check\n",
            "-- For kernel = rbf C= 0.2573846153846154 -- check\n",
            "-- For kernel = rbf C= 0.5137692307692308 -- check\n",
            "-- For kernel = rbf C= 0.7701538461538461 -- check\n",
            "-- For kernel = rbf C= 1.0265384615384614 -- check\n",
            "-- For kernel = rbf C= 1.2829230769230768 -- check\n",
            "-- For kernel = rbf C= 1.539307692307692 -- check\n",
            "-- For kernel = rbf C= 1.7956923076923075 -- check\n",
            "-- For kernel = rbf C= 2.052076923076923 -- check\n",
            "-- For kernel = rbf C= 2.3084615384615383 -- check\n",
            "-- For kernel = rbf C= 2.5648461538461538 -- check\n",
            "-- For kernel = rbf C= 2.821230769230769 -- check\n",
            "-- For kernel = rbf C= 3.077615384615384 -- check\n",
            "-- For kernel = rbf C= 3.3339999999999996 -- check\n",
            "-- For kernel = rbf C= 3.590384615384615 -- check\n",
            "-- For kernel = rbf C= 3.8467692307692305 -- check\n",
            "-- For kernel = rbf C= 4.103153846153846 -- check\n",
            "-- For kernel = rbf C= 4.359538461538461 -- check\n",
            "-- For kernel = rbf C= 4.615923076923077 -- check\n",
            "-- For kernel = rbf C= 4.872307692307692 -- check\n",
            "-- For kernel = rbf C= 5.128692307692308 -- check\n",
            "-- For kernel = rbf C= 5.385076923076923 -- check\n",
            "-- For kernel = rbf C= 5.641461538461539 -- check\n",
            "-- For kernel = rbf C= 5.897846153846154 -- check\n",
            "-- For kernel = rbf C= 6.154230769230769 -- check\n",
            "-- For kernel = rbf C= 6.410615384615385 -- check\n",
            "-- For kernel = rbf C= 6.667 -- check\n",
            "-- For kernel = rbf C= 6.923384615384616 -- check\n",
            "-- For kernel = rbf C= 7.179769230769231 -- check\n",
            "-- For kernel = rbf C= 7.436153846153847 -- check\n",
            "-- For kernel = rbf C= 7.6925384615384615 -- check\n",
            "-- For kernel = rbf C= 7.948923076923077 -- check\n",
            "-- For kernel = rbf C= 8.205307692307692 -- check\n",
            "-- For kernel = rbf C= 8.461692307692307 -- check\n",
            "-- For kernel = rbf C= 8.718076923076922 -- check\n",
            "-- For kernel = rbf C= 8.974461538461538 -- check\n",
            "-- For kernel = rbf C= 9.230846153846153 -- check\n",
            "-- For kernel = rbf C= 9.487230769230768 -- check\n",
            "-- For kernel = rbf C= 9.743615384615383 -- check\n",
            "-- For kernel = rbf C= 10.0 -- check\n"
          ]
        }
      ],
      "source": [
        "import warnings\n",
        "warnings.filterwarnings(\"ignore\")\n",
        "kernels_params = ['linear','poly','rbf']\n",
        "C_params = np.linspace(0.001,10,num=40)\n",
        "\n",
        "\n",
        "trainX_100 =  train_100_samples.loc[ : , train_100_samples.columns != 'satisfaction']\n",
        "valX_100 =  val_100_samples.loc[ : , val_100_samples.columns != 'satisfaction']\n",
        "trainY_100 = train_100_samples.loc[ : , train_100_samples.columns == 'satisfaction']\n",
        "valY_100 = val_100_samples.loc[ : , val_100_samples.columns == 'satisfaction']\n",
        "kernels = []\n",
        "Cs = []\n",
        "recalls = []\n",
        "accuracys_train = []\n",
        "accuracys_val = []\n",
        "recalls = []\n",
        "mean_cross_vals = []\n",
        "f1s = []\n",
        "for i in kernels_params:\n",
        "    for j in C_params:\n",
        "        svm_model = svm.SVC(kernel = i, C=j)\n",
        "        svm_model.fit(trainX_100,trainY_100)\n",
        "        svm_pred_train= svm_model.predict(trainX_100)\n",
        "        svm_pred_val = svm_model.predict(valX_100)\n",
        "        f1= f1_score(valY_100, svm_pred_val, average='macro')\n",
        "        accuracy_val = accuracy_score(valY_100,svm_pred_val)\n",
        "        accuracy_train = accuracy_score(trainY_100,svm_pred_train)\n",
        "        cross_val_scores = cross_val_score(svm_model, valX_100,valY_100,cv=5).mean()\n",
        "        recall = recall_score(valY_100,svm_pred_val)\n",
        "        kernels.append(i)\n",
        "        Cs.append(j)\n",
        "        recalls.append(recall)\n",
        "        accuracys_train.append(accuracy_train)\n",
        "        accuracys_val.append(accuracy_val)\n",
        "        mean_cross_vals.append(cross_val_scores)\n",
        "        f1s.append(f1)\n",
        "        print(\"-- For kernel = \" + str(i) + \" C= \"+ str(j) + \" -- check\")\n",
        "       \n"
      ]
    },
    {
      "cell_type": "code",
      "execution_count": null,
      "metadata": {
        "id": "cmNIvG69wxcx",
        "outputId": "f13d4e9c-3a0a-4d08-e765-62973ea84222"
      },
      "outputs": [
        {
          "data": {
            "text/html": [
              "<div>\n",
              "<style scoped>\n",
              "    .dataframe tbody tr th:only-of-type {\n",
              "        vertical-align: middle;\n",
              "    }\n",
              "\n",
              "    .dataframe tbody tr th {\n",
              "        vertical-align: top;\n",
              "    }\n",
              "\n",
              "    .dataframe thead th {\n",
              "        text-align: right;\n",
              "    }\n",
              "</style>\n",
              "<table border=\"1\" class=\"dataframe\">\n",
              "  <thead>\n",
              "    <tr style=\"text-align: right;\">\n",
              "      <th></th>\n",
              "      <th>Kernel parameter</th>\n",
              "      <th>C parameter</th>\n",
              "      <th>Accuracy Training set</th>\n",
              "      <th>Accuracy Validation set</th>\n",
              "      <th>Recall score</th>\n",
              "      <th>F1 score</th>\n",
              "      <th>Mean Cross Validation</th>\n",
              "    </tr>\n",
              "  </thead>\n",
              "  <tbody>\n",
              "    <tr>\n",
              "      <th>29</th>\n",
              "      <td>linear</td>\n",
              "      <td>7.436154</td>\n",
              "      <td>0.71</td>\n",
              "      <td>0.81</td>\n",
              "      <td>0.784314</td>\n",
              "      <td>0.809981</td>\n",
              "      <td>0.81</td>\n",
              "    </tr>\n",
              "    <tr>\n",
              "      <th>9</th>\n",
              "      <td>linear</td>\n",
              "      <td>2.308462</td>\n",
              "      <td>0.71</td>\n",
              "      <td>0.81</td>\n",
              "      <td>0.784314</td>\n",
              "      <td>0.809981</td>\n",
              "      <td>0.82</td>\n",
              "    </tr>\n",
              "    <tr>\n",
              "      <th>24</th>\n",
              "      <td>linear</td>\n",
              "      <td>6.154231</td>\n",
              "      <td>0.67</td>\n",
              "      <td>0.81</td>\n",
              "      <td>0.745098</td>\n",
              "      <td>0.809524</td>\n",
              "      <td>0.84</td>\n",
              "    </tr>\n",
              "    <tr>\n",
              "      <th>27</th>\n",
              "      <td>linear</td>\n",
              "      <td>6.923385</td>\n",
              "      <td>0.71</td>\n",
              "      <td>0.81</td>\n",
              "      <td>0.784314</td>\n",
              "      <td>0.809981</td>\n",
              "      <td>0.83</td>\n",
              "    </tr>\n",
              "    <tr>\n",
              "      <th>14</th>\n",
              "      <td>linear</td>\n",
              "      <td>3.590385</td>\n",
              "      <td>0.71</td>\n",
              "      <td>0.81</td>\n",
              "      <td>0.784314</td>\n",
              "      <td>0.809981</td>\n",
              "      <td>0.80</td>\n",
              "    </tr>\n",
              "    <tr>\n",
              "      <th>...</th>\n",
              "      <td>...</td>\n",
              "      <td>...</td>\n",
              "      <td>...</td>\n",
              "      <td>...</td>\n",
              "      <td>...</td>\n",
              "      <td>...</td>\n",
              "      <td>...</td>\n",
              "    </tr>\n",
              "    <tr>\n",
              "      <th>65</th>\n",
              "      <td>poly</td>\n",
              "      <td>6.410615</td>\n",
              "      <td>0.61</td>\n",
              "      <td>0.49</td>\n",
              "      <td>0.000000</td>\n",
              "      <td>0.328859</td>\n",
              "      <td>0.43</td>\n",
              "    </tr>\n",
              "    <tr>\n",
              "      <th>64</th>\n",
              "      <td>poly</td>\n",
              "      <td>6.154231</td>\n",
              "      <td>0.61</td>\n",
              "      <td>0.49</td>\n",
              "      <td>0.000000</td>\n",
              "      <td>0.328859</td>\n",
              "      <td>0.43</td>\n",
              "    </tr>\n",
              "    <tr>\n",
              "      <th>63</th>\n",
              "      <td>poly</td>\n",
              "      <td>5.897846</td>\n",
              "      <td>0.61</td>\n",
              "      <td>0.49</td>\n",
              "      <td>0.000000</td>\n",
              "      <td>0.328859</td>\n",
              "      <td>0.43</td>\n",
              "    </tr>\n",
              "    <tr>\n",
              "      <th>62</th>\n",
              "      <td>poly</td>\n",
              "      <td>5.641462</td>\n",
              "      <td>0.61</td>\n",
              "      <td>0.49</td>\n",
              "      <td>0.000000</td>\n",
              "      <td>0.328859</td>\n",
              "      <td>0.43</td>\n",
              "    </tr>\n",
              "    <tr>\n",
              "      <th>119</th>\n",
              "      <td>rbf</td>\n",
              "      <td>10.000000</td>\n",
              "      <td>0.61</td>\n",
              "      <td>0.49</td>\n",
              "      <td>0.000000</td>\n",
              "      <td>0.328859</td>\n",
              "      <td>0.51</td>\n",
              "    </tr>\n",
              "  </tbody>\n",
              "</table>\n",
              "<p>120 rows × 7 columns</p>\n",
              "</div>"
            ],
            "text/plain": [
              "    Kernel parameter  C parameter  Accuracy Training set  \\\n",
              "29            linear     7.436154                   0.71   \n",
              "9             linear     2.308462                   0.71   \n",
              "24            linear     6.154231                   0.67   \n",
              "27            linear     6.923385                   0.71   \n",
              "14            linear     3.590385                   0.71   \n",
              "..               ...          ...                    ...   \n",
              "65              poly     6.410615                   0.61   \n",
              "64              poly     6.154231                   0.61   \n",
              "63              poly     5.897846                   0.61   \n",
              "62              poly     5.641462                   0.61   \n",
              "119              rbf    10.000000                   0.61   \n",
              "\n",
              "     Accuracy Validation set  Recall score  F1 score  Mean Cross Validation  \n",
              "29                      0.81      0.784314  0.809981                   0.81  \n",
              "9                       0.81      0.784314  0.809981                   0.82  \n",
              "24                      0.81      0.745098  0.809524                   0.84  \n",
              "27                      0.81      0.784314  0.809981                   0.83  \n",
              "14                      0.81      0.784314  0.809981                   0.80  \n",
              "..                       ...           ...       ...                    ...  \n",
              "65                      0.49      0.000000  0.328859                   0.43  \n",
              "64                      0.49      0.000000  0.328859                   0.43  \n",
              "63                      0.49      0.000000  0.328859                   0.43  \n",
              "62                      0.49      0.000000  0.328859                   0.43  \n",
              "119                     0.49      0.000000  0.328859                   0.51  \n",
              "\n",
              "[120 rows x 7 columns]"
            ]
          },
          "execution_count": 17,
          "metadata": {},
          "output_type": "execute_result"
        }
      ],
      "source": [
        "analyse = {'Kernel parameter': kernels ,\n",
        "        'C parameter': Cs,\n",
        "        'Accuracy Training set': accuracys_train,\n",
        "        'Accuracy Validation set': accuracys_val,\n",
        "        'Recall score': recalls,\n",
        "        'F1 score': f1s,\n",
        "        'Mean Cross Validation': mean_cross_vals,\n",
        "        }\n",
        "\n",
        "analyses_100_samples = pd.DataFrame(analyse)\n",
        "analyses_100_samples.sort_values(by=['Accuracy Validation set'],ascending=False)"
      ]
    },
    {
      "cell_type": "code",
      "execution_count": 58,
      "metadata": {
        "id": "K7oBLg2fwxcx"
      },
      "outputs": [],
      "source": [
        "import warnings\n",
        "warnings.filterwarnings(\"ignore\")\n",
        "train_dataX= train_data.loc[ : , train_data.columns != 'satisfaction']\n",
        "train_dataY= train_data.loc[ : , train_data.columns == 'satisfaction']\n",
        "val_dataX= val_data.loc[ : , val_data.columns != 'satisfaction']\n",
        "val_dataY= val_data.loc[ : , val_data.columns == 'satisfaction']\n",
        "svm_best = BaggingClassifier(LinearSVC(C= 6.923385), max_samples=1.0 / 10, n_estimators=10, n_jobs=-1)\n",
        "svm_best.fit(train_dataX,train_dataY)\n",
        "svm_pred_train= svm_best.predict(train_dataX)\n",
        "svm_pred_val = svm_best.predict(val_dataX)\n",
        "f1= f1_score(val_dataY, svm_pred_val, average='macro')\n",
        "accuracy_val = accuracy_score(val_dataY,svm_pred_val)\n",
        "accuracy_train = accuracy_score(train_dataY,svm_pred_train)\n",
        "cross_val_scores = cross_val_score(svm_best, val_dataX,val_dataY,cv=5).mean()\n",
        "recall = recall_score(val_dataY,svm_pred_val)"
      ]
    },
    {
      "cell_type": "code",
      "execution_count": 10,
      "metadata": {
        "id": "S2GWGNPNwxcy"
      },
      "outputs": [],
      "source": [
        "analyse_best_one_svm = {'Kernel parameter': np.array(['linear']) ,\n",
        "        'C parameter': np.array([6.923385]) ,\n",
        "        'Accuracy Training set': np.array([accuracy_train]),\n",
        "        'Accuracy Validation set': np.array([accuracy_val]),\n",
        "        'Recall score': np.array([recall]),\n",
        "        'F1 score': np.array([f1]),\n",
        "        'Mean Cross Validation': np.array([cross_val_scores]),\n",
        "        }\n",
        "\n",
        "analyse_best_one = pd.DataFrame(analyse_best_one_svm)"
      ]
    },
    {
      "cell_type": "code",
      "source": [
        "analyse_best_one"
      ],
      "metadata": {
        "colab": {
          "base_uri": "https://localhost:8080/",
          "height": 142
        },
        "id": "Fxydn7LjE8qf",
        "outputId": "60a48569-2379-41df-edee-c34859443b96"
      },
      "execution_count": 11,
      "outputs": [
        {
          "output_type": "execute_result",
          "data": {
            "text/plain": [
              "  Kernel parameter  C parameter  Accuracy Training set  \\\n",
              "0           linear     6.923385               0.758032   \n",
              "\n",
              "   Accuracy Validation set  Recall score  F1 score  Mean Cross Validation  \n",
              "0                  0.75753      0.674723  0.750794               0.670327  "
            ],
            "text/html": [
              "\n",
              "  <div id=\"df-6438b685-5030-4923-a33a-159ca7a178de\">\n",
              "    <div class=\"colab-df-container\">\n",
              "      <div>\n",
              "<style scoped>\n",
              "    .dataframe tbody tr th:only-of-type {\n",
              "        vertical-align: middle;\n",
              "    }\n",
              "\n",
              "    .dataframe tbody tr th {\n",
              "        vertical-align: top;\n",
              "    }\n",
              "\n",
              "    .dataframe thead th {\n",
              "        text-align: right;\n",
              "    }\n",
              "</style>\n",
              "<table border=\"1\" class=\"dataframe\">\n",
              "  <thead>\n",
              "    <tr style=\"text-align: right;\">\n",
              "      <th></th>\n",
              "      <th>Kernel parameter</th>\n",
              "      <th>C parameter</th>\n",
              "      <th>Accuracy Training set</th>\n",
              "      <th>Accuracy Validation set</th>\n",
              "      <th>Recall score</th>\n",
              "      <th>F1 score</th>\n",
              "      <th>Mean Cross Validation</th>\n",
              "    </tr>\n",
              "  </thead>\n",
              "  <tbody>\n",
              "    <tr>\n",
              "      <th>0</th>\n",
              "      <td>linear</td>\n",
              "      <td>6.923385</td>\n",
              "      <td>0.758032</td>\n",
              "      <td>0.75753</td>\n",
              "      <td>0.674723</td>\n",
              "      <td>0.750794</td>\n",
              "      <td>0.670327</td>\n",
              "    </tr>\n",
              "  </tbody>\n",
              "</table>\n",
              "</div>\n",
              "      <button class=\"colab-df-convert\" onclick=\"convertToInteractive('df-6438b685-5030-4923-a33a-159ca7a178de')\"\n",
              "              title=\"Convert this dataframe to an interactive table.\"\n",
              "              style=\"display:none;\">\n",
              "        \n",
              "  <svg xmlns=\"http://www.w3.org/2000/svg\" height=\"24px\"viewBox=\"0 0 24 24\"\n",
              "       width=\"24px\">\n",
              "    <path d=\"M0 0h24v24H0V0z\" fill=\"none\"/>\n",
              "    <path d=\"M18.56 5.44l.94 2.06.94-2.06 2.06-.94-2.06-.94-.94-2.06-.94 2.06-2.06.94zm-11 1L8.5 8.5l.94-2.06 2.06-.94-2.06-.94L8.5 2.5l-.94 2.06-2.06.94zm10 10l.94 2.06.94-2.06 2.06-.94-2.06-.94-.94-2.06-.94 2.06-2.06.94z\"/><path d=\"M17.41 7.96l-1.37-1.37c-.4-.4-.92-.59-1.43-.59-.52 0-1.04.2-1.43.59L10.3 9.45l-7.72 7.72c-.78.78-.78 2.05 0 2.83L4 21.41c.39.39.9.59 1.41.59.51 0 1.02-.2 1.41-.59l7.78-7.78 2.81-2.81c.8-.78.8-2.07 0-2.86zM5.41 20L4 18.59l7.72-7.72 1.47 1.35L5.41 20z\"/>\n",
              "  </svg>\n",
              "      </button>\n",
              "      \n",
              "  <style>\n",
              "    .colab-df-container {\n",
              "      display:flex;\n",
              "      flex-wrap:wrap;\n",
              "      gap: 12px;\n",
              "    }\n",
              "\n",
              "    .colab-df-convert {\n",
              "      background-color: #E8F0FE;\n",
              "      border: none;\n",
              "      border-radius: 50%;\n",
              "      cursor: pointer;\n",
              "      display: none;\n",
              "      fill: #1967D2;\n",
              "      height: 32px;\n",
              "      padding: 0 0 0 0;\n",
              "      width: 32px;\n",
              "    }\n",
              "\n",
              "    .colab-df-convert:hover {\n",
              "      background-color: #E2EBFA;\n",
              "      box-shadow: 0px 1px 2px rgba(60, 64, 67, 0.3), 0px 1px 3px 1px rgba(60, 64, 67, 0.15);\n",
              "      fill: #174EA6;\n",
              "    }\n",
              "\n",
              "    [theme=dark] .colab-df-convert {\n",
              "      background-color: #3B4455;\n",
              "      fill: #D2E3FC;\n",
              "    }\n",
              "\n",
              "    [theme=dark] .colab-df-convert:hover {\n",
              "      background-color: #434B5C;\n",
              "      box-shadow: 0px 1px 3px 1px rgba(0, 0, 0, 0.15);\n",
              "      filter: drop-shadow(0px 1px 2px rgba(0, 0, 0, 0.3));\n",
              "      fill: #FFFFFF;\n",
              "    }\n",
              "  </style>\n",
              "\n",
              "      <script>\n",
              "        const buttonEl =\n",
              "          document.querySelector('#df-6438b685-5030-4923-a33a-159ca7a178de button.colab-df-convert');\n",
              "        buttonEl.style.display =\n",
              "          google.colab.kernel.accessAllowed ? 'block' : 'none';\n",
              "\n",
              "        async function convertToInteractive(key) {\n",
              "          const element = document.querySelector('#df-6438b685-5030-4923-a33a-159ca7a178de');\n",
              "          const dataTable =\n",
              "            await google.colab.kernel.invokeFunction('convertToInteractive',\n",
              "                                                     [key], {});\n",
              "          if (!dataTable) return;\n",
              "\n",
              "          const docLinkHtml = 'Like what you see? Visit the ' +\n",
              "            '<a target=\"_blank\" href=https://colab.research.google.com/notebooks/data_table.ipynb>data table notebook</a>'\n",
              "            + ' to learn more about interactive tables.';\n",
              "          element.innerHTML = '';\n",
              "          dataTable['output_type'] = 'display_data';\n",
              "          await google.colab.output.renderOutput(dataTable, element);\n",
              "          const docLink = document.createElement('div');\n",
              "          docLink.innerHTML = docLinkHtml;\n",
              "          element.appendChild(docLink);\n",
              "        }\n",
              "      </script>\n",
              "    </div>\n",
              "  </div>\n",
              "  "
            ]
          },
          "metadata": {},
          "execution_count": 11
        }
      ]
    },
    {
      "cell_type": "code",
      "source": [
        "cf_matrix_svm= confusion_matrix(val_dataY, svm_pred_val)\n",
        "\n",
        "ax = sns.heatmap(cf_matrix_svm,annot = True,fmt = 'g', cmap='Blues')\n",
        "\n",
        "ax.set_title('Confusion Matrix SVM best algorithms\\n\\n');\n",
        "ax.set_xlabel('\\nPredicted Values')\n",
        "ax.set_ylabel('Actual Values ');\n",
        "\n",
        "\n",
        "ax.xaxis.set_ticklabels(['False','True'])\n",
        "ax.yaxis.set_ticklabels(['False','True'])\n",
        "\n",
        "\n",
        "plt.show()"
      ],
      "metadata": {
        "colab": {
          "base_uri": "https://localhost:8080/",
          "height": 337
        },
        "id": "X1a68gBfTXV6",
        "outputId": "81b58104-5fc9-42b4-db69-d3a8a6c096c9"
      },
      "execution_count": 59,
      "outputs": [
        {
          "output_type": "display_data",
          "data": {
            "text/plain": [
              "<Figure size 432x288 with 2 Axes>"
            ],
            "image/png": "[encoded data removed]"
          },
          "metadata": {
            "needs_background": "light"
          }
        }
      ]
    },
    {
      "cell_type": "code",
      "source": [
        "print(\"% of True elements well classified: \", 9237/(8528+2058))\n",
        "print(\"% of False elements well classified: \", 11194/(11194+3209))"
      ],
      "metadata": {
        "colab": {
          "base_uri": "https://localhost:8080/"
        },
        "id": "YZrOnBu-TiL5",
        "outputId": "860af0c0-f8ac-496e-b381-9c7713e815bd"
      },
      "execution_count": 60,
      "outputs": [
        {
          "output_type": "stream",
          "name": "stdout",
          "text": [
            "% of True elements well classified:  0.8725675420366522\n",
            "% of False elements well classified:  0.7771991946122335\n"
          ]
        }
      ]
    },
    {
      "cell_type": "code",
      "source": [
        "svm_best = BaggingClassifier(LinearSVC(C= 6.154231), max_samples=1.0 / 10, n_estimators=10, n_jobs=-1)\n",
        "svm_best.fit(train_dataX,train_dataY)\n",
        "svm_pred_train= svm_best.predict(train_dataX)\n",
        "svm_pred_val = svm_best.predict(val_dataX)\n",
        "f1= f1_score(val_dataY, svm_pred_val, average='macro')\n",
        "accuracy_val = accuracy_score(val_dataY,svm_pred_val)\n",
        "accuracy_train = accuracy_score(train_dataY,svm_pred_train)\n",
        "cross_val_scores = cross_val_score(svm_best, val_dataX,val_dataY,cv=5).mean()\n",
        "recall = recall_score(val_dataY,svm_pred_val)"
      ],
      "metadata": {
        "id": "poPlxTnXFNCO"
      },
      "execution_count": 18,
      "outputs": []
    },
    {
      "cell_type": "code",
      "source": [
        "analyse_best_two_svm = {'Kernel parameter': np.array(['linear']) ,\n",
        "        'C parameter': np.array([6.154231]) ,\n",
        "        'Accuracy Training set': np.array([accuracy_train]),\n",
        "        'Accuracy Validation set': np.array([accuracy_val]),\n",
        "        'Recall score': np.array([recall]),\n",
        "        'F1 score': np.array([f1]),\n",
        "        'Mean Cross Validation': np.array([cross_val_scores]),\n",
        "        }\n",
        "\n",
        "analyse_best_two = pd.DataFrame(analyse_best_two_svm)"
      ],
      "metadata": {
        "id": "tHdjxbfHFiKr"
      },
      "execution_count": 19,
      "outputs": []
    },
    {
      "cell_type": "code",
      "source": [
        "analyse_best_two"
      ],
      "metadata": {
        "colab": {
          "base_uri": "https://localhost:8080/",
          "height": 142
        },
        "id": "W15yjdqGF7DZ",
        "outputId": "5b67b6df-18a2-46c9-99c0-f19879a5a6c4"
      },
      "execution_count": 20,
      "outputs": [
        {
          "output_type": "execute_result",
          "data": {
            "text/plain": [
              "  Kernel parameter  C parameter  Accuracy Training set  \\\n",
              "0           linear     6.154231               0.679137   \n",
              "\n",
              "   Accuracy Validation set  Recall score  F1 score  Mean Cross Validation  \n",
              "0                 0.800374      0.755024  0.796574               0.684329  "
            ],
            "text/html": [
              "\n",
              "  <div id=\"df-a94c25d9-aa5d-43ea-8003-1d6891df4c73\">\n",
              "    <div class=\"colab-df-container\">\n",
              "      <div>\n",
              "<style scoped>\n",
              "    .dataframe tbody tr th:only-of-type {\n",
              "        vertical-align: middle;\n",
              "    }\n",
              "\n",
              "    .dataframe tbody tr th {\n",
              "        vertical-align: top;\n",
              "    }\n",
              "\n",
              "    .dataframe thead th {\n",
              "        text-align: right;\n",
              "    }\n",
              "</style>\n",
              "<table border=\"1\" class=\"dataframe\">\n",
              "  <thead>\n",
              "    <tr style=\"text-align: right;\">\n",
              "      <th></th>\n",
              "      <th>Kernel parameter</th>\n",
              "      <th>C parameter</th>\n",
              "      <th>Accuracy Training set</th>\n",
              "      <th>Accuracy Validation set</th>\n",
              "      <th>Recall score</th>\n",
              "      <th>F1 score</th>\n",
              "      <th>Mean Cross Validation</th>\n",
              "    </tr>\n",
              "  </thead>\n",
              "  <tbody>\n",
              "    <tr>\n",
              "      <th>0</th>\n",
              "      <td>linear</td>\n",
              "      <td>6.154231</td>\n",
              "      <td>0.679137</td>\n",
              "      <td>0.800374</td>\n",
              "      <td>0.755024</td>\n",
              "      <td>0.796574</td>\n",
              "      <td>0.684329</td>\n",
              "    </tr>\n",
              "  </tbody>\n",
              "</table>\n",
              "</div>\n",
              "      <button class=\"colab-df-convert\" onclick=\"convertToInteractive('df-a94c25d9-aa5d-43ea-8003-1d6891df4c73')\"\n",
              "              title=\"Convert this dataframe to an interactive table.\"\n",
              "              style=\"display:none;\">\n",
              "        \n",
              "  <svg xmlns=\"http://www.w3.org/2000/svg\" height=\"24px\"viewBox=\"0 0 24 24\"\n",
              "       width=\"24px\">\n",
              "    <path d=\"M0 0h24v24H0V0z\" fill=\"none\"/>\n",
              "    <path d=\"M18.56 5.44l.94 2.06.94-2.06 2.06-.94-2.06-.94-.94-2.06-.94 2.06-2.06.94zm-11 1L8.5 8.5l.94-2.06 2.06-.94-2.06-.94L8.5 2.5l-.94 2.06-2.06.94zm10 10l.94 2.06.94-2.06 2.06-.94-2.06-.94-.94-2.06-.94 2.06-2.06.94z\"/><path d=\"M17.41 7.96l-1.37-1.37c-.4-.4-.92-.59-1.43-.59-.52 0-1.04.2-1.43.59L10.3 9.45l-7.72 7.72c-.78.78-.78 2.05 0 2.83L4 21.41c.39.39.9.59 1.41.59.51 0 1.02-.2 1.41-.59l7.78-7.78 2.81-2.81c.8-.78.8-2.07 0-2.86zM5.41 20L4 18.59l7.72-7.72 1.47 1.35L5.41 20z\"/>\n",
              "  </svg>\n",
              "      </button>\n",
              "      \n",
              "  <style>\n",
              "    .colab-df-container {\n",
              "      display:flex;\n",
              "      flex-wrap:wrap;\n",
              "      gap: 12px;\n",
              "    }\n",
              "\n",
              "    .colab-df-convert {\n",
              "      background-color: #E8F0FE;\n",
              "      border: none;\n",
              "      border-radius: 50%;\n",
              "      cursor: pointer;\n",
              "      display: none;\n",
              "      fill: #1967D2;\n",
              "      height: 32px;\n",
              "      padding: 0 0 0 0;\n",
              "      width: 32px;\n",
              "    }\n",
              "\n",
              "    .colab-df-convert:hover {\n",
              "      background-color: #E2EBFA;\n",
              "      box-shadow: 0px 1px 2px rgba(60, 64, 67, 0.3), 0px 1px 3px 1px rgba(60, 64, 67, 0.15);\n",
              "      fill: #174EA6;\n",
              "    }\n",
              "\n",
              "    [theme=dark] .colab-df-convert {\n",
              "      background-color: #3B4455;\n",
              "      fill: #D2E3FC;\n",
              "    }\n",
              "\n",
              "    [theme=dark] .colab-df-convert:hover {\n",
              "      background-color: #434B5C;\n",
              "      box-shadow: 0px 1px 3px 1px rgba(0, 0, 0, 0.15);\n",
              "      filter: drop-shadow(0px 1px 2px rgba(0, 0, 0, 0.3));\n",
              "      fill: #FFFFFF;\n",
              "    }\n",
              "  </style>\n",
              "\n",
              "      <script>\n",
              "        const buttonEl =\n",
              "          document.querySelector('#df-a94c25d9-aa5d-43ea-8003-1d6891df4c73 button.colab-df-convert');\n",
              "        buttonEl.style.display =\n",
              "          google.colab.kernel.accessAllowed ? 'block' : 'none';\n",
              "\n",
              "        async function convertToInteractive(key) {\n",
              "          const element = document.querySelector('#df-a94c25d9-aa5d-43ea-8003-1d6891df4c73');\n",
              "          const dataTable =\n",
              "            await google.colab.kernel.invokeFunction('convertToInteractive',\n",
              "                                                     [key], {});\n",
              "          if (!dataTable) return;\n",
              "\n",
              "          const docLinkHtml = 'Like what you see? Visit the ' +\n",
              "            '<a target=\"_blank\" href=https://colab.research.google.com/notebooks/data_table.ipynb>data table notebook</a>'\n",
              "            + ' to learn more about interactive tables.';\n",
              "          element.innerHTML = '';\n",
              "          dataTable['output_type'] = 'display_data';\n",
              "          await google.colab.output.renderOutput(dataTable, element);\n",
              "          const docLink = document.createElement('div');\n",
              "          docLink.innerHTML = docLinkHtml;\n",
              "          element.appendChild(docLink);\n",
              "        }\n",
              "      </script>\n",
              "    </div>\n",
              "  </div>\n",
              "  "
            ]
          },
          "metadata": {},
          "execution_count": 20
        }
      ]
    },
    {
      "cell_type": "code",
      "source": [
        "cf_matrix_svm_2= confusion_matrix(val_dataY, svm_pred_val)\n",
        "\n",
        "ax = sns.heatmap(cf_matrix_svm_2,annot = True,fmt = 'g', cmap='Blues')\n",
        "\n",
        "ax.set_title('Confusion Matrix SVM best algorithms\\n\\n');\n",
        "ax.set_xlabel('\\nPredicted Values')\n",
        "ax.set_ylabel('Actual Values ');\n",
        "\n",
        "\n",
        "ax.xaxis.set_ticklabels(['False','True'])\n",
        "ax.yaxis.set_ticklabels(['False','True'])\n",
        "\n",
        "\n",
        "plt.show()"
      ],
      "metadata": {
        "colab": {
          "base_uri": "https://localhost:8080/",
          "height": 337
        },
        "id": "2QnK1QkSSlJ-",
        "outputId": "88d5d361-fe60-4e56-d652-32ff56e992a5"
      },
      "execution_count": 57,
      "outputs": [
        {
          "output_type": "display_data",
          "data": {
            "text/plain": [
              "<Figure size 432x288 with 2 Axes>"
            ],
            "image/png": "[encoded data removed]"
          },
          "metadata": {
            "needs_background": "light"
          }
        }
      ]
    },
    {
      "cell_type": "code",
      "source": [
        "print(\"% of True elements well classified: \", 8528/(8528+2767))\n",
        "print(\"% of False elements well classified: \", 12040/(12040+2363))"
      ],
      "metadata": {
        "colab": {
          "base_uri": "https://localhost:8080/"
        },
        "id": "7ttHAji0S1kD",
        "outputId": "98e38a0a-4add-4305-ea86-08d5713146ec"
      },
      "execution_count": 56,
      "outputs": [
        {
          "output_type": "stream",
          "name": "stdout",
          "text": [
            "% of True elements well classified:  0.7550243470562196\n",
            "% of False elements well classified:  0.8359369575782823\n"
          ]
        }
      ]
    },
    {
      "cell_type": "markdown",
      "metadata": {
        "id": "b-zhgbdlwxcy"
      },
      "source": [
        "## Gradient Boosting"
      ]
    },
    {
      "cell_type": "code",
      "execution_count": 24,
      "metadata": {
        "id": "BKXUNx4nwxcy"
      },
      "outputs": [],
      "source": [
        "trainX_100 =  train_100_samples.loc[ : , train_100_samples.columns != 'satisfaction']\n",
        "valX_100 =  val_100_samples.loc[ : , val_100_samples.columns != 'satisfaction']\n",
        "trainY_100 = train_100_samples.loc[ : , train_100_samples.columns == 'satisfaction']\n",
        "valY_100 = val_100_samples.loc[ : , val_100_samples.columns == 'satisfaction']\n",
        "\n",
        "estimators_param = [100,200,300,400,500]\n",
        "maxDepth_param = np.linspace(1, 4, num = 4, dtype=int)\n",
        "alpha_param = np.linspace(0, 1, num = 7)\n",
        "estimators = []\n",
        "maxDepths = []\n",
        "alphas = []\n",
        "recalls = []\n",
        "accuracys_train = []\n",
        "accuracys_val = []\n",
        "recalls = []\n",
        "mean_cross_vals = []\n",
        "f1s = []\n",
        "for i in estimators_param:\n",
        "    for j in maxDepth_param:\n",
        "        for k in alpha_param:\n",
        "            xgboost = XGBClassifier(max_depth=j, reg_alpha=k, n_estimators=i)\n",
        "            xgboost.fit(trainX_100,trainY_100)\n",
        "            xgboost_train= xgboost.predict(trainX_100)\n",
        "            xgboost_val = xgboost.predict(valX_100)\n",
        "            f1= f1_score(valY_100, xgboost_val, average='macro')\n",
        "            accuracy_val = accuracy_score(valY_100,xgboost_val)\n",
        "            accuracy_train = accuracy_score(trainY_100,xgboost_train)\n",
        "            cross_val_scores = cross_val_score(xgboost, valX_100,valY_100,cv=5).mean()\n",
        "            recall = recall_score(valY_100,xgboost_val)\n",
        "            estimators.append(i)\n",
        "            maxDepths.append(j)\n",
        "            alphas.append(k)\n",
        "            recalls.append(recall)\n",
        "            accuracys_train.append(accuracy_train)\n",
        "            accuracys_val.append(accuracy_val)\n",
        "            mean_cross_vals.append(cross_val_scores)\n",
        "            f1s.append(f1)\n",
        "            \n",
        "       \n",
        "            "
      ]
    },
    {
      "cell_type": "code",
      "source": [
        "analyse_best_one_xgboost =  {'Estimators parameter': estimators ,\n",
        "        'Max Depth parameter': maxDepths,\n",
        "        'Alpha parameter': alphas,\n",
        "        'Accuracy Training set': accuracys_train,\n",
        "        'Accuracy Validation set': accuracys_val,\n",
        "        'Recall score': recalls,\n",
        "        'F1 score': f1s,\n",
        "        'Mean Cross Validation': mean_cross_vals,\n",
        "        }\n",
        "\n",
        "analyses_xbg_100_samples = pd.DataFrame(analyse_best_one_xgboost)\n",
        "analyses_xbg_100_samples.sort_values(by=['Accuracy Validation set'],ascending=False)\n"
      ],
      "metadata": {
        "colab": {
          "base_uri": "https://localhost:8080/",
          "height": 485
        },
        "id": "4mFqNGpM7h-A",
        "outputId": "79ff280f-c59f-47e6-bec5-e8ad0b72eb3b"
      },
      "execution_count": 25,
      "outputs": [
        {
          "output_type": "execute_result",
          "data": {
            "text/plain": [
              "     Estimators parameter  Max Depth parameter  Alpha parameter  \\\n",
              "93                    400                    2         0.333333   \n",
              "104                   400                    3         1.000000   \n",
              "122                   500                    2         0.500000   \n",
              "20                    100                    3         1.000000   \n",
              "48                    200                    3         1.000000   \n",
              "..                    ...                  ...              ...   \n",
              "59                    300                    1         0.500000   \n",
              "116                   500                    1         0.666667   \n",
              "31                    200                    1         0.500000   \n",
              "30                    200                    1         0.333333   \n",
              "62                    300                    1         1.000000   \n",
              "\n",
              "     Accuracy Training set  Accuracy Validation set  Recall score  F1 score  \\\n",
              "93                    1.00                     0.93      0.901961  0.929993   \n",
              "104                   1.00                     0.93      0.882353  0.929937   \n",
              "122                   1.00                     0.93      0.901961  0.929993   \n",
              "20                    1.00                     0.93      0.882353  0.929937   \n",
              "48                    1.00                     0.93      0.882353  0.929937   \n",
              "..                     ...                      ...           ...       ...   \n",
              "59                    0.95                     0.89      0.843137  0.889901   \n",
              "116                   0.95                     0.89      0.843137  0.889901   \n",
              "31                    0.95                     0.88      0.823529  0.879808   \n",
              "30                    0.95                     0.88      0.823529  0.879808   \n",
              "62                    0.95                     0.88      0.823529  0.879808   \n",
              "\n",
              "     Mean Cross Validation  \n",
              "93                    0.92  \n",
              "104                   0.92  \n",
              "122                   0.93  \n",
              "20                    0.91  \n",
              "48                    0.92  \n",
              "..                     ...  \n",
              "59                    0.92  \n",
              "116                   0.92  \n",
              "31                    0.92  \n",
              "30                    0.91  \n",
              "62                    0.89  \n",
              "\n",
              "[140 rows x 8 columns]"
            ],
            "text/html": [
              "\n",
              "  <div id=\"df-7602c95c-f0df-4ac6-a74a-97841034d370\">\n",
              "    <div class=\"colab-df-container\">\n",
              "      <div>\n",
              "<style scoped>\n",
              "    .dataframe tbody tr th:only-of-type {\n",
              "        vertical-align: middle;\n",
              "    }\n",
              "\n",
              "    .dataframe tbody tr th {\n",
              "        vertical-align: top;\n",
              "    }\n",
              "\n",
              "    .dataframe thead th {\n",
              "        text-align: right;\n",
              "    }\n",
              "</style>\n",
              "<table border=\"1\" class=\"dataframe\">\n",
              "  <thead>\n",
              "    <tr style=\"text-align: right;\">\n",
              "      <th></th>\n",
              "      <th>Estimators parameter</th>\n",
              "      <th>Max Depth parameter</th>\n",
              "      <th>Alpha parameter</th>\n",
              "      <th>Accuracy Training set</th>\n",
              "      <th>Accuracy Validation set</th>\n",
              "      <th>Recall score</th>\n",
              "      <th>F1 score</th>\n",
              "      <th>Mean Cross Validation</th>\n",
              "    </tr>\n",
              "  </thead>\n",
              "  <tbody>\n",
              "    <tr>\n",
              "      <th>93</th>\n",
              "      <td>400</td>\n",
              "      <td>2</td>\n",
              "      <td>0.333333</td>\n",
              "      <td>1.00</td>\n",
              "      <td>0.93</td>\n",
              "      <td>0.901961</td>\n",
              "      <td>0.929993</td>\n",
              "      <td>0.92</td>\n",
              "    </tr>\n",
              "    <tr>\n",
              "      <th>104</th>\n",
              "      <td>400</td>\n",
              "      <td>3</td>\n",
              "      <td>1.000000</td>\n",
              "      <td>1.00</td>\n",
              "      <td>0.93</td>\n",
              "      <td>0.882353</td>\n",
              "      <td>0.929937</td>\n",
              "      <td>0.92</td>\n",
              "    </tr>\n",
              "    <tr>\n",
              "      <th>122</th>\n",
              "      <td>500</td>\n",
              "      <td>2</td>\n",
              "      <td>0.500000</td>\n",
              "      <td>1.00</td>\n",
              "      <td>0.93</td>\n",
              "      <td>0.901961</td>\n",
              "      <td>0.929993</td>\n",
              "      <td>0.93</td>\n",
              "    </tr>\n",
              "    <tr>\n",
              "      <th>20</th>\n",
              "      <td>100</td>\n",
              "      <td>3</td>\n",
              "      <td>1.000000</td>\n",
              "      <td>1.00</td>\n",
              "      <td>0.93</td>\n",
              "      <td>0.882353</td>\n",
              "      <td>0.929937</td>\n",
              "      <td>0.91</td>\n",
              "    </tr>\n",
              "    <tr>\n",
              "      <th>48</th>\n",
              "      <td>200</td>\n",
              "      <td>3</td>\n",
              "      <td>1.000000</td>\n",
              "      <td>1.00</td>\n",
              "      <td>0.93</td>\n",
              "      <td>0.882353</td>\n",
              "      <td>0.929937</td>\n",
              "      <td>0.92</td>\n",
              "    </tr>\n",
              "    <tr>\n",
              "      <th>...</th>\n",
              "      <td>...</td>\n",
              "      <td>...</td>\n",
              "      <td>...</td>\n",
              "      <td>...</td>\n",
              "      <td>...</td>\n",
              "      <td>...</td>\n",
              "      <td>...</td>\n",
              "      <td>...</td>\n",
              "    </tr>\n",
              "    <tr>\n",
              "      <th>59</th>\n",
              "      <td>300</td>\n",
              "      <td>1</td>\n",
              "      <td>0.500000</td>\n",
              "      <td>0.95</td>\n",
              "      <td>0.89</td>\n",
              "      <td>0.843137</td>\n",
              "      <td>0.889901</td>\n",
              "      <td>0.92</td>\n",
              "    </tr>\n",
              "    <tr>\n",
              "      <th>116</th>\n",
              "      <td>500</td>\n",
              "      <td>1</td>\n",
              "      <td>0.666667</td>\n",
              "      <td>0.95</td>\n",
              "      <td>0.89</td>\n",
              "      <td>0.843137</td>\n",
              "      <td>0.889901</td>\n",
              "      <td>0.92</td>\n",
              "    </tr>\n",
              "    <tr>\n",
              "      <th>31</th>\n",
              "      <td>200</td>\n",
              "      <td>1</td>\n",
              "      <td>0.500000</td>\n",
              "      <td>0.95</td>\n",
              "      <td>0.88</td>\n",
              "      <td>0.823529</td>\n",
              "      <td>0.879808</td>\n",
              "      <td>0.92</td>\n",
              "    </tr>\n",
              "    <tr>\n",
              "      <th>30</th>\n",
              "      <td>200</td>\n",
              "      <td>1</td>\n",
              "      <td>0.333333</td>\n",
              "      <td>0.95</td>\n",
              "      <td>0.88</td>\n",
              "      <td>0.823529</td>\n",
              "      <td>0.879808</td>\n",
              "      <td>0.91</td>\n",
              "    </tr>\n",
              "    <tr>\n",
              "      <th>62</th>\n",
              "      <td>300</td>\n",
              "      <td>1</td>\n",
              "      <td>1.000000</td>\n",
              "      <td>0.95</td>\n",
              "      <td>0.88</td>\n",
              "      <td>0.823529</td>\n",
              "      <td>0.879808</td>\n",
              "      <td>0.89</td>\n",
              "    </tr>\n",
              "  </tbody>\n",
              "</table>\n",
              "<p>140 rows × 8 columns</p>\n",
              "</div>\n",
              "      <button class=\"colab-df-convert\" onclick=\"convertToInteractive('df-7602c95c-f0df-4ac6-a74a-97841034d370')\"\n",
              "              title=\"Convert this dataframe to an interactive table.\"\n",
              "              style=\"display:none;\">\n",
              "        \n",
              "  <svg xmlns=\"http://www.w3.org/2000/svg\" height=\"24px\"viewBox=\"0 0 24 24\"\n",
              "       width=\"24px\">\n",
              "    <path d=\"M0 0h24v24H0V0z\" fill=\"none\"/>\n",
              "    <path d=\"M18.56 5.44l.94 2.06.94-2.06 2.06-.94-2.06-.94-.94-2.06-.94 2.06-2.06.94zm-11 1L8.5 8.5l.94-2.06 2.06-.94-2.06-.94L8.5 2.5l-.94 2.06-2.06.94zm10 10l.94 2.06.94-2.06 2.06-.94-2.06-.94-.94-2.06-.94 2.06-2.06.94z\"/><path d=\"M17.41 7.96l-1.37-1.37c-.4-.4-.92-.59-1.43-.59-.52 0-1.04.2-1.43.59L10.3 9.45l-7.72 7.72c-.78.78-.78 2.05 0 2.83L4 21.41c.39.39.9.59 1.41.59.51 0 1.02-.2 1.41-.59l7.78-7.78 2.81-2.81c.8-.78.8-2.07 0-2.86zM5.41 20L4 18.59l7.72-7.72 1.47 1.35L5.41 20z\"/>\n",
              "  </svg>\n",
              "      </button>\n",
              "      \n",
              "  <style>\n",
              "    .colab-df-container {\n",
              "      display:flex;\n",
              "      flex-wrap:wrap;\n",
              "      gap: 12px;\n",
              "    }\n",
              "\n",
              "    .colab-df-convert {\n",
              "      background-color: #E8F0FE;\n",
              "      border: none;\n",
              "      border-radius: 50%;\n",
              "      cursor: pointer;\n",
              "      display: none;\n",
              "      fill: #1967D2;\n",
              "      height: 32px;\n",
              "      padding: 0 0 0 0;\n",
              "      width: 32px;\n",
              "    }\n",
              "\n",
              "    .colab-df-convert:hover {\n",
              "      background-color: #E2EBFA;\n",
              "      box-shadow: 0px 1px 2px rgba(60, 64, 67, 0.3), 0px 1px 3px 1px rgba(60, 64, 67, 0.15);\n",
              "      fill: #174EA6;\n",
              "    }\n",
              "\n",
              "    [theme=dark] .colab-df-convert {\n",
              "      background-color: #3B4455;\n",
              "      fill: #D2E3FC;\n",
              "    }\n",
              "\n",
              "    [theme=dark] .colab-df-convert:hover {\n",
              "      background-color: #434B5C;\n",
              "      box-shadow: 0px 1px 3px 1px rgba(0, 0, 0, 0.15);\n",
              "      filter: drop-shadow(0px 1px 2px rgba(0, 0, 0, 0.3));\n",
              "      fill: #FFFFFF;\n",
              "    }\n",
              "  </style>\n",
              "\n",
              "      <script>\n",
              "        const buttonEl =\n",
              "          document.querySelector('#df-7602c95c-f0df-4ac6-a74a-97841034d370 button.colab-df-convert');\n",
              "        buttonEl.style.display =\n",
              "          google.colab.kernel.accessAllowed ? 'block' : 'none';\n",
              "\n",
              "        async function convertToInteractive(key) {\n",
              "          const element = document.querySelector('#df-7602c95c-f0df-4ac6-a74a-97841034d370');\n",
              "          const dataTable =\n",
              "            await google.colab.kernel.invokeFunction('convertToInteractive',\n",
              "                                                     [key], {});\n",
              "          if (!dataTable) return;\n",
              "\n",
              "          const docLinkHtml = 'Like what you see? Visit the ' +\n",
              "            '<a target=\"_blank\" href=https://colab.research.google.com/notebooks/data_table.ipynb>data table notebook</a>'\n",
              "            + ' to learn more about interactive tables.';\n",
              "          element.innerHTML = '';\n",
              "          dataTable['output_type'] = 'display_data';\n",
              "          await google.colab.output.renderOutput(dataTable, element);\n",
              "          const docLink = document.createElement('div');\n",
              "          docLink.innerHTML = docLinkHtml;\n",
              "          element.appendChild(docLink);\n",
              "        }\n",
              "      </script>\n",
              "    </div>\n",
              "  </div>\n",
              "  "
            ]
          },
          "metadata": {},
          "execution_count": 25
        }
      ]
    },
    {
      "cell_type": "code",
      "source": [
        "xgboost_best = XGBClassifier(max_depth=2, reg_alpha=0.333333, n_estimators=400)\n",
        "xgboost_best.fit(train_dataX,train_dataY)\n",
        "xgboost_best_train= xgboost.predict(train_dataX)\n",
        "xgboost_best_val = xgboost.predict(val_dataX)\n",
        "f1= f1_score(val_dataY, xgboost_best_val, average='macro')\n",
        "accuracy_val = accuracy_score(val_dataY, xgboost_best_val)\n",
        "accuracy_train = accuracy_score(train_dataY,xgboost_best_train)\n",
        "cross_val_scores = cross_val_score(xgboost_best, val_dataX,val_dataY,cv=5).mean()\n",
        "recall = recall_score(val_dataY, xgboost_best_val)"
      ],
      "metadata": {
        "id": "_HkCLTbqIGKU"
      },
      "execution_count": 52,
      "outputs": []
    },
    {
      "cell_type": "code",
      "execution_count": 28,
      "metadata": {
        "colab": {
          "base_uri": "https://localhost:8080/",
          "height": 142
        },
        "id": "FJM64wnIwxcz",
        "outputId": "6de4b8b0-f402-425c-95bb-cc1649730fd0"
      },
      "outputs": [
        {
          "output_type": "execute_result",
          "data": {
            "text/plain": [
              "   Estimators parameter  Max Depth parameter  Alpha parameter  \\\n",
              "0                   400                    2         0.333333   \n",
              "\n",
              "   Accuracy Training set  Accuracy Validation set  Recall score  F1 score  \\\n",
              "0               0.867786                 0.864853       0.78008  0.860374   \n",
              "\n",
              "   Mean Cross Validation  \n",
              "0                0.94626  "
            ],
            "text/html": [
              "\n",
              "  <div id=\"df-aa05b76f-9035-4081-8c3b-a62510c02e64\">\n",
              "    <div class=\"colab-df-container\">\n",
              "      <div>\n",
              "<style scoped>\n",
              "    .dataframe tbody tr th:only-of-type {\n",
              "        vertical-align: middle;\n",
              "    }\n",
              "\n",
              "    .dataframe tbody tr th {\n",
              "        vertical-align: top;\n",
              "    }\n",
              "\n",
              "    .dataframe thead th {\n",
              "        text-align: right;\n",
              "    }\n",
              "</style>\n",
              "<table border=\"1\" class=\"dataframe\">\n",
              "  <thead>\n",
              "    <tr style=\"text-align: right;\">\n",
              "      <th></th>\n",
              "      <th>Estimators parameter</th>\n",
              "      <th>Max Depth parameter</th>\n",
              "      <th>Alpha parameter</th>\n",
              "      <th>Accuracy Training set</th>\n",
              "      <th>Accuracy Validation set</th>\n",
              "      <th>Recall score</th>\n",
              "      <th>F1 score</th>\n",
              "      <th>Mean Cross Validation</th>\n",
              "    </tr>\n",
              "  </thead>\n",
              "  <tbody>\n",
              "    <tr>\n",
              "      <th>0</th>\n",
              "      <td>400</td>\n",
              "      <td>2</td>\n",
              "      <td>0.333333</td>\n",
              "      <td>0.867786</td>\n",
              "      <td>0.864853</td>\n",
              "      <td>0.78008</td>\n",
              "      <td>0.860374</td>\n",
              "      <td>0.94626</td>\n",
              "    </tr>\n",
              "  </tbody>\n",
              "</table>\n",
              "</div>\n",
              "      <button class=\"colab-df-convert\" onclick=\"convertToInteractive('df-aa05b76f-9035-4081-8c3b-a62510c02e64')\"\n",
              "              title=\"Convert this dataframe to an interactive table.\"\n",
              "              style=\"display:none;\">\n",
              "        \n",
              "  <svg xmlns=\"http://www.w3.org/2000/svg\" height=\"24px\"viewBox=\"0 0 24 24\"\n",
              "       width=\"24px\">\n",
              "    <path d=\"M0 0h24v24H0V0z\" fill=\"none\"/>\n",
              "    <path d=\"M18.56 5.44l.94 2.06.94-2.06 2.06-.94-2.06-.94-.94-2.06-.94 2.06-2.06.94zm-11 1L8.5 8.5l.94-2.06 2.06-.94-2.06-.94L8.5 2.5l-.94 2.06-2.06.94zm10 10l.94 2.06.94-2.06 2.06-.94-2.06-.94-.94-2.06-.94 2.06-2.06.94z\"/><path d=\"M17.41 7.96l-1.37-1.37c-.4-.4-.92-.59-1.43-.59-.52 0-1.04.2-1.43.59L10.3 9.45l-7.72 7.72c-.78.78-.78 2.05 0 2.83L4 21.41c.39.39.9.59 1.41.59.51 0 1.02-.2 1.41-.59l7.78-7.78 2.81-2.81c.8-.78.8-2.07 0-2.86zM5.41 20L4 18.59l7.72-7.72 1.47 1.35L5.41 20z\"/>\n",
              "  </svg>\n",
              "      </button>\n",
              "      \n",
              "  <style>\n",
              "    .colab-df-container {\n",
              "      display:flex;\n",
              "      flex-wrap:wrap;\n",
              "      gap: 12px;\n",
              "    }\n",
              "\n",
              "    .colab-df-convert {\n",
              "      background-color: #E8F0FE;\n",
              "      border: none;\n",
              "      border-radius: 50%;\n",
              "      cursor: pointer;\n",
              "      display: none;\n",
              "      fill: #1967D2;\n",
              "      height: 32px;\n",
              "      padding: 0 0 0 0;\n",
              "      width: 32px;\n",
              "    }\n",
              "\n",
              "    .colab-df-convert:hover {\n",
              "      background-color: #E2EBFA;\n",
              "      box-shadow: 0px 1px 2px rgba(60, 64, 67, 0.3), 0px 1px 3px 1px rgba(60, 64, 67, 0.15);\n",
              "      fill: #174EA6;\n",
              "    }\n",
              "\n",
              "    [theme=dark] .colab-df-convert {\n",
              "      background-color: #3B4455;\n",
              "      fill: #D2E3FC;\n",
              "    }\n",
              "\n",
              "    [theme=dark] .colab-df-convert:hover {\n",
              "      background-color: #434B5C;\n",
              "      box-shadow: 0px 1px 3px 1px rgba(0, 0, 0, 0.15);\n",
              "      filter: drop-shadow(0px 1px 2px rgba(0, 0, 0, 0.3));\n",
              "      fill: #FFFFFF;\n",
              "    }\n",
              "  </style>\n",
              "\n",
              "      <script>\n",
              "        const buttonEl =\n",
              "          document.querySelector('#df-aa05b76f-9035-4081-8c3b-a62510c02e64 button.colab-df-convert');\n",
              "        buttonEl.style.display =\n",
              "          google.colab.kernel.accessAllowed ? 'block' : 'none';\n",
              "\n",
              "        async function convertToInteractive(key) {\n",
              "          const element = document.querySelector('#df-aa05b76f-9035-4081-8c3b-a62510c02e64');\n",
              "          const dataTable =\n",
              "            await google.colab.kernel.invokeFunction('convertToInteractive',\n",
              "                                                     [key], {});\n",
              "          if (!dataTable) return;\n",
              "\n",
              "          const docLinkHtml = 'Like what you see? Visit the ' +\n",
              "            '<a target=\"_blank\" href=https://colab.research.google.com/notebooks/data_table.ipynb>data table notebook</a>'\n",
              "            + ' to learn more about interactive tables.';\n",
              "          element.innerHTML = '';\n",
              "          dataTable['output_type'] = 'display_data';\n",
              "          await google.colab.output.renderOutput(dataTable, element);\n",
              "          const docLink = document.createElement('div');\n",
              "          docLink.innerHTML = docLinkHtml;\n",
              "          element.appendChild(docLink);\n",
              "        }\n",
              "      </script>\n",
              "    </div>\n",
              "  </div>\n",
              "  "
            ]
          },
          "metadata": {},
          "execution_count": 28
        }
      ],
      "source": [
        "analyse_best_one =  {'Estimators parameter': np.array([400]) ,\n",
        "        'Max Depth parameter': np.array([2]),\n",
        "        'Alpha parameter': np.array([0.333333]),\n",
        "        'Accuracy Training set': np.array([accuracy_train]),\n",
        "        'Accuracy Validation set': np.array([accuracy_val]),\n",
        "        'Recall score': np.array([recall]),\n",
        "        'F1 score': np.array([f1]),\n",
        "        'Mean Cross Validation': np.array([cross_val_scores]),\n",
        "        }\n",
        "\n",
        "analyse_best_one_xg = pd.DataFrame(analyse_best_one)\n",
        "analyse_best_one_xg"
      ]
    },
    {
      "cell_type": "code",
      "source": [
        "cf_matrix_xg= confusion_matrix(val_dataY, xgboost_best_val)\n",
        "\n",
        "ax = sns.heatmap(cf_matrix_xg,annot = True,fmt = 'g', cmap='Blues')\n",
        "\n",
        "ax.set_title('Confusion Matrix Xg Boost best algorithms\\n\\n');\n",
        "ax.set_xlabel('\\nPredicted Values')\n",
        "ax.set_ylabel('Actual Values ');\n",
        "\n",
        "\n",
        "ax.xaxis.set_ticklabels(['False','True'])\n",
        "ax.yaxis.set_ticklabels(['False','True'])\n",
        "\n",
        "\n",
        "plt.show()"
      ],
      "metadata": {
        "colab": {
          "base_uri": "https://localhost:8080/",
          "height": 337
        },
        "id": "XDV-3ElSSAfA",
        "outputId": "4d0f4134-296e-45e7-e95f-942fc0484e62"
      },
      "execution_count": 53,
      "outputs": [
        {
          "output_type": "display_data",
          "data": {
            "text/plain": [
              "<Figure size 432x288 with 2 Axes>"
            ],
            "image/png": "[encoded data removed]"
          },
          "metadata": {
            "needs_background": "light"
          }
        }
      ]
    },
    {
      "cell_type": "code",
      "source": [
        "print(\"% of True elements well classified: \", 8811/(8811+2484))\n",
        "print(\"% of False elements well classified: \", 13414/(13414+989))"
      ],
      "metadata": {
        "colab": {
          "base_uri": "https://localhost:8080/"
        },
        "id": "QmjNrX9kSQzQ",
        "outputId": "2534717a-9809-42a0-da80-22720305f299"
      },
      "execution_count": 54,
      "outputs": [
        {
          "output_type": "stream",
          "name": "stdout",
          "text": [
            "% of True elements well classified:  0.7800796812749003\n",
            "% of False elements well classified:  0.9313337499132125\n"
          ]
        }
      ]
    },
    {
      "cell_type": "code",
      "source": [
        "xgboost_best = XGBClassifier(max_depth=2, reg_alpha=0.5, n_estimators=500)\n",
        "xgboost_best.fit(train_dataX,train_dataY)\n",
        "xgboost_best_train= xgboost.predict(train_dataX)\n",
        "xgboost_best_val = xgboost.predict(val_dataX)\n",
        "f1= f1_score(val_dataY, xgboost_best_val, average='macro')\n",
        "accuracy_val = accuracy_score(val_dataY, xgboost_best_val)\n",
        "accuracy_train = accuracy_score(train_dataY,xgboost_best_train)\n",
        "cross_val_scores = cross_val_score(xgboost_best, val_dataX,val_dataY,cv=5).mean()\n",
        "recall = recall_score(val_dataY, xgboost_best_val)"
      ],
      "metadata": {
        "id": "MfKrBf4TKoSE"
      },
      "execution_count": 29,
      "outputs": []
    },
    {
      "cell_type": "code",
      "source": [
        "analyse_best_two =  {'Estimators parameter': np.array([500]) ,\n",
        "        'Max Depth parameter': np.array([2]),\n",
        "        'Alpha parameter': np.array([0.5]),\n",
        "        'Accuracy Training set': np.array([accuracy_train]),\n",
        "        'Accuracy Validation set': np.array([accuracy_val]),\n",
        "        'Recall score': np.array([recall]),\n",
        "        'F1 score': np.array([f1]),\n",
        "        'Mean Cross Validation': np.array([cross_val_scores]),\n",
        "        }\n",
        "\n",
        "analyse_best_two_xg = pd.DataFrame(analyse_best_two)\n",
        "analyse_best_two_xg"
      ],
      "metadata": {
        "colab": {
          "base_uri": "https://localhost:8080/",
          "height": 142
        },
        "id": "fRFHRiOZK5xR",
        "outputId": "e169faf5-a426-4c39-c5f7-c2ef1e26c2b3"
      },
      "execution_count": 31,
      "outputs": [
        {
          "output_type": "execute_result",
          "data": {
            "text/plain": [
              "   Estimators parameter  Max Depth parameter  Alpha parameter  \\\n",
              "0                   500                    2              0.5   \n",
              "\n",
              "   Accuracy Training set  Accuracy Validation set  Recall score  F1 score  \\\n",
              "0               0.867786                 0.864853       0.78008  0.860374   \n",
              "\n",
              "   Mean Cross Validation  \n",
              "0               0.946416  "
            ],
            "text/html": [
              "\n",
              "  <div id=\"df-8b9c3852-29cc-4643-b705-2b7f29566582\">\n",
              "    <div class=\"colab-df-container\">\n",
              "      <div>\n",
              "<style scoped>\n",
              "    .dataframe tbody tr th:only-of-type {\n",
              "        vertical-align: middle;\n",
              "    }\n",
              "\n",
              "    .dataframe tbody tr th {\n",
              "        vertical-align: top;\n",
              "    }\n",
              "\n",
              "    .dataframe thead th {\n",
              "        text-align: right;\n",
              "    }\n",
              "</style>\n",
              "<table border=\"1\" class=\"dataframe\">\n",
              "  <thead>\n",
              "    <tr style=\"text-align: right;\">\n",
              "      <th></th>\n",
              "      <th>Estimators parameter</th>\n",
              "      <th>Max Depth parameter</th>\n",
              "      <th>Alpha parameter</th>\n",
              "      <th>Accuracy Training set</th>\n",
              "      <th>Accuracy Validation set</th>\n",
              "      <th>Recall score</th>\n",
              "      <th>F1 score</th>\n",
              "      <th>Mean Cross Validation</th>\n",
              "    </tr>\n",
              "  </thead>\n",
              "  <tbody>\n",
              "    <tr>\n",
              "      <th>0</th>\n",
              "      <td>500</td>\n",
              "      <td>2</td>\n",
              "      <td>0.5</td>\n",
              "      <td>0.867786</td>\n",
              "      <td>0.864853</td>\n",
              "      <td>0.78008</td>\n",
              "      <td>0.860374</td>\n",
              "      <td>0.946416</td>\n",
              "    </tr>\n",
              "  </tbody>\n",
              "</table>\n",
              "</div>\n",
              "      <button class=\"colab-df-convert\" onclick=\"convertToInteractive('df-8b9c3852-29cc-4643-b705-2b7f29566582')\"\n",
              "              title=\"Convert this dataframe to an interactive table.\"\n",
              "              style=\"display:none;\">\n",
              "        \n",
              "  <svg xmlns=\"http://www.w3.org/2000/svg\" height=\"24px\"viewBox=\"0 0 24 24\"\n",
              "       width=\"24px\">\n",
              "    <path d=\"M0 0h24v24H0V0z\" fill=\"none\"/>\n",
              "    <path d=\"M18.56 5.44l.94 2.06.94-2.06 2.06-.94-2.06-.94-.94-2.06-.94 2.06-2.06.94zm-11 1L8.5 8.5l.94-2.06 2.06-.94-2.06-.94L8.5 2.5l-.94 2.06-2.06.94zm10 10l.94 2.06.94-2.06 2.06-.94-2.06-.94-.94-2.06-.94 2.06-2.06.94z\"/><path d=\"M17.41 7.96l-1.37-1.37c-.4-.4-.92-.59-1.43-.59-.52 0-1.04.2-1.43.59L10.3 9.45l-7.72 7.72c-.78.78-.78 2.05 0 2.83L4 21.41c.39.39.9.59 1.41.59.51 0 1.02-.2 1.41-.59l7.78-7.78 2.81-2.81c.8-.78.8-2.07 0-2.86zM5.41 20L4 18.59l7.72-7.72 1.47 1.35L5.41 20z\"/>\n",
              "  </svg>\n",
              "      </button>\n",
              "      \n",
              "  <style>\n",
              "    .colab-df-container {\n",
              "      display:flex;\n",
              "      flex-wrap:wrap;\n",
              "      gap: 12px;\n",
              "    }\n",
              "\n",
              "    .colab-df-convert {\n",
              "      background-color: #E8F0FE;\n",
              "      border: none;\n",
              "      border-radius: 50%;\n",
              "      cursor: pointer;\n",
              "      display: none;\n",
              "      fill: #1967D2;\n",
              "      height: 32px;\n",
              "      padding: 0 0 0 0;\n",
              "      width: 32px;\n",
              "    }\n",
              "\n",
              "    .colab-df-convert:hover {\n",
              "      background-color: #E2EBFA;\n",
              "      box-shadow: 0px 1px 2px rgba(60, 64, 67, 0.3), 0px 1px 3px 1px rgba(60, 64, 67, 0.15);\n",
              "      fill: #174EA6;\n",
              "    }\n",
              "\n",
              "    [theme=dark] .colab-df-convert {\n",
              "      background-color: #3B4455;\n",
              "      fill: #D2E3FC;\n",
              "    }\n",
              "\n",
              "    [theme=dark] .colab-df-convert:hover {\n",
              "      background-color: #434B5C;\n",
              "      box-shadow: 0px 1px 3px 1px rgba(0, 0, 0, 0.15);\n",
              "      filter: drop-shadow(0px 1px 2px rgba(0, 0, 0, 0.3));\n",
              "      fill: #FFFFFF;\n",
              "    }\n",
              "  </style>\n",
              "\n",
              "      <script>\n",
              "        const buttonEl =\n",
              "          document.querySelector('#df-8b9c3852-29cc-4643-b705-2b7f29566582 button.colab-df-convert');\n",
              "        buttonEl.style.display =\n",
              "          google.colab.kernel.accessAllowed ? 'block' : 'none';\n",
              "\n",
              "        async function convertToInteractive(key) {\n",
              "          const element = document.querySelector('#df-8b9c3852-29cc-4643-b705-2b7f29566582');\n",
              "          const dataTable =\n",
              "            await google.colab.kernel.invokeFunction('convertToInteractive',\n",
              "                                                     [key], {});\n",
              "          if (!dataTable) return;\n",
              "\n",
              "          const docLinkHtml = 'Like what you see? Visit the ' +\n",
              "            '<a target=\"_blank\" href=https://colab.research.google.com/notebooks/data_table.ipynb>data table notebook</a>'\n",
              "            + ' to learn more about interactive tables.';\n",
              "          element.innerHTML = '';\n",
              "          dataTable['output_type'] = 'display_data';\n",
              "          await google.colab.output.renderOutput(dataTable, element);\n",
              "          const docLink = document.createElement('div');\n",
              "          docLink.innerHTML = docLinkHtml;\n",
              "          element.appendChild(docLink);\n",
              "        }\n",
              "      </script>\n",
              "    </div>\n",
              "  </div>\n",
              "  "
            ]
          },
          "metadata": {},
          "execution_count": 31
        }
      ]
    },
    {
      "cell_type": "code",
      "source": [
        "cf_matrix_xg_2= confusion_matrix(val_dataY, xgboost_best_val)\n",
        "\n",
        "ax = sns.heatmap(cf_matrix_xg_2,annot = True,fmt = 'g', cmap='Blues')\n",
        "\n",
        "ax.set_title('Confusion Matrix Xg Boost best algorithms\\n\\n');\n",
        "ax.set_xlabel('\\nPredicted Values')\n",
        "ax.set_ylabel('Actual Values ');\n",
        "\n",
        "\n",
        "ax.xaxis.set_ticklabels(['False','True'])\n",
        "ax.yaxis.set_ticklabels(['False','True'])\n",
        "\n",
        "\n",
        "plt.show()"
      ],
      "metadata": {
        "colab": {
          "base_uri": "https://localhost:8080/",
          "height": 337
        },
        "id": "DY7YBB0QNAQJ",
        "outputId": "a2d283ba-0e48-4603-ff13-feb531071c68"
      },
      "execution_count": 50,
      "outputs": [
        {
          "output_type": "display_data",
          "data": {
            "text/plain": [
              "<Figure size 432x288 with 2 Axes>"
            ],
            "image/png": "[encoded data removed]"
          },
          "metadata": {
            "needs_background": "light"
          }
        }
      ]
    },
    {
      "cell_type": "code",
      "source": [
        "print(\"% of True elements well classified: \", 8811/(8811+2484))\n",
        "print(\"% of False elements well classified: \", 13414/(13414+989))"
      ],
      "metadata": {
        "colab": {
          "base_uri": "https://localhost:8080/"
        },
        "id": "4Zf8nu1URBMR",
        "outputId": "132ca8a4-dcfb-46f9-ab7f-6482c9c999de"
      },
      "execution_count": 51,
      "outputs": [
        {
          "output_type": "stream",
          "name": "stdout",
          "text": [
            "% of True elements well classified:  0.7800796812749003\n",
            "% of False elements well classified:  0.9313337499132125\n"
          ]
        }
      ]
    },
    {
      "cell_type": "markdown",
      "source": [
        "## Saving the models"
      ],
      "metadata": {
        "id": "7PO0OH69LonD"
      }
    },
    {
      "cell_type": "code",
      "source": [
        "from google.colab import drive\n",
        "drive.mount('/content/drive')\n",
        "best_linear_svm_1 = BaggingClassifier(LinearSVC(C= 6.923385), max_samples=1.0 / 10, n_estimators=10, n_jobs=-1)\n",
        "best_linear_svm_1.fit(train_dataX,train_dataY)\n",
        "with open(\"drive/MyDrive/Colab Notebooks/best_linear_svm_1.pickle\",\"wb\") as f:\n",
        "    pickle.dump(best_linear_svm_1, f)\n",
        "\n",
        "best_linear_svm_2 = BaggingClassifier(LinearSVC(C= 6.154231), max_samples=1.0 / 10, n_estimators=10, n_jobs=-1)\n",
        "best_linear_svm_2.fit(train_dataX,train_dataY)\n",
        "with open(\"drive/MyDrive/Colab Notebooks/best_linear_svm_2.pickle\",\"wb\") as f:\n",
        "    pickle.dump(best_linear_svm_2, f)\n",
        "\n",
        "xgboost_best_1 = XGBClassifier(max_depth=2, reg_alpha=0.333333, n_estimators=400)\n",
        "xgboost_best_1.fit(train_dataX,train_dataY)\n",
        "with open(\"drive/MyDrive/Colab Notebooks/xgboost_best_1.pickle\",\"wb\") as f:\n",
        "    pickle.dump(xgboost_best_1, f)\n",
        "\n",
        "\n",
        "xgboost_best_2 = XGBClassifier(max_depth=2, reg_alpha=0.5, n_estimators=500)\n",
        "xgboost_best_2.fit(train_dataX,train_dataY)\n",
        "with open(\"drive/MyDrive/Colab Notebooks/xgboost_best_2.pickle\",\"wb\") as f:\n",
        "    pickle.dump(xgboost_best_2, f)\n",
        "\n"
      ],
      "metadata": {
        "colab": {
          "base_uri": "https://localhost:8080/"
        },
        "id": "lxU9nrXPLsjj",
        "outputId": "3371805b-948d-4afa-c0a8-c774c017c2a9"
      },
      "execution_count": 66,
      "outputs": [
        {
          "output_type": "stream",
          "name": "stdout",
          "text": [
            "Drive already mounted at /content/drive; to attempt to forcibly remount, call drive.mount(\"/content/drive\", force_remount=True).\n"
          ]
        }
      ]
    }
  ],
  "metadata": {
    "kernelspec": {
      "display_name": "Python 3",
      "language": "python",
      "name": "python3"
    },
    "language_info": {
      "codemirror_mode": {
        "name": "ipython",
        "version": 3
      },
      "file_extension": ".py",
      "mimetype": "text/x-python",
      "name": "python",
      "nbconvert_exporter": "python",
      "pygments_lexer": "ipython3",
      "version": "3.8.3"
    },
    "colab": {
      "name": "3_airline_modeling.ipynb",
      "provenance": [],
      "collapsed_sections": []
    },
    "accelerator": "GPU"
  },
  "nbformat": 4,
  "nbformat_minor": 0
}