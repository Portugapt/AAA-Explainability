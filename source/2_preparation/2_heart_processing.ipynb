{
 "cells": [
  {
   "cell_type": "markdown",
   "id": "67b1d56c-5a90-4cf6-8f75-589fe16ddadf",
   "metadata": {},
   "source": [
    "# Heart Diseases Dataset Processing\n",
    "\n",
    "This notebook goal is to:\n",
    "* Reduce dimensionality\n",
    "* Deal with the imbalance in the dataset\n",
    "* Feature Engineering\n",
    "* Any other necessary transformation\n",
    "* last: train-test split. Always in mind to save the transformations map.\n"
   ]
  },
  {
   "cell_type": "markdown",
   "id": "9391e9d9-5959-46d7-bb11-b6b0705fb670",
   "metadata": {},
   "source": [
    "## TODO \n",
    "\n",
    "* [ ] Deal with the imbalance in the dataset\n",
    "* [ ] Feature Engineering\n",
    "* [ ] Reduce dimensionality\n",
    "* [ ] ???\n",
    "* [ ] train-test split\n",
    "\n",
    "Always in mind: \n",
    "Save transformation pickles (e.g. sklearn standardization object)"
   ]
  }
 ],
 "metadata": {
  "kernelspec": {
   "display_name": "Python 3 (ipykernel)",
   "language": "python",
   "name": "python3"
  },
  "language_info": {
   "codemirror_mode": {
    "name": "ipython",
    "version": 3
   },
   "file_extension": ".py",
   "mimetype": "text/x-python",
   "name": "python",
   "nbconvert_exporter": "python",
   "pygments_lexer": "ipython3",
   "version": "3.10.4"
  }
 },
 "nbformat": 4,
 "nbformat_minor": 5
}
