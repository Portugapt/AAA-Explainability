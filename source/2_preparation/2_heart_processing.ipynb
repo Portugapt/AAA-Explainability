{
 "cells": [
  {
   "cell_type": "markdown",
   "id": "67b1d56c-5a90-4cf6-8f75-589fe16ddadf",
   "metadata": {},
   "source": [
    "# Heart Diseases Dataset Processing\n",
    "\n",
    "This notebook goal is to:\n",
    "* Reduce dimensionality\n",
    "* Deal with the imbalance in the dataset\n",
    "* Feature Engineering\n",
    "* Any other necessary transformation\n",
    "* last: train-test split. Always in mind to save the transformations map.\n"
   ]
  },
  {
   "cell_type": "markdown",
   "id": "9391e9d9-5959-46d7-bb11-b6b0705fb670",
   "metadata": {},
   "source": [
    "## TODO \n",
    "\n",
    "* [ ] Change race_x to bool \n",
    "* [X] Outliers BMI\n",
    "* [X] Deal with the imbalance in the dataset\n",
    "    * Look at parameters of SMOTE and TomekLinks\n",
    "* [X] Feature Engineering\n",
    "    * Scaling\n",
    "* [ ] Reduce dimensionality\n",
    "* [X] train-test split\n",
    "\n",
    "Always in mind: \n",
    "Save transformation pickles (e.g. sklearn standardization object)"
   ]
  },
  {
   "cell_type": "markdown",
   "id": "cd2224b2-65f6-403d-b278-5e7641368079",
   "metadata": {},
   "source": [
    "## Import libraries & data"
   ]
  },
  {
   "cell_type": "markdown",
   "id": "517e0def-19a4-47bf-a06a-98c9d82a0752",
   "metadata": {},
   "source": [
    "In this section, we load the required libraries, the data, and also verify if the data was loaded correctly."
   ]
  },
  {
   "cell_type": "code",
   "execution_count": 1,
   "id": "cae9a169-f33a-41d0-bf1f-4bc47f78650a",
   "metadata": {},
   "outputs": [],
   "source": [
    "import os\n",
    "from datetime import datetime\n",
    "import logging\n",
    "_NOTEBOOK_START = datetime.now().strftime('%Y-%m-%d_%H-%M-%S')\n",
    "if not os.path.exists('logs'):\n",
    "  # Create a new directory because it does not exist \n",
    "  os.makedirs('logs')\n",
    "logging.basicConfig(filename=f'logs/heart_processing_{_NOTEBOOK_START}.log', encoding='utf-8', level=logging.DEBUG, format='%(levelname)s:%(asctime)s:%(message)s')"
   ]
  },
  {
   "cell_type": "code",
   "execution_count": 2,
   "id": "71598cf1-1a88-4f98-bce4-8048b693617c",
   "metadata": {},
   "outputs": [],
   "source": [
    "_TREAT_DATA_FOR_IMBALANCE = False\n",
    "_LOAD_IMBALANCED_DATA = True if not _TREAT_DATA_FOR_IMBALANCE else False\n",
    "_USE_IMBALANCE_DATASET = True"
   ]
  },
  {
   "cell_type": "code",
   "execution_count": 3,
   "id": "2919dcf7-1710-44af-a7a6-6e1bb8c04712",
   "metadata": {},
   "outputs": [],
   "source": [
    "_ABSOLUTE_DIR = os.getcwd()\n",
    "import typing\n",
    "import pickle\n",
    "\n",
    "import numpy as np\n",
    "import pandas as pd\n",
    "\n",
    "## SKLEARN LIBRARIES\n",
    "from sklearn.preprocessing import OneHotEncoder\n",
    "from sklearn.preprocessing import StandardScaler\n",
    "\n",
    "## Imbalance\n",
    "from imblearn.combine import SMOTETomek\n",
    "from imblearn.over_sampling import SMOTE\n",
    "from imblearn.under_sampling import TomekLinks\n",
    "\n",
    "# Viz\n",
    "import seaborn as sns\n",
    "import matplotlib.pyplot as plt\n",
    "\n",
    "logging.info(f'Imports loaded')"
   ]
  },
  {
   "cell_type": "code",
   "execution_count": 4,
   "id": "f192ce6c-fbd1-43d9-9786-639e096db908",
   "metadata": {},
   "outputs": [],
   "source": [
    "dfHeart_preprocessed = pd.read_parquet(f'{_ABSOLUTE_DIR}/../artifacts/data/heart/heart_preprocessed.parquet')\n",
    "logging.info(f'Load dataset from {_ABSOLUTE_DIR}/../artifacts/data/heart/heart_preprocessed.parquet')"
   ]
  },
  {
   "cell_type": "code",
   "execution_count": 5,
   "id": "1a56c50f-c5dd-44b4-9871-55a20862fec1",
   "metadata": {},
   "outputs": [
    {
     "data": {
      "text/html": [
       "<div>\n",
       "<style scoped>\n",
       "    .dataframe tbody tr th:only-of-type {\n",
       "        vertical-align: middle;\n",
       "    }\n",
       "\n",
       "    .dataframe tbody tr th {\n",
       "        vertical-align: top;\n",
       "    }\n",
       "\n",
       "    .dataframe thead th {\n",
       "        text-align: right;\n",
       "    }\n",
       "</style>\n",
       "<table border=\"1\" class=\"dataframe\">\n",
       "  <thead>\n",
       "    <tr style=\"text-align: right;\">\n",
       "      <th></th>\n",
       "      <th>HeartDisease</th>\n",
       "      <th>BMI</th>\n",
       "      <th>Smoking</th>\n",
       "      <th>AlcoholDrinking</th>\n",
       "      <th>Stroke</th>\n",
       "      <th>PhysicalHealth</th>\n",
       "      <th>MentalHealth</th>\n",
       "      <th>DiffWalking</th>\n",
       "      <th>Sex</th>\n",
       "      <th>PhysicalActivity</th>\n",
       "      <th>...</th>\n",
       "      <th>age_40-44_fe</th>\n",
       "      <th>age_45-49_fe</th>\n",
       "      <th>age_50-54_fe</th>\n",
       "      <th>age_55-59_fe</th>\n",
       "      <th>age_60-64_fe</th>\n",
       "      <th>age_65-69_fe</th>\n",
       "      <th>age_70-74_fe</th>\n",
       "      <th>age_75-79_fe</th>\n",
       "      <th>age_80orolder_fe</th>\n",
       "      <th>AgeCategory_seq_fe</th>\n",
       "    </tr>\n",
       "  </thead>\n",
       "  <tbody>\n",
       "    <tr>\n",
       "      <th>0</th>\n",
       "      <td>False</td>\n",
       "      <td>16.60</td>\n",
       "      <td>True</td>\n",
       "      <td>False</td>\n",
       "      <td>False</td>\n",
       "      <td>3</td>\n",
       "      <td>30</td>\n",
       "      <td>False</td>\n",
       "      <td>1</td>\n",
       "      <td>True</td>\n",
       "      <td>...</td>\n",
       "      <td>0</td>\n",
       "      <td>0</td>\n",
       "      <td>0</td>\n",
       "      <td>1</td>\n",
       "      <td>0</td>\n",
       "      <td>0</td>\n",
       "      <td>0</td>\n",
       "      <td>0</td>\n",
       "      <td>0</td>\n",
       "      <td>8</td>\n",
       "    </tr>\n",
       "    <tr>\n",
       "      <th>1</th>\n",
       "      <td>False</td>\n",
       "      <td>20.34</td>\n",
       "      <td>False</td>\n",
       "      <td>False</td>\n",
       "      <td>True</td>\n",
       "      <td>0</td>\n",
       "      <td>0</td>\n",
       "      <td>False</td>\n",
       "      <td>1</td>\n",
       "      <td>True</td>\n",
       "      <td>...</td>\n",
       "      <td>0</td>\n",
       "      <td>0</td>\n",
       "      <td>0</td>\n",
       "      <td>0</td>\n",
       "      <td>0</td>\n",
       "      <td>0</td>\n",
       "      <td>0</td>\n",
       "      <td>0</td>\n",
       "      <td>1</td>\n",
       "      <td>13</td>\n",
       "    </tr>\n",
       "    <tr>\n",
       "      <th>2</th>\n",
       "      <td>False</td>\n",
       "      <td>26.58</td>\n",
       "      <td>True</td>\n",
       "      <td>False</td>\n",
       "      <td>False</td>\n",
       "      <td>20</td>\n",
       "      <td>30</td>\n",
       "      <td>False</td>\n",
       "      <td>0</td>\n",
       "      <td>True</td>\n",
       "      <td>...</td>\n",
       "      <td>0</td>\n",
       "      <td>0</td>\n",
       "      <td>0</td>\n",
       "      <td>0</td>\n",
       "      <td>0</td>\n",
       "      <td>1</td>\n",
       "      <td>0</td>\n",
       "      <td>0</td>\n",
       "      <td>0</td>\n",
       "      <td>10</td>\n",
       "    </tr>\n",
       "    <tr>\n",
       "      <th>3</th>\n",
       "      <td>False</td>\n",
       "      <td>24.21</td>\n",
       "      <td>False</td>\n",
       "      <td>False</td>\n",
       "      <td>False</td>\n",
       "      <td>0</td>\n",
       "      <td>0</td>\n",
       "      <td>False</td>\n",
       "      <td>1</td>\n",
       "      <td>False</td>\n",
       "      <td>...</td>\n",
       "      <td>0</td>\n",
       "      <td>0</td>\n",
       "      <td>0</td>\n",
       "      <td>0</td>\n",
       "      <td>0</td>\n",
       "      <td>0</td>\n",
       "      <td>0</td>\n",
       "      <td>1</td>\n",
       "      <td>0</td>\n",
       "      <td>12</td>\n",
       "    </tr>\n",
       "    <tr>\n",
       "      <th>4</th>\n",
       "      <td>False</td>\n",
       "      <td>23.71</td>\n",
       "      <td>False</td>\n",
       "      <td>False</td>\n",
       "      <td>False</td>\n",
       "      <td>28</td>\n",
       "      <td>0</td>\n",
       "      <td>True</td>\n",
       "      <td>1</td>\n",
       "      <td>True</td>\n",
       "      <td>...</td>\n",
       "      <td>1</td>\n",
       "      <td>0</td>\n",
       "      <td>0</td>\n",
       "      <td>0</td>\n",
       "      <td>0</td>\n",
       "      <td>0</td>\n",
       "      <td>0</td>\n",
       "      <td>0</td>\n",
       "      <td>0</td>\n",
       "      <td>5</td>\n",
       "    </tr>\n",
       "    <tr>\n",
       "      <th>...</th>\n",
       "      <td>...</td>\n",
       "      <td>...</td>\n",
       "      <td>...</td>\n",
       "      <td>...</td>\n",
       "      <td>...</td>\n",
       "      <td>...</td>\n",
       "      <td>...</td>\n",
       "      <td>...</td>\n",
       "      <td>...</td>\n",
       "      <td>...</td>\n",
       "      <td>...</td>\n",
       "      <td>...</td>\n",
       "      <td>...</td>\n",
       "      <td>...</td>\n",
       "      <td>...</td>\n",
       "      <td>...</td>\n",
       "      <td>...</td>\n",
       "      <td>...</td>\n",
       "      <td>...</td>\n",
       "      <td>...</td>\n",
       "      <td>...</td>\n",
       "    </tr>\n",
       "    <tr>\n",
       "      <th>319790</th>\n",
       "      <td>True</td>\n",
       "      <td>27.41</td>\n",
       "      <td>True</td>\n",
       "      <td>False</td>\n",
       "      <td>False</td>\n",
       "      <td>7</td>\n",
       "      <td>0</td>\n",
       "      <td>True</td>\n",
       "      <td>0</td>\n",
       "      <td>False</td>\n",
       "      <td>...</td>\n",
       "      <td>0</td>\n",
       "      <td>0</td>\n",
       "      <td>0</td>\n",
       "      <td>0</td>\n",
       "      <td>1</td>\n",
       "      <td>0</td>\n",
       "      <td>0</td>\n",
       "      <td>0</td>\n",
       "      <td>0</td>\n",
       "      <td>9</td>\n",
       "    </tr>\n",
       "    <tr>\n",
       "      <th>319791</th>\n",
       "      <td>False</td>\n",
       "      <td>29.84</td>\n",
       "      <td>True</td>\n",
       "      <td>False</td>\n",
       "      <td>False</td>\n",
       "      <td>0</td>\n",
       "      <td>0</td>\n",
       "      <td>False</td>\n",
       "      <td>0</td>\n",
       "      <td>True</td>\n",
       "      <td>...</td>\n",
       "      <td>0</td>\n",
       "      <td>0</td>\n",
       "      <td>0</td>\n",
       "      <td>0</td>\n",
       "      <td>0</td>\n",
       "      <td>0</td>\n",
       "      <td>0</td>\n",
       "      <td>0</td>\n",
       "      <td>0</td>\n",
       "      <td>4</td>\n",
       "    </tr>\n",
       "    <tr>\n",
       "      <th>319792</th>\n",
       "      <td>False</td>\n",
       "      <td>24.24</td>\n",
       "      <td>False</td>\n",
       "      <td>False</td>\n",
       "      <td>False</td>\n",
       "      <td>0</td>\n",
       "      <td>0</td>\n",
       "      <td>False</td>\n",
       "      <td>1</td>\n",
       "      <td>True</td>\n",
       "      <td>...</td>\n",
       "      <td>0</td>\n",
       "      <td>1</td>\n",
       "      <td>0</td>\n",
       "      <td>0</td>\n",
       "      <td>0</td>\n",
       "      <td>0</td>\n",
       "      <td>0</td>\n",
       "      <td>0</td>\n",
       "      <td>0</td>\n",
       "      <td>6</td>\n",
       "    </tr>\n",
       "    <tr>\n",
       "      <th>319793</th>\n",
       "      <td>False</td>\n",
       "      <td>32.81</td>\n",
       "      <td>False</td>\n",
       "      <td>False</td>\n",
       "      <td>False</td>\n",
       "      <td>0</td>\n",
       "      <td>0</td>\n",
       "      <td>False</td>\n",
       "      <td>1</td>\n",
       "      <td>False</td>\n",
       "      <td>...</td>\n",
       "      <td>0</td>\n",
       "      <td>0</td>\n",
       "      <td>0</td>\n",
       "      <td>0</td>\n",
       "      <td>0</td>\n",
       "      <td>0</td>\n",
       "      <td>0</td>\n",
       "      <td>0</td>\n",
       "      <td>0</td>\n",
       "      <td>2</td>\n",
       "    </tr>\n",
       "    <tr>\n",
       "      <th>319794</th>\n",
       "      <td>False</td>\n",
       "      <td>46.56</td>\n",
       "      <td>False</td>\n",
       "      <td>False</td>\n",
       "      <td>False</td>\n",
       "      <td>0</td>\n",
       "      <td>0</td>\n",
       "      <td>False</td>\n",
       "      <td>1</td>\n",
       "      <td>True</td>\n",
       "      <td>...</td>\n",
       "      <td>0</td>\n",
       "      <td>0</td>\n",
       "      <td>0</td>\n",
       "      <td>0</td>\n",
       "      <td>0</td>\n",
       "      <td>0</td>\n",
       "      <td>0</td>\n",
       "      <td>0</td>\n",
       "      <td>1</td>\n",
       "      <td>13</td>\n",
       "    </tr>\n",
       "  </tbody>\n",
       "</table>\n",
       "<p>319795 rows × 39 columns</p>\n",
       "</div>"
      ],
      "text/plain": [
       "        HeartDisease    BMI  Smoking  AlcoholDrinking  Stroke  PhysicalHealth  \\\n",
       "0              False  16.60     True            False   False               3   \n",
       "1              False  20.34    False            False    True               0   \n",
       "2              False  26.58     True            False   False              20   \n",
       "3              False  24.21    False            False   False               0   \n",
       "4              False  23.71    False            False   False              28   \n",
       "...              ...    ...      ...              ...     ...             ...   \n",
       "319790          True  27.41     True            False   False               7   \n",
       "319791         False  29.84     True            False   False               0   \n",
       "319792         False  24.24    False            False   False               0   \n",
       "319793         False  32.81    False            False   False               0   \n",
       "319794         False  46.56    False            False   False               0   \n",
       "\n",
       "        MentalHealth  DiffWalking  Sex  PhysicalActivity  ...  age_40-44_fe  \\\n",
       "0                 30        False    1              True  ...             0   \n",
       "1                  0        False    1              True  ...             0   \n",
       "2                 30        False    0              True  ...             0   \n",
       "3                  0        False    1             False  ...             0   \n",
       "4                  0         True    1              True  ...             1   \n",
       "...              ...          ...  ...               ...  ...           ...   \n",
       "319790             0         True    0             False  ...             0   \n",
       "319791             0        False    0              True  ...             0   \n",
       "319792             0        False    1              True  ...             0   \n",
       "319793             0        False    1             False  ...             0   \n",
       "319794             0        False    1              True  ...             0   \n",
       "\n",
       "        age_45-49_fe  age_50-54_fe  age_55-59_fe  age_60-64_fe  age_65-69_fe  \\\n",
       "0                  0             0             1             0             0   \n",
       "1                  0             0             0             0             0   \n",
       "2                  0             0             0             0             1   \n",
       "3                  0             0             0             0             0   \n",
       "4                  0             0             0             0             0   \n",
       "...              ...           ...           ...           ...           ...   \n",
       "319790             0             0             0             1             0   \n",
       "319791             0             0             0             0             0   \n",
       "319792             1             0             0             0             0   \n",
       "319793             0             0             0             0             0   \n",
       "319794             0             0             0             0             0   \n",
       "\n",
       "        age_70-74_fe  age_75-79_fe  age_80orolder_fe  AgeCategory_seq_fe  \n",
       "0                  0             0                 0                   8  \n",
       "1                  0             0                 1                  13  \n",
       "2                  0             0                 0                  10  \n",
       "3                  0             1                 0                  12  \n",
       "4                  0             0                 0                   5  \n",
       "...              ...           ...               ...                 ...  \n",
       "319790             0             0                 0                   9  \n",
       "319791             0             0                 0                   4  \n",
       "319792             0             0                 0                   6  \n",
       "319793             0             0                 0                   2  \n",
       "319794             0             0                 1                  13  \n",
       "\n",
       "[319795 rows x 39 columns]"
      ]
     },
     "execution_count": 5,
     "metadata": {},
     "output_type": "execute_result"
    }
   ],
   "source": [
    "## Confirm dataset is loaded\n",
    "dfHeart_preprocessed"
   ]
  },
  {
   "cell_type": "code",
   "execution_count": 6,
   "id": "73bdc837-8c11-4771-a576-82c2f92b93b9",
   "metadata": {},
   "outputs": [
    {
     "data": {
      "text/plain": [
       "HeartDisease                               bool\n",
       "BMI                                     float64\n",
       "Smoking                                    bool\n",
       "AlcoholDrinking                            bool\n",
       "Stroke                                     bool\n",
       "PhysicalHealth                            int32\n",
       "MentalHealth                              int32\n",
       "DiffWalking                                bool\n",
       "Sex                                       int64\n",
       "PhysicalActivity                           bool\n",
       "GenHealth                                 int64\n",
       "SleepTime                                 int32\n",
       "Asthma                                     bool\n",
       "KidneyDisease                              bool\n",
       "SkinCancer                                 bool\n",
       "race_americanindian/alaskannative_fe      uint8\n",
       "race_asian_fe                             uint8\n",
       "race_black_fe                             uint8\n",
       "race_hispanic_fe                          uint8\n",
       "race_other_fe                             uint8\n",
       "race_white_fe                             uint8\n",
       "diabetic_no_fe                            uint8\n",
       "diabetic_no_borderlinediabetes_fe         uint8\n",
       "diabetic_yes_fe                           uint8\n",
       "diabetic_yes_duringpregnancy_fe           uint8\n",
       "age_18-24_fe                              uint8\n",
       "age_25-29_fe                              uint8\n",
       "age_30-34_fe                              uint8\n",
       "age_35-39_fe                              uint8\n",
       "age_40-44_fe                              uint8\n",
       "age_45-49_fe                              uint8\n",
       "age_50-54_fe                              uint8\n",
       "age_55-59_fe                              uint8\n",
       "age_60-64_fe                              uint8\n",
       "age_65-69_fe                              uint8\n",
       "age_70-74_fe                              uint8\n",
       "age_75-79_fe                              uint8\n",
       "age_80orolder_fe                          uint8\n",
       "AgeCategory_seq_fe                        int64\n",
       "dtype: object"
      ]
     },
     "execution_count": 6,
     "metadata": {},
     "output_type": "execute_result"
    }
   ],
   "source": [
    "## Confirm dtypes\n",
    "dfHeart_preprocessed.dtypes"
   ]
  },
  {
   "cell_type": "markdown",
   "id": "87f9d873-84b2-4370-a68f-27e2b510b335",
   "metadata": {},
   "source": [
    "V1: race_x is coming as uint8, which probably isn't the best way to have this column as.  \n",
    "V2: "
   ]
  },
  {
   "cell_type": "code",
   "execution_count": 7,
   "id": "bf73dd9c-e2f1-452b-a1e4-baf8b974a55c",
   "metadata": {},
   "outputs": [],
   "source": [
    "if _TREAT_DATA_FOR_IMBALANCE:\n",
    "    x_data = dfHeart_preprocessed[[column for column in dfHeart_preprocessed.columns if column != 'HeartDisease']]\n",
    "    y_data = dfHeart_preprocessed['HeartDisease']"
   ]
  },
  {
   "cell_type": "markdown",
   "id": "6dd023a9-322d-498d-b7cc-0bd763b620fe",
   "metadata": {},
   "source": [
    "## Imbalanced data \n",
    "\n",
    "In this section, we treat the imbalance on the data. We use SMOTE and TomekLinks.  \n",
    "\n",
    "\n",
    "We were guided by these tutorials:   \n",
    "https://towardsdatascience.com/stop-using-smote-to-handle-all-your-imbalanced-data-34403399d3be  \n",
    "https://machinelearningmastery.com/smote-oversampling-for-imbalanced-classification  "
   ]
  },
  {
   "cell_type": "markdown",
   "id": "0da83bee-bea1-4727-881f-eca710ddf6fe",
   "metadata": {},
   "source": [
    "We were having difficulties in using this method with the whole dataset. \n"
   ]
  },
  {
   "cell_type": "code",
   "execution_count": 8,
   "id": "df945cbb-9be7-4951-bddb-1a0dc829db23",
   "metadata": {},
   "outputs": [],
   "source": [
    "if _TREAT_DATA_FOR_IMBALANCE:\n",
    "    ## Create SMOTE Class Object\n",
    "    hrtSmote = SMOTE(sampling_strategy = 'minority', n_jobs=-1)\n",
    "    \n",
    "    ## Create TomekLinks Class Object\n",
    "    hrtTomek = TomekLinks(sampling_strategy = 'majority', n_jobs=-1)\n",
    "    \n",
    "    X, y = hrtCombineSampling.fit_resample(x_data, y_data)\n",
    "    # The result is a dataset with 582.701 observations\n",
    "    # Takes about 3 hours and half to run.\n",
    "    \n",
    "    # Observation ID 317695 is the last real observation.\n",
    "    # Known by the fact it's the last two decimal digits BMI observation."
   ]
  },
  {
   "cell_type": "code",
   "execution_count": 9,
   "id": "6ae288a5-869b-4eaf-9916-23a949d2d893",
   "metadata": {},
   "outputs": [],
   "source": [
    "if _TREAT_DATA_FOR_IMBALANCE:\n",
    "    logging.info(f'Saving SMOTETOMEK Dataset')\n",
    "    X['HeartDisease'] = y\n",
    "    heartDisease_imbalance = X\n",
    "    heartDisease_imbalance['FLAG_REAL'] = 0\n",
    "    heartDisease_imbalance.loc[0:317695, 'FLAG_REAL'] = 1\n",
    "    heartDisease_imbalance.to_parquet(f'{_ABSOLUTE_DIR}/../artifacts/data/heart/heart_smotetomek_1505222.parquet')\n",
    "    \n",
    "if _LOAD_IMBALANCED_DATA:\n",
    "    heartDisease_imbalance = pd.read_parquet(f'{_ABSOLUTE_DIR}/../artifacts/data/heart/heart_smotetomek_1505222.parquet')"
   ]
  },
  {
   "cell_type": "markdown",
   "id": "545a7d64-077f-4893-a261-2a2490e233b7",
   "metadata": {},
   "source": [
    "### Analysis"
   ]
  },
  {
   "cell_type": "code",
   "execution_count": 16,
   "id": "3f143999-a14a-4f06-9bc0-c8bc56cb655a",
   "metadata": {},
   "outputs": [
    {
     "data": {
      "image/png": "[encoded data removed]",
      "text/plain": [
       "<Figure size 432x288 with 1 Axes>"
      ]
     },
     "metadata": {
      "needs_background": "light"
     },
     "output_type": "display_data"
    }
   ],
   "source": [
    "if _USE_IMBALANCE_DATASET:\n",
    "    ax = sns.countplot(x = heartDisease_imbalance['HeartDisease'])\n",
    "    ax.set(xlabel='Heart Disease', ylabel='# Observations', title = \"Frequency of Heart Disease patients in the dataset\")\n",
    "    fig = ax.get_figure()\n",
    "    fig.savefig(f'heart_imbalance_targetCount.png')"
   ]
  },
  {
   "cell_type": "markdown",
   "id": "0729ab64-28e4-41e1-9b4c-baf079c6e037",
   "metadata": {},
   "source": [
    "As he can see, the target feature was balanced. But lets look at the other features, like we did in preprocessing, just as a sanity check.\n"
   ]
  },
  {
   "cell_type": "code",
   "execution_count": 11,
   "id": "77254f60-0c0e-4b07-b36c-3b128eeaf845",
   "metadata": {},
   "outputs": [
    {
     "data": {
      "image/png": "[encoded data removed]",
      "text/plain": [
       "<Figure size 432x288 with 1 Axes>"
      ]
     },
     "metadata": {
      "needs_background": "light"
     },
     "output_type": "display_data"
    },
    {
     "data": {
      "image/png": "[encoded data removed]",
      "text/plain": [
       "<Figure size 432x288 with 1 Axes>"
      ]
     },
     "metadata": {
      "needs_background": "light"
     },
     "output_type": "display_data"
    },
    {
     "data": {
      "image/png": "[encoded data removed]",
      "text/plain": [
       "<Figure size 432x288 with 1 Axes>"
      ]
     },
     "metadata": {
      "needs_background": "light"
     },
     "output_type": "display_data"
    },
    {
     "data": {
      "image/png": "[encoded data removed]",
      "text/plain": [
       "<Figure size 432x288 with 1 Axes>"
      ]
     },
     "metadata": {
      "needs_background": "light"
     },
     "output_type": "display_data"
    },
    {
     "data": {
      "image/png": "[encoded data removed]",
      "text/plain": [
       "<Figure size 432x288 with 1 Axes>"
      ]
     },
     "metadata": {
      "needs_background": "light"
     },
     "output_type": "display_data"
    },
    {
     "data": {
      "image/png": "[encoded data removed]",
      "text/plain": [
       "<Figure size 432x288 with 1 Axes>"
      ]
     },
     "metadata": {
      "needs_background": "light"
     },
     "output_type": "display_data"
    },
    {
     "data": {
      "image/png": "[encoded data removed]",
      "text/plain": [
       "<Figure size 432x288 with 1 Axes>"
      ]
     },
     "metadata": {
      "needs_background": "light"
     },
     "output_type": "display_data"
    },
    {
     "data": {
      "image/png": "[encoded data removed]",
      "text/plain": [
       "<Figure size 432x288 with 1 Axes>"
      ]
     },
     "metadata": {
      "needs_background": "light"
     },
     "output_type": "display_data"
    },
    {
     "data": {
      "image/png": "[encoded data removed]",
      "text/plain": [
       "<Figure size 432x288 with 1 Axes>"
      ]
     },
     "metadata": {
      "needs_background": "light"
     },
     "output_type": "display_data"
    }
   ],
   "source": [
    "_STRING_TO_BOOL_FEATURES = ['HeartDisease', 'Smoking', 'AlcoholDrinking', 'Stroke', 'DiffWalking', 'PhysicalActivity', 'Asthma', 'KidneyDisease', 'SkinCancer'] \n",
    "if _USE_IMBALANCE_DATASET:\n",
    "    for i in _STRING_TO_BOOL_FEATURES:\n",
    "        sns.countplot(x = heartDisease_imbalance[i])\n",
    "        plt.show()"
   ]
  },
  {
   "cell_type": "code",
   "execution_count": 12,
   "id": "2d2c9585-75e3-4805-b06f-b1d1dd3bbd03",
   "metadata": {},
   "outputs": [
    {
     "name": "stdout",
     "output_type": "stream",
     "text": [
      "0.502\n",
      "0.557\n",
      "0.065\n",
      "0.123\n",
      "0.284\n",
      "0.779\n",
      "0.19\n",
      "0.103\n",
      "0.164\n"
     ]
    }
   ],
   "source": [
    "if _USE_IMBALANCE_DATASET:\n",
    "    for i in _STRING_TO_BOOL_FEATURES:\n",
    "        true_false_rate = round(heartDisease_imbalance[i].sum()/heartDisease_imbalance[i].count(),3)\n",
    "        print(true_false_rate)"
   ]
  },
  {
   "cell_type": "markdown",
   "id": "1eab143b-7673-4e6e-ba6e-1ae6665a9b13",
   "metadata": {},
   "source": [
    "| Feature          | Original | Imbalanced Fixed | Difference (%) |\n",
    "|------------------|----------|------------------|----------------|\n",
    "| HeartDisease     | 0.086    | 0.502            | 41.6%          |\n",
    "| Smoking          | 0.412    | 0.557            | 14.5%          |\n",
    "| AlcoholDrinking  | 0.068    | 0.065            | -0.3%          |\n",
    "| Stroke           | 0.038    | 0.123            | 8.5%           |\n",
    "| DiffWalking      | 0.139    | 0.284            | 14.5%          |\n",
    "| PhysicalActivity | 0.775    | 0.779            | 0.4%           |\n",
    "| Asthma           | 0.134    | 0.19             | 5.6%           |\n",
    "| KidneyDisease    | 0.037    | 0.103            | 6.6%           |\n",
    "| SkinCancer       | 0.093    | 0.164            | 7.1%           |\n",
    "\n",
    "We can see that the features that changed the most from one dataset to the other were the huge increase in the samples of `Smoking`, and `DiffWalking`.  \n",
    "But overall every feature increased the sample size in the `True` label, except `AlcoholDrinking`, which actually decreased slightly, and `PhysicalActivity`, which increased slightly too.  \n",
    "\n",
    "If we check the Synthetic data subset, we might expect that the features with most differences from the original to imbalance fixed are the ones who lean more towards the `True` label."
   ]
  },
  {
   "cell_type": "code",
   "execution_count": 13,
   "id": "fa0165ac-51df-48d9-978d-f3be24aca12b",
   "metadata": {},
   "outputs": [
    {
     "data": {
      "image/png": "[encoded data removed]",
      "text/plain": [
       "<Figure size 432x288 with 1 Axes>"
      ]
     },
     "metadata": {
      "needs_background": "light"
     },
     "output_type": "display_data"
    },
    {
     "data": {
      "image/png": "[encoded data removed]",
      "text/plain": [
       "<Figure size 432x288 with 1 Axes>"
      ]
     },
     "metadata": {
      "needs_background": "light"
     },
     "output_type": "display_data"
    },
    {
     "data": {
      "image/png": "[encoded data removed]",
      "text/plain": [
       "<Figure size 432x288 with 1 Axes>"
      ]
     },
     "metadata": {
      "needs_background": "light"
     },
     "output_type": "display_data"
    },
    {
     "data": {
      "image/png": "[encoded data removed]",
      "text/plain": [
       "<Figure size 432x288 with 1 Axes>"
      ]
     },
     "metadata": {
      "needs_background": "light"
     },
     "output_type": "display_data"
    },
    {
     "data": {
      "image/png": "[encoded data removed]",
      "text/plain": [
       "<Figure size 432x288 with 1 Axes>"
      ]
     },
     "metadata": {
      "needs_background": "light"
     },
     "output_type": "display_data"
    },
    {
     "data": {
      "image/png": "[encoded data removed]",
      "text/plain": [
       "<Figure size 432x288 with 1 Axes>"
      ]
     },
     "metadata": {
      "needs_background": "light"
     },
     "output_type": "display_data"
    },
    {
     "data": {
      "image/png": "[encoded data removed]",
      "text/plain": [
       "<Figure size 432x288 with 1 Axes>"
      ]
     },
     "metadata": {
      "needs_background": "light"
     },
     "output_type": "display_data"
    },
    {
     "data": {
      "image/png": "[encoded data removed]",
      "text/plain": [
       "<Figure size 432x288 with 1 Axes>"
      ]
     },
     "metadata": {
      "needs_background": "light"
     },
     "output_type": "display_data"
    },
    {
     "data": {
      "image/png": "[encoded data removed]",
      "text/plain": [
       "<Figure size 432x288 with 1 Axes>"
      ]
     },
     "metadata": {
      "needs_background": "light"
     },
     "output_type": "display_data"
    }
   ],
   "source": [
    "if _USE_IMBALANCE_DATASET:\n",
    "    for i in _STRING_TO_BOOL_FEATURES:\n",
    "        sns.countplot(x = heartDisease_imbalance[(heartDisease_imbalance['FLAG_REAL'] == 0)][i])\n",
    "        plt.show()"
   ]
  },
  {
   "cell_type": "code",
   "execution_count": 14,
   "id": "ec30bc12-b119-43e5-8476-c60b32e2fedd",
   "metadata": {},
   "outputs": [],
   "source": [
    "if _USE_IMBALANCE_DATASET:\n",
    "    heartDisease_imbalance"
   ]
  },
  {
   "cell_type": "code",
   "execution_count": 15,
   "id": "1458d42b-09a3-440e-8bae-b868b2850644",
   "metadata": {},
   "outputs": [
    {
     "data": {
      "image/png": "[encoded data removed]",
      "text/plain": [
       "<Figure size 360x360 with 1 Axes>"
      ]
     },
     "metadata": {
      "needs_background": "light"
     },
     "output_type": "display_data"
    },
    {
     "data": {
      "image/png": "[encoded data removed]",
      "text/plain": [
       "<Figure size 360x360 with 1 Axes>"
      ]
     },
     "metadata": {
      "needs_background": "light"
     },
     "output_type": "display_data"
    },
    {
     "data": {
      "image/png": "[encoded data removed]",
      "text/plain": [
       "<Figure size 360x360 with 1 Axes>"
      ]
     },
     "metadata": {
      "needs_background": "light"
     },
     "output_type": "display_data"
    },
    {
     "data": {
      "image/png": "[encoded data removed]",
      "text/plain": [
       "<Figure size 360x360 with 1 Axes>"
      ]
     },
     "metadata": {
      "needs_background": "light"
     },
     "output_type": "display_data"
    },
    {
     "data": {
      "image/png": "[encoded data removed]",
      "text/plain": [
       "<Figure size 360x360 with 1 Axes>"
      ]
     },
     "metadata": {
      "needs_background": "light"
     },
     "output_type": "display_data"
    },
    {
     "data": {
      "image/png": "[encoded data removed]",
      "text/plain": [
       "<Figure size 360x360 with 1 Axes>"
      ]
     },
     "metadata": {
      "needs_background": "light"
     },
     "output_type": "display_data"
    },
    {
     "data": {
      "image/png": "[encoded data removed]",
      "text/plain": [
       "<Figure size 360x360 with 1 Axes>"
      ]
     },
     "metadata": {
      "needs_background": "light"
     },
     "output_type": "display_data"
    },
    {
     "data": {
      "image/png": "[encoded data removed]",
      "text/plain": [
       "<Figure size 360x360 with 1 Axes>"
      ]
     },
     "metadata": {
      "needs_background": "light"
     },
     "output_type": "display_data"
    }
   ],
   "source": [
    "if _USE_IMBALANCE_DATASET:\n",
    "    _CONTINUOUS_FEATURES = heartDisease_imbalance.select_dtypes(include=['float64', 'int32', 'int64']).columns\n",
    "    for i in _CONTINUOUS_FEATURES:\n",
    "        unique_values = heartDisease_imbalance[i].unique()\n",
    "        sns.displot(x = heartDisease_imbalance[i], bins = 50 if i == 'BMI' else max(unique_values) - min(unique_values))\n",
    "        plt.show()"
   ]
  },
  {
   "cell_type": "code",
   "execution_count": 16,
   "id": "0b3af623-ae91-4b6b-b9cd-afd1b8f32c1b",
   "metadata": {},
   "outputs": [],
   "source": [
    "if _USE_IMBALANCE_DATASET:\n",
    "    heartDisease_imbalance.dtypes"
   ]
  },
  {
   "cell_type": "code",
   "execution_count": 17,
   "id": "59354480-61f0-47da-90ba-17dc7d7f7f35",
   "metadata": {},
   "outputs": [],
   "source": [
    "if _USE_IMBALANCE_DATASET:\n",
    "    heart_race_df = heartDisease_imbalance.filter(regex='^race_',axis=1).idxmax(axis=1)\n",
    "    heart_age_df = heartDisease_imbalance.filter(regex='^age_',axis=1).idxmax(axis=1)\n",
    "    heart_diabetic_df = heartDisease_imbalance.filter(regex='^diabetic_',axis=1).idxmax(axis=1)"
   ]
  },
  {
   "cell_type": "code",
   "execution_count": 18,
   "id": "4b71d600-8a67-4cde-8c60-ef2cddc7fa6e",
   "metadata": {},
   "outputs": [
    {
     "data": {
      "image/png": "[encoded data removed]",
      "text/plain": [
       "<Figure size 360x360 with 1 Axes>"
      ]
     },
     "metadata": {
      "needs_background": "light"
     },
     "output_type": "display_data"
    },
    {
     "data": {
      "image/png": "[encoded data removed]",
      "text/plain": [
       "<Figure size 360x360 with 1 Axes>"
      ]
     },
     "metadata": {
      "needs_background": "light"
     },
     "output_type": "display_data"
    },
    {
     "data": {
      "image/png": "[encoded data removed]",
      "text/plain": [
       "<Figure size 360x360 with 1 Axes>"
      ]
     },
     "metadata": {
      "needs_background": "light"
     },
     "output_type": "display_data"
    }
   ],
   "source": [
    "if _USE_IMBALANCE_DATASET:\n",
    "    for i in [heart_race_df, heart_age_df, heart_diabetic_df]:\n",
    "        sns.displot(x = i)\n",
    "        plt.xticks(rotation = 90)\n",
    "        plt.show()"
   ]
  },
  {
   "cell_type": "markdown",
   "id": "b8519a13-f01e-4f19-8cc8-fc73dd59f645",
   "metadata": {},
   "source": [
    "If this was a true model to implement into the real world, we would have to work on the `race` feature, because other races are being overshadowed by the `white` category. This is suboptimal when we are trying to help people. No intention to have prejudice, but diverging to fix this issue is not in the scope of this project."
   ]
  },
  {
   "cell_type": "code",
   "execution_count": 19,
   "id": "ef9e55c1-d263-4e86-8bd3-f27fe1f97c1f",
   "metadata": {},
   "outputs": [],
   "source": [
    "if _USE_IMBALANCE_DATASET:\n",
    "    dfHeart_preprocessed = heartDisease_imbalance"
   ]
  },
  {
   "cell_type": "markdown",
   "id": "da8bcd66-f710-4627-a613-88bb3bc2ed74",
   "metadata": {},
   "source": [
    "## Outliers\n",
    "\n",
    "Since the only feature truly prone to outliers is the `BMI`, lets look at it."
   ]
  },
  {
   "cell_type": "code",
   "execution_count": 20,
   "id": "4d5a88af-62b2-49e3-838b-9753c26414f0",
   "metadata": {},
   "outputs": [
    {
     "data": {
      "text/plain": [
       "<seaborn.axisgrid.FacetGrid at 0x7fc16940cdf0>"
      ]
     },
     "execution_count": 20,
     "metadata": {},
     "output_type": "execute_result"
    },
    {
     "data": {
      "image/png": "[encoded data removed]",
      "text/plain": [
       "<Figure size 360x360 with 1 Axes>"
      ]
     },
     "metadata": {
      "needs_background": "light"
     },
     "output_type": "display_data"
    }
   ],
   "source": [
    "sns.displot(x = dfHeart_preprocessed['BMI'])"
   ]
  },
  {
   "cell_type": "markdown",
   "id": "5af74aaa-37c4-4b6c-8487-b0995bf334d3",
   "metadata": {},
   "source": [
    "Let us apply the interquantile range method to see the value of the 99th percentile."
   ]
  },
  {
   "cell_type": "code",
   "execution_count": 21,
   "id": "16108a34-7321-4278-b965-df83fcadf7f6",
   "metadata": {},
   "outputs": [],
   "source": [
    "BMI_99 = np.percentile(dfHeart_preprocessed['BMI'], 99)"
   ]
  },
  {
   "cell_type": "code",
   "execution_count": 22,
   "id": "f437b110-ecfa-4f34-979b-566245ad2bfa",
   "metadata": {},
   "outputs": [],
   "source": [
    "dfHeart_filter_2 = dfHeart_preprocessed[(dfHeart_preprocessed['BMI'] >= BMI_99)]"
   ]
  },
  {
   "cell_type": "code",
   "execution_count": 23,
   "id": "4be03a38-eda5-4248-9d0b-236a5920604b",
   "metadata": {},
   "outputs": [
    {
     "name": "stdout",
     "output_type": "stream",
     "text": [
      "5828\n",
      "49.3418518434795\n"
     ]
    }
   ],
   "source": [
    "print(dfHeart_filter_2.shape[0])\n",
    "print(BMI_99)"
   ]
  },
  {
   "cell_type": "markdown",
   "id": "d26d86a0-325c-40c0-874a-079d4f59e49b",
   "metadata": {},
   "source": [
    "https://www.cdc.gov/nhsn/pdfs/commup/email-update-nov17.pdf  \n",
    "I think for pratical purposes, I'll use these guidelines, which cut every value below 12, and above 60."
   ]
  },
  {
   "cell_type": "code",
   "execution_count": 24,
   "id": "eb6b90c2-4eb8-4094-ad42-df5c96021004",
   "metadata": {},
   "outputs": [],
   "source": [
    "logging.info(f'COPY DATASET TO IMAGE')\n",
    "dfHeart_preprocessed_backup = dfHeart_preprocessed.copy()"
   ]
  },
  {
   "cell_type": "code",
   "execution_count": 25,
   "id": "e142ad46-2a9a-4ec8-9a67-b04436de6f76",
   "metadata": {},
   "outputs": [],
   "source": [
    "logging.info(f'REMOVE INCONSIDERATE BMI VALUES FROM DATASET')\n",
    "dfHeart_preprocessed = dfHeart_preprocessed[(dfHeart_preprocessed['BMI'] >= 12) & (dfHeart_preprocessed['BMI'] <= 60)]"
   ]
  },
  {
   "cell_type": "code",
   "execution_count": 26,
   "id": "b1bbb61a-aaa1-4c8d-9bcf-42abd1252854",
   "metadata": {},
   "outputs": [
    {
     "name": "stdout",
     "output_type": "stream",
     "text": [
      "About 0.998% of the data was removed, which is good enough.\n"
     ]
    }
   ],
   "source": [
    "print(f'About {round(dfHeart_preprocessed.shape[0]/dfHeart_preprocessed_backup.shape[0],3)}% of the data was removed, which is good enough.')"
   ]
  },
  {
   "cell_type": "code",
   "execution_count": 27,
   "id": "e7dc1009-bf2c-4944-a4bd-42c7a31f7d48",
   "metadata": {},
   "outputs": [
    {
     "data": {
      "text/plain": [
       "<seaborn.axisgrid.FacetGrid at 0x7fc1981401c0>"
      ]
     },
     "execution_count": 27,
     "metadata": {},
     "output_type": "execute_result"
    },
    {
     "data": {
      "image/png": "[encoded data removed]",
      "text/plain": [
       "<Figure size 360x360 with 1 Axes>"
      ]
     },
     "metadata": {
      "needs_background": "light"
     },
     "output_type": "display_data"
    }
   ],
   "source": [
    "sns.displot(x = dfHeart_preprocessed['BMI'])"
   ]
  },
  {
   "cell_type": "markdown",
   "id": "86531e99-220c-44b8-9619-1a3f6f58eaa9",
   "metadata": {},
   "source": [
    "## Feature Engineering\n",
    "\n",
    "Some of the feature engineering possible was already done, namely\n",
    "\n",
    "* Race to One Hot Encoding\n",
    "* Diabetic to One Hot Encoding\n",
    "* Age Category to One Hot Encoding and to Sequential Features\n",
    "* Gen Health to Sequence\n",
    "* Sex to 0 and 1\n",
    "\n",
    "Other possible feature engineering solutions would be:\n",
    "\n",
    "* Group Smoking, Alcohol Drinking and Physical Activity into a \"Bad Habits\" feature.\n",
    "* Group Stroke, Skin Cancer, Asthma and KidneyDisease into a \"Prior Diseases\" feature\n",
    "* Bin features PhysicalHealth and MentalHealth to \"No Days | 1 Week | 2 Weeks | 3 Weeks | 4 Weeks\"\n",
    "* Scaling of BMI\n",
    "\n",
    "First we split the dataset into train/test. "
   ]
  },
  {
   "cell_type": "code",
   "execution_count": 28,
   "id": "11eee75d-f3e8-4cb1-8ba8-1cb76e302e8a",
   "metadata": {},
   "outputs": [
    {
     "name": "stderr",
     "output_type": "stream",
     "text": [
      "/tmp/ipykernel_20497/1184306472.py:4: SettingWithCopyWarning: \n",
      "A value is trying to be set on a copy of a slice from a DataFrame.\n",
      "Try using .loc[row_indexer,col_indexer] = value instead\n",
      "\n",
      "See the caveats in the documentation: https://pandas.pydata.org/pandas-docs/stable/user_guide/indexing.html#returning-a-view-versus-a-copy\n",
      "  dfHeart_preprocessed[\"Set\"] = np.random.choice([\"train\", \"valid\", \"test\"], p =[.7, .1, .2], size=(dfHeart_preprocessed.shape[0],))\n"
     ]
    }
   ],
   "source": [
    "logging.info(f'ADD TRAIN/TEST/VALIDATION FEATURE TO Dataset')\n",
    "np.random.seed(999)\n",
    "if \"Set\" not in dfHeart_preprocessed.columns:\n",
    "    dfHeart_preprocessed[\"Set\"] = np.random.choice([\"train\", \"valid\", \"test\"], p =[.7, .1, .2], size=(dfHeart_preprocessed.shape[0],))"
   ]
  },
  {
   "cell_type": "markdown",
   "id": "ae306ad2-c1eb-4c74-91ad-416cbac188e6",
   "metadata": {},
   "source": [
    "### Scaling BMI"
   ]
  },
  {
   "cell_type": "code",
   "execution_count": 29,
   "id": "d627e106-3414-4168-ae7b-4ba076b64a9e",
   "metadata": {},
   "outputs": [],
   "source": [
    "logging.info(f'STANDARD SCALE BMI FEATURE')\n",
    "bmi_scaler = StandardScaler()\n",
    "bmi_scaler_fit = bmi_scaler.fit(dfHeart_preprocessed[(dfHeart_preprocessed['Set'] == 'train')]['BMI'].values.reshape(-1, 1))\n",
    "\n",
    "logging.info(f'SAVE STANDARD SCALE MAPPER')\n",
    "with open(f'{_ABSOLUTE_DIR}/../artifacts/transformation_maps/heart/bmi_scaler.pickle',\"wb\") as f:\n",
    "        pickle.dump(bmi_scaler_fit, f)"
   ]
  },
  {
   "cell_type": "code",
   "execution_count": 30,
   "id": "037dc0de-49a8-434c-8707-68cf52d47538",
   "metadata": {},
   "outputs": [
    {
     "name": "stderr",
     "output_type": "stream",
     "text": [
      "/tmp/ipykernel_20497/2796979027.py:1: SettingWithCopyWarning: \n",
      "A value is trying to be set on a copy of a slice from a DataFrame.\n",
      "Try using .loc[row_indexer,col_indexer] = value instead\n",
      "\n",
      "See the caveats in the documentation: https://pandas.pydata.org/pandas-docs/stable/user_guide/indexing.html#returning-a-view-versus-a-copy\n",
      "  dfHeart_preprocessed['BMI_scaled'] = bmi_scaler_fit.transform(dfHeart_preprocessed['BMI'].values.reshape(-1, 1))\n"
     ]
    }
   ],
   "source": [
    "dfHeart_preprocessed['BMI_scaled'] = bmi_scaler_fit.transform(dfHeart_preprocessed['BMI'].values.reshape(-1, 1))"
   ]
  },
  {
   "cell_type": "markdown",
   "id": "80d80534-93b4-497a-93aa-75c692dcd006",
   "metadata": {},
   "source": [
    "### Bin features Physical and Mental Health into weeks"
   ]
  },
  {
   "cell_type": "code",
   "execution_count": 31,
   "id": "817fdf36-51af-4680-91f5-f8d67346857c",
   "metadata": {},
   "outputs": [
    {
     "name": "stderr",
     "output_type": "stream",
     "text": [
      "/tmp/ipykernel_20497/2836517227.py:19: SettingWithCopyWarning: \n",
      "A value is trying to be set on a copy of a slice from a DataFrame.\n",
      "Try using .loc[row_indexer,col_indexer] = value instead\n",
      "\n",
      "See the caveats in the documentation: https://pandas.pydata.org/pandas-docs/stable/user_guide/indexing.html#returning-a-view-versus-a-copy\n",
      "  dfHeart_preprocessed['PhysicalHealth_weeks'] = np.select(conds_phw, choices_phw)\n"
     ]
    }
   ],
   "source": [
    "logging.info(f'PHYSICAL HEALTH TO WEEKS')\n",
    "# Physical Health\n",
    "conds_phw = [\n",
    "    dfHeart_preprocessed['PhysicalHealth'] == 0, \n",
    "    (dfHeart_preprocessed['PhysicalHealth'] > 0) & (dfHeart_preprocessed['PhysicalHealth'] <= 8), # 1 week\n",
    "    (dfHeart_preprocessed['PhysicalHealth'] > 8) & (dfHeart_preprocessed['PhysicalHealth'] <= 15), # 2 weeks\n",
    "    (dfHeart_preprocessed['PhysicalHealth'] > 15) & (dfHeart_preprocessed['PhysicalHealth'] <= 22), # 3 weeks\n",
    "    (dfHeart_preprocessed['PhysicalHealth'] > 22), # 4 weeks or more\n",
    "]\n",
    "\n",
    "choices_phw = [\n",
    "    0, \n",
    "    1, \n",
    "    2,\n",
    "    3,\n",
    "    4,\n",
    "]\n",
    "\n",
    "dfHeart_preprocessed['PhysicalHealth_weeks'] = np.select(conds_phw, choices_phw)"
   ]
  },
  {
   "cell_type": "code",
   "execution_count": 32,
   "id": "e31b11ea-073d-4c49-8433-58085578e54f",
   "metadata": {},
   "outputs": [
    {
     "name": "stderr",
     "output_type": "stream",
     "text": [
      "/tmp/ipykernel_20497/66384063.py:19: SettingWithCopyWarning: \n",
      "A value is trying to be set on a copy of a slice from a DataFrame.\n",
      "Try using .loc[row_indexer,col_indexer] = value instead\n",
      "\n",
      "See the caveats in the documentation: https://pandas.pydata.org/pandas-docs/stable/user_guide/indexing.html#returning-a-view-versus-a-copy\n",
      "  dfHeart_preprocessed['MentalHealth_weeks'] = np.select(conds_mhw, choices_mhw)\n"
     ]
    }
   ],
   "source": [
    "logging.info(f'MENTAL HEALTH TO WEEKS')\n",
    "# Mental Health\n",
    "conds_mhw = [\n",
    "    dfHeart_preprocessed['MentalHealth'] == 0, \n",
    "    (dfHeart_preprocessed['MentalHealth'] > 0) & (dfHeart_preprocessed['MentalHealth'] <= 8), # 1 week\n",
    "    (dfHeart_preprocessed['MentalHealth'] > 8) & (dfHeart_preprocessed['MentalHealth'] <= 15), # 2 weeks\n",
    "    (dfHeart_preprocessed['MentalHealth'] > 15) & (dfHeart_preprocessed['MentalHealth'] <= 22), # 3 weeks\n",
    "    (dfHeart_preprocessed['MentalHealth'] > 22), # 4 weeks or more\n",
    "]\n",
    "\n",
    "choices_mhw = [\n",
    "    0, \n",
    "    1, \n",
    "    2,\n",
    "    3,\n",
    "    4,\n",
    "]\n",
    "\n",
    "dfHeart_preprocessed['MentalHealth_weeks'] = np.select(conds_mhw, choices_mhw)"
   ]
  },
  {
   "cell_type": "markdown",
   "id": "7d5eb126-9ce2-43dd-b5e3-08eb5eab0f80",
   "metadata": {},
   "source": [
    "### Habits Feature"
   ]
  },
  {
   "cell_type": "code",
   "execution_count": 33,
   "id": "011bc204-2013-4477-96a9-ac672a49d63d",
   "metadata": {},
   "outputs": [
    {
     "name": "stderr",
     "output_type": "stream",
     "text": [
      "/tmp/ipykernel_20497/766781039.py:17: SettingWithCopyWarning: \n",
      "A value is trying to be set on a copy of a slice from a DataFrame.\n",
      "Try using .loc[row_indexer,col_indexer] = value instead\n",
      "\n",
      "See the caveats in the documentation: https://pandas.pydata.org/pandas-docs/stable/user_guide/indexing.html#returning-a-view-versus-a-copy\n",
      "  dfHeart_preprocessed['Habits'] = np.select(conds_habits, choices_habits, default = 2) # OK = 2\n"
     ]
    }
   ],
   "source": [
    "logging.info(f'CREATE HABITS FEATURE')\n",
    "# Group Smoking, Alcohol Drinking and Physical Activity into a \"Bad Habits\" feature.\n",
    "conds_habits = [\n",
    "    (dfHeart_preprocessed['Smoking'] == True) & (dfHeart_preprocessed['AlcoholDrinking'] == True) & (dfHeart_preprocessed['PhysicalActivity'] == False), \n",
    "    (dfHeart_preprocessed['Smoking'] == False) & (dfHeart_preprocessed['AlcoholDrinking'] == False) & (dfHeart_preprocessed['PhysicalActivity'] == True),\n",
    "    (dfHeart_preprocessed['Smoking'] == True) & (dfHeart_preprocessed['PhysicalActivity'] == False), \n",
    "    (dfHeart_preprocessed['AlcoholDrinking'] == True) & (dfHeart_preprocessed['PhysicalActivity'] == False), \n",
    "]\n",
    "\n",
    "choices_habits = [\n",
    "    1, # Bad = 1\n",
    "    3, # Good = 3 \n",
    "    1,\n",
    "    1,\n",
    "]\n",
    "\n",
    "dfHeart_preprocessed['Habits'] = np.select(conds_habits, choices_habits, default = 2) # OK = 2"
   ]
  },
  {
   "cell_type": "code",
   "execution_count": 34,
   "id": "8b2de1e0-f8c4-4c46-8e68-75bd53e74018",
   "metadata": {},
   "outputs": [
    {
     "data": {
      "text/plain": [
       "<AxesSubplot:xlabel='Habits', ylabel='count'>"
      ]
     },
     "execution_count": 34,
     "metadata": {},
     "output_type": "execute_result"
    },
    {
     "data": {
      "image/png": "[encoded data removed]",
      "text/plain": [
       "<Figure size 432x288 with 1 Axes>"
      ]
     },
     "metadata": {
      "needs_background": "light"
     },
     "output_type": "display_data"
    }
   ],
   "source": [
    "sns.countplot(x = dfHeart_preprocessed['Habits'])"
   ]
  },
  {
   "cell_type": "code",
   "execution_count": 35,
   "id": "005b6049-e3a4-466c-9f2c-3235445c17cd",
   "metadata": {},
   "outputs": [
    {
     "name": "stderr",
     "output_type": "stream",
     "text": [
      "/tmp/ipykernel_20497/965709856.py:14: SettingWithCopyWarning: \n",
      "A value is trying to be set on a copy of a slice from a DataFrame.\n",
      "Try using .loc[row_indexer,col_indexer] = value instead\n",
      "\n",
      "See the caveats in the documentation: https://pandas.pydata.org/pandas-docs/stable/user_guide/indexing.html#returning-a-view-versus-a-copy\n",
      "  dfHeart_preprocessed['PriorDiseases'] = np.select(conds_priors, choices_priors, default = 0)\n"
     ]
    }
   ],
   "source": [
    "# Group Stroke, Skin Cancer, Asthma and KidneyDisease into a \"Prior Diseases\" feature\n",
    "\n",
    "logging.info(f'CREATE PriorDiseases FEATURE')\n",
    "# Group Smoking, Alcohol Drinking and Physical Activity into a \"Bad Habits\" feature.\n",
    "conds_priors = [\n",
    "    (dfHeart_preprocessed['Stroke'] == True) | (dfHeart_preprocessed['SkinCancer'] == True) | \\\n",
    "    (dfHeart_preprocessed['KidneyDisease'] == True) | (dfHeart_preprocessed['Asthma'] == True), \n",
    "]\n",
    "\n",
    "choices_priors = [\n",
    "    1\n",
    "]\n",
    "\n",
    "dfHeart_preprocessed['PriorDiseases'] = np.select(conds_priors, choices_priors, default = 0)"
   ]
  },
  {
   "cell_type": "code",
   "execution_count": 36,
   "id": "b0cab8d2-f585-45dd-a9d4-f47fe41c8533",
   "metadata": {},
   "outputs": [
    {
     "data": {
      "text/plain": [
       "<AxesSubplot:xlabel='PriorDiseases', ylabel='count'>"
      ]
     },
     "execution_count": 36,
     "metadata": {},
     "output_type": "execute_result"
    },
    {
     "data": {
      "image/png": "[encoded data removed]",
      "text/plain": [
       "<Figure size 432x288 with 1 Axes>"
      ]
     },
     "metadata": {
      "needs_background": "light"
     },
     "output_type": "display_data"
    }
   ],
   "source": [
    "sns.countplot(x = dfHeart_preprocessed['PriorDiseases'])"
   ]
  },
  {
   "cell_type": "markdown",
   "id": "8bf04851-8203-4b0e-85da-be887604cc52",
   "metadata": {},
   "source": [
    "## Feature Selection / Dimensionality\n",
    "\n",
    "Lets use permutation Importance "
   ]
  },
  {
   "cell_type": "code",
   "execution_count": 37,
   "id": "0e6ab431-5eec-4c6e-9c9a-e16e9267e54b",
   "metadata": {},
   "outputs": [
    {
     "data": {
      "text/html": [
       "<div>\n",
       "<style scoped>\n",
       "    .dataframe tbody tr th:only-of-type {\n",
       "        vertical-align: middle;\n",
       "    }\n",
       "\n",
       "    .dataframe tbody tr th {\n",
       "        vertical-align: top;\n",
       "    }\n",
       "\n",
       "    .dataframe thead th {\n",
       "        text-align: right;\n",
       "    }\n",
       "</style>\n",
       "<table border=\"1\" class=\"dataframe\">\n",
       "  <thead>\n",
       "    <tr style=\"text-align: right;\">\n",
       "      <th></th>\n",
       "      <th>BMI</th>\n",
       "      <th>Smoking</th>\n",
       "      <th>AlcoholDrinking</th>\n",
       "      <th>Stroke</th>\n",
       "      <th>PhysicalHealth</th>\n",
       "      <th>MentalHealth</th>\n",
       "      <th>DiffWalking</th>\n",
       "      <th>Sex</th>\n",
       "      <th>PhysicalActivity</th>\n",
       "      <th>GenHealth</th>\n",
       "      <th>...</th>\n",
       "      <th>age_80orolder_fe</th>\n",
       "      <th>AgeCategory_seq_fe</th>\n",
       "      <th>HeartDisease</th>\n",
       "      <th>FLAG_REAL</th>\n",
       "      <th>Set</th>\n",
       "      <th>BMI_scaled</th>\n",
       "      <th>PhysicalHealth_weeks</th>\n",
       "      <th>MentalHealth_weeks</th>\n",
       "      <th>Habits</th>\n",
       "      <th>PriorDiseases</th>\n",
       "    </tr>\n",
       "  </thead>\n",
       "  <tbody>\n",
       "    <tr>\n",
       "      <th>0</th>\n",
       "      <td>16.600000</td>\n",
       "      <td>True</td>\n",
       "      <td>False</td>\n",
       "      <td>False</td>\n",
       "      <td>3</td>\n",
       "      <td>30</td>\n",
       "      <td>False</td>\n",
       "      <td>1</td>\n",
       "      <td>True</td>\n",
       "      <td>4</td>\n",
       "      <td>...</td>\n",
       "      <td>0</td>\n",
       "      <td>8</td>\n",
       "      <td>False</td>\n",
       "      <td>1</td>\n",
       "      <td>test</td>\n",
       "      <td>-1.942090</td>\n",
       "      <td>1</td>\n",
       "      <td>4</td>\n",
       "      <td>2</td>\n",
       "      <td>1</td>\n",
       "    </tr>\n",
       "    <tr>\n",
       "      <th>1</th>\n",
       "      <td>20.340000</td>\n",
       "      <td>False</td>\n",
       "      <td>False</td>\n",
       "      <td>True</td>\n",
       "      <td>0</td>\n",
       "      <td>0</td>\n",
       "      <td>False</td>\n",
       "      <td>1</td>\n",
       "      <td>True</td>\n",
       "      <td>4</td>\n",
       "      <td>...</td>\n",
       "      <td>1</td>\n",
       "      <td>13</td>\n",
       "      <td>False</td>\n",
       "      <td>1</td>\n",
       "      <td>train</td>\n",
       "      <td>-1.343988</td>\n",
       "      <td>0</td>\n",
       "      <td>0</td>\n",
       "      <td>3</td>\n",
       "      <td>1</td>\n",
       "    </tr>\n",
       "    <tr>\n",
       "      <th>2</th>\n",
       "      <td>26.580000</td>\n",
       "      <td>True</td>\n",
       "      <td>False</td>\n",
       "      <td>False</td>\n",
       "      <td>20</td>\n",
       "      <td>30</td>\n",
       "      <td>False</td>\n",
       "      <td>0</td>\n",
       "      <td>True</td>\n",
       "      <td>2</td>\n",
       "      <td>...</td>\n",
       "      <td>0</td>\n",
       "      <td>10</td>\n",
       "      <td>False</td>\n",
       "      <td>1</td>\n",
       "      <td>train</td>\n",
       "      <td>-0.346086</td>\n",
       "      <td>3</td>\n",
       "      <td>4</td>\n",
       "      <td>2</td>\n",
       "      <td>1</td>\n",
       "    </tr>\n",
       "    <tr>\n",
       "      <th>3</th>\n",
       "      <td>24.210000</td>\n",
       "      <td>False</td>\n",
       "      <td>False</td>\n",
       "      <td>False</td>\n",
       "      <td>0</td>\n",
       "      <td>0</td>\n",
       "      <td>False</td>\n",
       "      <td>1</td>\n",
       "      <td>False</td>\n",
       "      <td>3</td>\n",
       "      <td>...</td>\n",
       "      <td>0</td>\n",
       "      <td>12</td>\n",
       "      <td>False</td>\n",
       "      <td>1</td>\n",
       "      <td>train</td>\n",
       "      <td>-0.725097</td>\n",
       "      <td>0</td>\n",
       "      <td>0</td>\n",
       "      <td>2</td>\n",
       "      <td>1</td>\n",
       "    </tr>\n",
       "    <tr>\n",
       "      <th>4</th>\n",
       "      <td>23.710000</td>\n",
       "      <td>False</td>\n",
       "      <td>False</td>\n",
       "      <td>False</td>\n",
       "      <td>28</td>\n",
       "      <td>0</td>\n",
       "      <td>True</td>\n",
       "      <td>1</td>\n",
       "      <td>True</td>\n",
       "      <td>4</td>\n",
       "      <td>...</td>\n",
       "      <td>0</td>\n",
       "      <td>5</td>\n",
       "      <td>False</td>\n",
       "      <td>1</td>\n",
       "      <td>train</td>\n",
       "      <td>-0.805057</td>\n",
       "      <td>4</td>\n",
       "      <td>0</td>\n",
       "      <td>3</td>\n",
       "      <td>0</td>\n",
       "    </tr>\n",
       "    <tr>\n",
       "      <th>...</th>\n",
       "      <td>...</td>\n",
       "      <td>...</td>\n",
       "      <td>...</td>\n",
       "      <td>...</td>\n",
       "      <td>...</td>\n",
       "      <td>...</td>\n",
       "      <td>...</td>\n",
       "      <td>...</td>\n",
       "      <td>...</td>\n",
       "      <td>...</td>\n",
       "      <td>...</td>\n",
       "      <td>...</td>\n",
       "      <td>...</td>\n",
       "      <td>...</td>\n",
       "      <td>...</td>\n",
       "      <td>...</td>\n",
       "      <td>...</td>\n",
       "      <td>...</td>\n",
       "      <td>...</td>\n",
       "      <td>...</td>\n",
       "      <td>...</td>\n",
       "    </tr>\n",
       "    <tr>\n",
       "      <th>582696</th>\n",
       "      <td>25.984777</td>\n",
       "      <td>True</td>\n",
       "      <td>False</td>\n",
       "      <td>False</td>\n",
       "      <td>0</td>\n",
       "      <td>1</td>\n",
       "      <td>False</td>\n",
       "      <td>1</td>\n",
       "      <td>True</td>\n",
       "      <td>4</td>\n",
       "      <td>...</td>\n",
       "      <td>0</td>\n",
       "      <td>11</td>\n",
       "      <td>True</td>\n",
       "      <td>0</td>\n",
       "      <td>train</td>\n",
       "      <td>-0.441274</td>\n",
       "      <td>0</td>\n",
       "      <td>1</td>\n",
       "      <td>2</td>\n",
       "      <td>0</td>\n",
       "    </tr>\n",
       "    <tr>\n",
       "      <th>582697</th>\n",
       "      <td>26.543700</td>\n",
       "      <td>False</td>\n",
       "      <td>False</td>\n",
       "      <td>False</td>\n",
       "      <td>0</td>\n",
       "      <td>0</td>\n",
       "      <td>False</td>\n",
       "      <td>0</td>\n",
       "      <td>True</td>\n",
       "      <td>4</td>\n",
       "      <td>...</td>\n",
       "      <td>0</td>\n",
       "      <td>10</td>\n",
       "      <td>True</td>\n",
       "      <td>0</td>\n",
       "      <td>test</td>\n",
       "      <td>-0.351891</td>\n",
       "      <td>0</td>\n",
       "      <td>0</td>\n",
       "      <td>3</td>\n",
       "      <td>1</td>\n",
       "    </tr>\n",
       "    <tr>\n",
       "      <th>582698</th>\n",
       "      <td>26.458366</td>\n",
       "      <td>True</td>\n",
       "      <td>False</td>\n",
       "      <td>True</td>\n",
       "      <td>30</td>\n",
       "      <td>0</td>\n",
       "      <td>True</td>\n",
       "      <td>0</td>\n",
       "      <td>True</td>\n",
       "      <td>2</td>\n",
       "      <td>...</td>\n",
       "      <td>1</td>\n",
       "      <td>13</td>\n",
       "      <td>True</td>\n",
       "      <td>0</td>\n",
       "      <td>train</td>\n",
       "      <td>-0.365538</td>\n",
       "      <td>4</td>\n",
       "      <td>0</td>\n",
       "      <td>2</td>\n",
       "      <td>1</td>\n",
       "    </tr>\n",
       "    <tr>\n",
       "      <th>582699</th>\n",
       "      <td>27.956522</td>\n",
       "      <td>True</td>\n",
       "      <td>False</td>\n",
       "      <td>True</td>\n",
       "      <td>15</td>\n",
       "      <td>30</td>\n",
       "      <td>True</td>\n",
       "      <td>0</td>\n",
       "      <td>True</td>\n",
       "      <td>1</td>\n",
       "      <td>...</td>\n",
       "      <td>0</td>\n",
       "      <td>9</td>\n",
       "      <td>True</td>\n",
       "      <td>0</td>\n",
       "      <td>train</td>\n",
       "      <td>-0.125952</td>\n",
       "      <td>2</td>\n",
       "      <td>4</td>\n",
       "      <td>2</td>\n",
       "      <td>1</td>\n",
       "    </tr>\n",
       "    <tr>\n",
       "      <th>582700</th>\n",
       "      <td>25.689395</td>\n",
       "      <td>True</td>\n",
       "      <td>False</td>\n",
       "      <td>False</td>\n",
       "      <td>0</td>\n",
       "      <td>0</td>\n",
       "      <td>False</td>\n",
       "      <td>1</td>\n",
       "      <td>True</td>\n",
       "      <td>4</td>\n",
       "      <td>...</td>\n",
       "      <td>0</td>\n",
       "      <td>11</td>\n",
       "      <td>True</td>\n",
       "      <td>0</td>\n",
       "      <td>train</td>\n",
       "      <td>-0.488512</td>\n",
       "      <td>0</td>\n",
       "      <td>0</td>\n",
       "      <td>2</td>\n",
       "      <td>0</td>\n",
       "    </tr>\n",
       "  </tbody>\n",
       "</table>\n",
       "<p>581723 rows × 46 columns</p>\n",
       "</div>"
      ],
      "text/plain": [
       "              BMI  Smoking  AlcoholDrinking  Stroke  PhysicalHealth  \\\n",
       "0       16.600000     True            False   False               3   \n",
       "1       20.340000    False            False    True               0   \n",
       "2       26.580000     True            False   False              20   \n",
       "3       24.210000    False            False   False               0   \n",
       "4       23.710000    False            False   False              28   \n",
       "...           ...      ...              ...     ...             ...   \n",
       "582696  25.984777     True            False   False               0   \n",
       "582697  26.543700    False            False   False               0   \n",
       "582698  26.458366     True            False    True              30   \n",
       "582699  27.956522     True            False    True              15   \n",
       "582700  25.689395     True            False   False               0   \n",
       "\n",
       "        MentalHealth  DiffWalking  Sex  PhysicalActivity  GenHealth  ...  \\\n",
       "0                 30        False    1              True          4  ...   \n",
       "1                  0        False    1              True          4  ...   \n",
       "2                 30        False    0              True          2  ...   \n",
       "3                  0        False    1             False          3  ...   \n",
       "4                  0         True    1              True          4  ...   \n",
       "...              ...          ...  ...               ...        ...  ...   \n",
       "582696             1        False    1              True          4  ...   \n",
       "582697             0        False    0              True          4  ...   \n",
       "582698             0         True    0              True          2  ...   \n",
       "582699            30         True    0              True          1  ...   \n",
       "582700             0        False    1              True          4  ...   \n",
       "\n",
       "        age_80orolder_fe  AgeCategory_seq_fe  HeartDisease  FLAG_REAL    Set  \\\n",
       "0                      0                   8         False          1   test   \n",
       "1                      1                  13         False          1  train   \n",
       "2                      0                  10         False          1  train   \n",
       "3                      0                  12         False          1  train   \n",
       "4                      0                   5         False          1  train   \n",
       "...                  ...                 ...           ...        ...    ...   \n",
       "582696                 0                  11          True          0  train   \n",
       "582697                 0                  10          True          0   test   \n",
       "582698                 1                  13          True          0  train   \n",
       "582699                 0                   9          True          0  train   \n",
       "582700                 0                  11          True          0  train   \n",
       "\n",
       "        BMI_scaled  PhysicalHealth_weeks  MentalHealth_weeks  Habits  \\\n",
       "0        -1.942090                     1                   4       2   \n",
       "1        -1.343988                     0                   0       3   \n",
       "2        -0.346086                     3                   4       2   \n",
       "3        -0.725097                     0                   0       2   \n",
       "4        -0.805057                     4                   0       3   \n",
       "...            ...                   ...                 ...     ...   \n",
       "582696   -0.441274                     0                   1       2   \n",
       "582697   -0.351891                     0                   0       3   \n",
       "582698   -0.365538                     4                   0       2   \n",
       "582699   -0.125952                     2                   4       2   \n",
       "582700   -0.488512                     0                   0       2   \n",
       "\n",
       "        PriorDiseases  \n",
       "0                   1  \n",
       "1                   1  \n",
       "2                   1  \n",
       "3                   1  \n",
       "4                   0  \n",
       "...               ...  \n",
       "582696              0  \n",
       "582697              1  \n",
       "582698              1  \n",
       "582699              1  \n",
       "582700              0  \n",
       "\n",
       "[581723 rows x 46 columns]"
      ]
     },
     "execution_count": 37,
     "metadata": {},
     "output_type": "execute_result"
    }
   ],
   "source": [
    "dfHeart_preprocessed"
   ]
  },
  {
   "cell_type": "code",
   "execution_count": 38,
   "id": "7a2117c0-957b-4130-8aa6-612f9e0289eb",
   "metadata": {},
   "outputs": [],
   "source": [
    "import eli5\n",
    "from sklearn.tree import DecisionTreeClassifier\n",
    "from eli5.sklearn import PermutationImportance\n",
    "\n",
    "columns = [column for column in dfHeart_preprocessed.columns if column not in  ['HeartDisease', 'Set', 'FLAG_REAL']]\n"
   ]
  },
  {
   "cell_type": "code",
   "execution_count": 39,
   "id": "f82fbcd7-4a55-4fe3-950d-862f1e0b7be3",
   "metadata": {},
   "outputs": [],
   "source": [
    "np.random.seed(42)\n",
    "\n",
    "eli5Model = DecisionTreeClassifier()\n",
    "eli5Model.fit(dfHeart_preprocessed[columns], dfHeart_preprocessed['HeartDisease'])\n",
    "\n",
    "logging.info(f'Permutate features, n_iter = 10, cv=5')\n",
    "eli5Permutation = PermutationImportance(eli5Model, random_state=42).fit(dfHeart_preprocessed[columns], dfHeart_preprocessed['HeartDisease'], n_iter=10, cv=5)"
   ]
  },
  {
   "cell_type": "code",
   "execution_count": 40,
   "id": "f936aec5-cda9-4050-9e74-8fba4529d90c",
   "metadata": {},
   "outputs": [
    {
     "data": {
      "text/html": [
       "\n",
       "    <style>\n",
       "    table.eli5-weights tr:hover {\n",
       "        filter: brightness(85%);\n",
       "    }\n",
       "</style>\n",
       "\n",
       "\n",
       "\n",
       "    \n",
       "\n",
       "    \n",
       "\n",
       "    \n",
       "\n",
       "    \n",
       "\n",
       "    \n",
       "\n",
       "    \n",
       "\n",
       "\n",
       "    \n",
       "\n",
       "    \n",
       "\n",
       "    \n",
       "\n",
       "    \n",
       "\n",
       "    \n",
       "\n",
       "    \n",
       "\n",
       "\n",
       "    \n",
       "\n",
       "    \n",
       "\n",
       "    \n",
       "\n",
       "    \n",
       "\n",
       "    \n",
       "        <table class=\"eli5-weights eli5-feature-importances\" style=\"border-collapse: collapse; border: none; margin-top: 0em; table-layout: auto;\">\n",
       "    <thead>\n",
       "    <tr style=\"border: none;\">\n",
       "        <th style=\"padding: 0 1em 0 0.5em; text-align: right; border: none;\">Weight</th>\n",
       "        <th style=\"padding: 0 0.5em 0 0.5em; text-align: left; border: none;\">Feature</th>\n",
       "    </tr>\n",
       "    </thead>\n",
       "    <tbody>\n",
       "    \n",
       "        <tr style=\"background-color: hsl(120, 100.00%, 80.00%); border: none;\">\n",
       "            <td style=\"padding: 0 1em 0 0.5em; text-align: right; border: none;\">\n",
       "                0.2346\n",
       "                \n",
       "                    &plusmn; 0.0005\n",
       "                \n",
       "            </td>\n",
       "            <td style=\"padding: 0 0.5em 0 0.5em; text-align: left; border: none;\">\n",
       "                AgeCategory_seq_fe\n",
       "            </td>\n",
       "        </tr>\n",
       "    \n",
       "        <tr style=\"background-color: hsl(120, 100.00%, 81.46%); border: none;\">\n",
       "            <td style=\"padding: 0 1em 0 0.5em; text-align: right; border: none;\">\n",
       "                0.2106\n",
       "                \n",
       "                    &plusmn; 0.0004\n",
       "                \n",
       "            </td>\n",
       "            <td style=\"padding: 0 0.5em 0 0.5em; text-align: left; border: none;\">\n",
       "                BMI_scaled\n",
       "            </td>\n",
       "        </tr>\n",
       "    \n",
       "        <tr style=\"background-color: hsl(120, 100.00%, 81.83%); border: none;\">\n",
       "            <td style=\"padding: 0 1em 0 0.5em; text-align: right; border: none;\">\n",
       "                0.2045\n",
       "                \n",
       "                    &plusmn; 0.0006\n",
       "                \n",
       "            </td>\n",
       "            <td style=\"padding: 0 0.5em 0 0.5em; text-align: left; border: none;\">\n",
       "                GenHealth\n",
       "            </td>\n",
       "        </tr>\n",
       "    \n",
       "        <tr style=\"background-color: hsl(120, 100.00%, 81.93%); border: none;\">\n",
       "            <td style=\"padding: 0 1em 0 0.5em; text-align: right; border: none;\">\n",
       "                0.2029\n",
       "                \n",
       "                    &plusmn; 0.0006\n",
       "                \n",
       "            </td>\n",
       "            <td style=\"padding: 0 0.5em 0 0.5em; text-align: left; border: none;\">\n",
       "                BMI\n",
       "            </td>\n",
       "        </tr>\n",
       "    \n",
       "        <tr style=\"background-color: hsl(120, 100.00%, 86.80%); border: none;\">\n",
       "            <td style=\"padding: 0 1em 0 0.5em; text-align: right; border: none;\">\n",
       "                0.1296\n",
       "                \n",
       "                    &plusmn; 0.0007\n",
       "                \n",
       "            </td>\n",
       "            <td style=\"padding: 0 0.5em 0 0.5em; text-align: left; border: none;\">\n",
       "                Sex\n",
       "            </td>\n",
       "        </tr>\n",
       "    \n",
       "        <tr style=\"background-color: hsl(120, 100.00%, 87.82%); border: none;\">\n",
       "            <td style=\"padding: 0 1em 0 0.5em; text-align: right; border: none;\">\n",
       "                0.1155\n",
       "                \n",
       "                    &plusmn; 0.0002\n",
       "                \n",
       "            </td>\n",
       "            <td style=\"padding: 0 0.5em 0 0.5em; text-align: left; border: none;\">\n",
       "                Smoking\n",
       "            </td>\n",
       "        </tr>\n",
       "    \n",
       "        <tr style=\"background-color: hsl(120, 100.00%, 88.44%); border: none;\">\n",
       "            <td style=\"padding: 0 1em 0 0.5em; text-align: right; border: none;\">\n",
       "                0.1072\n",
       "                \n",
       "                    &plusmn; 0.0002\n",
       "                \n",
       "            </td>\n",
       "            <td style=\"padding: 0 0.5em 0 0.5em; text-align: left; border: none;\">\n",
       "                SleepTime\n",
       "            </td>\n",
       "        </tr>\n",
       "    \n",
       "        <tr style=\"background-color: hsl(120, 100.00%, 88.79%); border: none;\">\n",
       "            <td style=\"padding: 0 1em 0 0.5em; text-align: right; border: none;\">\n",
       "                0.1026\n",
       "                \n",
       "                    &plusmn; 0.0006\n",
       "                \n",
       "            </td>\n",
       "            <td style=\"padding: 0 0.5em 0 0.5em; text-align: left; border: none;\">\n",
       "                PriorDiseases\n",
       "            </td>\n",
       "        </tr>\n",
       "    \n",
       "        <tr style=\"background-color: hsl(120, 100.00%, 90.23%); border: none;\">\n",
       "            <td style=\"padding: 0 1em 0 0.5em; text-align: right; border: none;\">\n",
       "                0.0843\n",
       "                \n",
       "                    &plusmn; 0.0005\n",
       "                \n",
       "            </td>\n",
       "            <td style=\"padding: 0 0.5em 0 0.5em; text-align: left; border: none;\">\n",
       "                diabetic_no_fe\n",
       "            </td>\n",
       "        </tr>\n",
       "    \n",
       "        <tr style=\"background-color: hsl(120, 100.00%, 90.85%); border: none;\">\n",
       "            <td style=\"padding: 0 1em 0 0.5em; text-align: right; border: none;\">\n",
       "                0.0768\n",
       "                \n",
       "                    &plusmn; 0.0005\n",
       "                \n",
       "            </td>\n",
       "            <td style=\"padding: 0 0.5em 0 0.5em; text-align: left; border: none;\">\n",
       "                DiffWalking\n",
       "            </td>\n",
       "        </tr>\n",
       "    \n",
       "        <tr style=\"background-color: hsl(120, 100.00%, 91.25%); border: none;\">\n",
       "            <td style=\"padding: 0 1em 0 0.5em; text-align: right; border: none;\">\n",
       "                0.0720\n",
       "                \n",
       "                    &plusmn; 0.0003\n",
       "                \n",
       "            </td>\n",
       "            <td style=\"padding: 0 0.5em 0 0.5em; text-align: left; border: none;\">\n",
       "                PhysicalHealth\n",
       "            </td>\n",
       "        </tr>\n",
       "    \n",
       "        <tr style=\"background-color: hsl(120, 100.00%, 92.77%); border: none;\">\n",
       "            <td style=\"padding: 0 1em 0 0.5em; text-align: right; border: none;\">\n",
       "                0.0548\n",
       "                \n",
       "                    &plusmn; 0.0003\n",
       "                \n",
       "            </td>\n",
       "            <td style=\"padding: 0 0.5em 0 0.5em; text-align: left; border: none;\">\n",
       "                race_white_fe\n",
       "            </td>\n",
       "        </tr>\n",
       "    \n",
       "        <tr style=\"background-color: hsl(120, 100.00%, 92.87%); border: none;\">\n",
       "            <td style=\"padding: 0 1em 0 0.5em; text-align: right; border: none;\">\n",
       "                0.0538\n",
       "                \n",
       "                    &plusmn; 0.0003\n",
       "                \n",
       "            </td>\n",
       "            <td style=\"padding: 0 0.5em 0 0.5em; text-align: left; border: none;\">\n",
       "                MentalHealth\n",
       "            </td>\n",
       "        </tr>\n",
       "    \n",
       "        <tr style=\"background-color: hsl(120, 100.00%, 93.52%); border: none;\">\n",
       "            <td style=\"padding: 0 1em 0 0.5em; text-align: right; border: none;\">\n",
       "                0.0469\n",
       "                \n",
       "                    &plusmn; 0.0002\n",
       "                \n",
       "            </td>\n",
       "            <td style=\"padding: 0 0.5em 0 0.5em; text-align: left; border: none;\">\n",
       "                Stroke\n",
       "            </td>\n",
       "        </tr>\n",
       "    \n",
       "        <tr style=\"background-color: hsl(120, 100.00%, 94.31%); border: none;\">\n",
       "            <td style=\"padding: 0 1em 0 0.5em; text-align: right; border: none;\">\n",
       "                0.0389\n",
       "                \n",
       "                    &plusmn; 0.0004\n",
       "                \n",
       "            </td>\n",
       "            <td style=\"padding: 0 0.5em 0 0.5em; text-align: left; border: none;\">\n",
       "                PhysicalActivity\n",
       "            </td>\n",
       "        </tr>\n",
       "    \n",
       "        <tr style=\"background-color: hsl(120, 100.00%, 94.40%); border: none;\">\n",
       "            <td style=\"padding: 0 1em 0 0.5em; text-align: right; border: none;\">\n",
       "                0.0380\n",
       "                \n",
       "                    &plusmn; 0.0004\n",
       "                \n",
       "            </td>\n",
       "            <td style=\"padding: 0 0.5em 0 0.5em; text-align: left; border: none;\">\n",
       "                Habits\n",
       "            </td>\n",
       "        </tr>\n",
       "    \n",
       "        <tr style=\"background-color: hsl(120, 100.00%, 94.58%); border: none;\">\n",
       "            <td style=\"padding: 0 1em 0 0.5em; text-align: right; border: none;\">\n",
       "                0.0363\n",
       "                \n",
       "                    &plusmn; 0.0003\n",
       "                \n",
       "            </td>\n",
       "            <td style=\"padding: 0 0.5em 0 0.5em; text-align: left; border: none;\">\n",
       "                age_65-69_fe\n",
       "            </td>\n",
       "        </tr>\n",
       "    \n",
       "        <tr style=\"background-color: hsl(120, 100.00%, 94.85%); border: none;\">\n",
       "            <td style=\"padding: 0 1em 0 0.5em; text-align: right; border: none;\">\n",
       "                0.0338\n",
       "                \n",
       "                    &plusmn; 0.0002\n",
       "                \n",
       "            </td>\n",
       "            <td style=\"padding: 0 0.5em 0 0.5em; text-align: left; border: none;\">\n",
       "                MentalHealth_weeks\n",
       "            </td>\n",
       "        </tr>\n",
       "    \n",
       "        <tr style=\"background-color: hsl(120, 100.00%, 94.89%); border: none;\">\n",
       "            <td style=\"padding: 0 1em 0 0.5em; text-align: right; border: none;\">\n",
       "                0.0334\n",
       "                \n",
       "                    &plusmn; 0.0002\n",
       "                \n",
       "            </td>\n",
       "            <td style=\"padding: 0 0.5em 0 0.5em; text-align: left; border: none;\">\n",
       "                diabetic_yes_fe\n",
       "            </td>\n",
       "        </tr>\n",
       "    \n",
       "        <tr style=\"background-color: hsl(120, 100.00%, 94.95%); border: none;\">\n",
       "            <td style=\"padding: 0 1em 0 0.5em; text-align: right; border: none;\">\n",
       "                0.0329\n",
       "                \n",
       "                    &plusmn; 0.0001\n",
       "                \n",
       "            </td>\n",
       "            <td style=\"padding: 0 0.5em 0 0.5em; text-align: left; border: none;\">\n",
       "                race_hispanic_fe\n",
       "            </td>\n",
       "        </tr>\n",
       "    \n",
       "    \n",
       "        \n",
       "            <tr style=\"background-color: hsl(120, 100.00%, 94.95%); border: none;\">\n",
       "                <td colspan=\"2\" style=\"padding: 0 0.5em 0 0.5em; text-align: center; border: none; white-space: nowrap;\">\n",
       "                    <i>&hellip; 23 more &hellip;</i>\n",
       "                </td>\n",
       "            </tr>\n",
       "        \n",
       "    \n",
       "    </tbody>\n",
       "</table>\n",
       "    \n",
       "\n",
       "    \n",
       "\n",
       "\n",
       "    \n",
       "\n",
       "    \n",
       "\n",
       "    \n",
       "\n",
       "    \n",
       "\n",
       "    \n",
       "\n",
       "    \n",
       "\n",
       "\n",
       "\n"
      ],
      "text/plain": [
       "<IPython.core.display.HTML object>"
      ]
     },
     "execution_count": 40,
     "metadata": {},
     "output_type": "execute_result"
    }
   ],
   "source": [
    "eli5.show_weights(eli5Permutation, feature_names = dfHeart_preprocessed[columns].columns.tolist())"
   ]
  },
  {
   "cell_type": "markdown",
   "id": "fa53416e-d60b-4cc5-8b81-d51dc53f6809",
   "metadata": {},
   "source": [
    "BMI Scaled appears slightly more powerful that `BMI`. The `Age category` also has a lot of weight, and the same goes for `General Health`. `Smoking` and `SleepTime` also seem to be important features. Same as the engineered features `PriorDiseases` and `diabetic_no_fe`.  \n",
    "I don't think the `sex` should be included, even though it shows a high relative weight. The same for `race` features. Because in this case, Race and Gender shouldn't be jittering/biasing the model, because it's related to health. "
   ]
  },
  {
   "cell_type": "markdown",
   "id": "29ec8646-5764-4d96-a638-e755d007d46f",
   "metadata": {},
   "source": [
    "## Save Dataset"
   ]
  },
  {
   "cell_type": "code",
   "execution_count": 41,
   "id": "23bf360d-33d6-44a8-9c57-29538d2d6073",
   "metadata": {},
   "outputs": [],
   "source": [
    "logging.info(f'Saving Dataset')\n",
    "dfHeart_preprocessed.to_parquet(f'{_ABSOLUTE_DIR}/../artifacts/data/heart/heart_processed.parquet')"
   ]
  }
 ],
 "metadata": {
  "kernelspec": {
   "display_name": "Python 3 (ipykernel)",
   "language": "python",
   "name": "python3"
  },
  "language_info": {
   "codemirror_mode": {
    "name": "ipython",
    "version": 3
   },
   "file_extension": ".py",
   "mimetype": "text/x-python",
   "name": "python",
   "nbconvert_exporter": "python",
   "pygments_lexer": "ipython3",
   "version": "3.9.13"
  }
 },
 "nbformat": 4,
 "nbformat_minor": 5
}
