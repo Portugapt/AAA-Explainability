{
 "cells": [
  {
   "cell_type": "markdown",
   "id": "54b6b655-fbf6-49a4-a0a4-ca6eb52cf18e",
   "metadata": {},
   "source": [
    "# Heart Diseases Dataset Preprocessing\n",
    "\n",
    "Description"
   ]
  },
  {
   "cell_type": "markdown",
   "id": "f54dcbfa-0eb6-4a4b-8fef-8c67ed89dc14",
   "metadata": {},
   "source": [
    "## TODO \n",
    "\n",
    "* [ ] Feature descriptions\n",
    "* [X] Missing Data\n",
    "* [X] Column types\n",
    "* [X] Distribution\n",
    "* [ ] Correlations\n",
    "    * CramerV\n",
    "    * Pearson"
   ]
  },
  {
   "cell_type": "markdown",
   "id": "99f58b61-490a-4a14-9af9-4ae1e4c0050f",
   "metadata": {},
   "source": [
    "## Import libraries"
   ]
  },
  {
   "cell_type": "code",
   "execution_count": 1,
   "id": "a6a96278-3259-4617-a1fa-434ce7999cdd",
   "metadata": {},
   "outputs": [],
   "source": [
    "from datetime import datetime\n",
    "import logging\n",
    "_NOTEBOOK_START = datetime.now().strftime('%Y-%m-%d_%H-%M-%S')\n",
    "logging.basicConfig(filename=f'logs/heart_{_NOTEBOOK_START}.log', encoding='utf-8', level=logging.DEBUG, format='%(levelname)s:%(asctime)s:%(message)s')"
   ]
  },
  {
   "cell_type": "code",
   "execution_count": 2,
   "id": "e2028417-d37a-4c52-87fe-db5e00818d06",
   "metadata": {},
   "outputs": [],
   "source": [
    "import os\n",
    "_ABSOLUTE_DIR = os.getcwd()\n",
    "import typing\n",
    "\n",
    "import numpy as np\n",
    "import pandas as pd\n",
    "\n",
    "## Viz Libraries\n",
    "import matplotlib.pyplot as plt\n",
    "from matplotlib.colors import BoundaryNorm, ListedColormap\n",
    "import seaborn as sns\n",
    "\n",
    "## SKLEARN LIBRARIES\n",
    "from sklearn.preprocessing import OneHotEncoder\n",
    "\n",
    "## Correlations Library\n",
    "import phik\n",
    "\n",
    "logging.info(f'Imports loaded')"
   ]
  },
  {
   "cell_type": "markdown",
   "id": "f308f843-b66c-4103-886c-3866f1fbde47",
   "metadata": {},
   "source": [
    "## Load Data"
   ]
  },
  {
   "cell_type": "code",
   "execution_count": 3,
   "id": "66e4116d-3e21-4419-987a-125d47984837",
   "metadata": {},
   "outputs": [],
   "source": [
    "dfHeart_raw = pd.read_csv(f'{_ABSOLUTE_DIR}/../artifacts/data/heart/heart_raw.csv')\n",
    "logging.info(f'Load dataset from {_ABSOLUTE_DIR}/../artifacts/data/heart/heart_raw.csv')"
   ]
  },
  {
   "cell_type": "code",
   "execution_count": 4,
   "id": "d3187bff-562f-4f4e-9b64-9838ec95732b",
   "metadata": {},
   "outputs": [
    {
     "data": {
      "text/html": [
       "<div>\n",
       "<style scoped>\n",
       "    .dataframe tbody tr th:only-of-type {\n",
       "        vertical-align: middle;\n",
       "    }\n",
       "\n",
       "    .dataframe tbody tr th {\n",
       "        vertical-align: top;\n",
       "    }\n",
       "\n",
       "    .dataframe thead th {\n",
       "        text-align: right;\n",
       "    }\n",
       "</style>\n",
       "<table border=\"1\" class=\"dataframe\">\n",
       "  <thead>\n",
       "    <tr style=\"text-align: right;\">\n",
       "      <th></th>\n",
       "      <th>HeartDisease</th>\n",
       "      <th>BMI</th>\n",
       "      <th>Smoking</th>\n",
       "      <th>AlcoholDrinking</th>\n",
       "      <th>Stroke</th>\n",
       "      <th>PhysicalHealth</th>\n",
       "      <th>MentalHealth</th>\n",
       "      <th>DiffWalking</th>\n",
       "      <th>Sex</th>\n",
       "      <th>AgeCategory</th>\n",
       "      <th>Race</th>\n",
       "      <th>Diabetic</th>\n",
       "      <th>PhysicalActivity</th>\n",
       "      <th>GenHealth</th>\n",
       "      <th>SleepTime</th>\n",
       "      <th>Asthma</th>\n",
       "      <th>KidneyDisease</th>\n",
       "      <th>SkinCancer</th>\n",
       "    </tr>\n",
       "  </thead>\n",
       "  <tbody>\n",
       "    <tr>\n",
       "      <th>0</th>\n",
       "      <td>No</td>\n",
       "      <td>16.60</td>\n",
       "      <td>Yes</td>\n",
       "      <td>No</td>\n",
       "      <td>No</td>\n",
       "      <td>3.0</td>\n",
       "      <td>30.0</td>\n",
       "      <td>No</td>\n",
       "      <td>Female</td>\n",
       "      <td>55-59</td>\n",
       "      <td>White</td>\n",
       "      <td>Yes</td>\n",
       "      <td>Yes</td>\n",
       "      <td>Very good</td>\n",
       "      <td>5.0</td>\n",
       "      <td>Yes</td>\n",
       "      <td>No</td>\n",
       "      <td>Yes</td>\n",
       "    </tr>\n",
       "    <tr>\n",
       "      <th>1</th>\n",
       "      <td>No</td>\n",
       "      <td>20.34</td>\n",
       "      <td>No</td>\n",
       "      <td>No</td>\n",
       "      <td>Yes</td>\n",
       "      <td>0.0</td>\n",
       "      <td>0.0</td>\n",
       "      <td>No</td>\n",
       "      <td>Female</td>\n",
       "      <td>80 or older</td>\n",
       "      <td>White</td>\n",
       "      <td>No</td>\n",
       "      <td>Yes</td>\n",
       "      <td>Very good</td>\n",
       "      <td>7.0</td>\n",
       "      <td>No</td>\n",
       "      <td>No</td>\n",
       "      <td>No</td>\n",
       "    </tr>\n",
       "    <tr>\n",
       "      <th>2</th>\n",
       "      <td>No</td>\n",
       "      <td>26.58</td>\n",
       "      <td>Yes</td>\n",
       "      <td>No</td>\n",
       "      <td>No</td>\n",
       "      <td>20.0</td>\n",
       "      <td>30.0</td>\n",
       "      <td>No</td>\n",
       "      <td>Male</td>\n",
       "      <td>65-69</td>\n",
       "      <td>White</td>\n",
       "      <td>Yes</td>\n",
       "      <td>Yes</td>\n",
       "      <td>Fair</td>\n",
       "      <td>8.0</td>\n",
       "      <td>Yes</td>\n",
       "      <td>No</td>\n",
       "      <td>No</td>\n",
       "    </tr>\n",
       "    <tr>\n",
       "      <th>3</th>\n",
       "      <td>No</td>\n",
       "      <td>24.21</td>\n",
       "      <td>No</td>\n",
       "      <td>No</td>\n",
       "      <td>No</td>\n",
       "      <td>0.0</td>\n",
       "      <td>0.0</td>\n",
       "      <td>No</td>\n",
       "      <td>Female</td>\n",
       "      <td>75-79</td>\n",
       "      <td>White</td>\n",
       "      <td>No</td>\n",
       "      <td>No</td>\n",
       "      <td>Good</td>\n",
       "      <td>6.0</td>\n",
       "      <td>No</td>\n",
       "      <td>No</td>\n",
       "      <td>Yes</td>\n",
       "    </tr>\n",
       "    <tr>\n",
       "      <th>4</th>\n",
       "      <td>No</td>\n",
       "      <td>23.71</td>\n",
       "      <td>No</td>\n",
       "      <td>No</td>\n",
       "      <td>No</td>\n",
       "      <td>28.0</td>\n",
       "      <td>0.0</td>\n",
       "      <td>Yes</td>\n",
       "      <td>Female</td>\n",
       "      <td>40-44</td>\n",
       "      <td>White</td>\n",
       "      <td>No</td>\n",
       "      <td>Yes</td>\n",
       "      <td>Very good</td>\n",
       "      <td>8.0</td>\n",
       "      <td>No</td>\n",
       "      <td>No</td>\n",
       "      <td>No</td>\n",
       "    </tr>\n",
       "    <tr>\n",
       "      <th>...</th>\n",
       "      <td>...</td>\n",
       "      <td>...</td>\n",
       "      <td>...</td>\n",
       "      <td>...</td>\n",
       "      <td>...</td>\n",
       "      <td>...</td>\n",
       "      <td>...</td>\n",
       "      <td>...</td>\n",
       "      <td>...</td>\n",
       "      <td>...</td>\n",
       "      <td>...</td>\n",
       "      <td>...</td>\n",
       "      <td>...</td>\n",
       "      <td>...</td>\n",
       "      <td>...</td>\n",
       "      <td>...</td>\n",
       "      <td>...</td>\n",
       "      <td>...</td>\n",
       "    </tr>\n",
       "    <tr>\n",
       "      <th>319790</th>\n",
       "      <td>Yes</td>\n",
       "      <td>27.41</td>\n",
       "      <td>Yes</td>\n",
       "      <td>No</td>\n",
       "      <td>No</td>\n",
       "      <td>7.0</td>\n",
       "      <td>0.0</td>\n",
       "      <td>Yes</td>\n",
       "      <td>Male</td>\n",
       "      <td>60-64</td>\n",
       "      <td>Hispanic</td>\n",
       "      <td>Yes</td>\n",
       "      <td>No</td>\n",
       "      <td>Fair</td>\n",
       "      <td>6.0</td>\n",
       "      <td>Yes</td>\n",
       "      <td>No</td>\n",
       "      <td>No</td>\n",
       "    </tr>\n",
       "    <tr>\n",
       "      <th>319791</th>\n",
       "      <td>No</td>\n",
       "      <td>29.84</td>\n",
       "      <td>Yes</td>\n",
       "      <td>No</td>\n",
       "      <td>No</td>\n",
       "      <td>0.0</td>\n",
       "      <td>0.0</td>\n",
       "      <td>No</td>\n",
       "      <td>Male</td>\n",
       "      <td>35-39</td>\n",
       "      <td>Hispanic</td>\n",
       "      <td>No</td>\n",
       "      <td>Yes</td>\n",
       "      <td>Very good</td>\n",
       "      <td>5.0</td>\n",
       "      <td>Yes</td>\n",
       "      <td>No</td>\n",
       "      <td>No</td>\n",
       "    </tr>\n",
       "    <tr>\n",
       "      <th>319792</th>\n",
       "      <td>No</td>\n",
       "      <td>24.24</td>\n",
       "      <td>No</td>\n",
       "      <td>No</td>\n",
       "      <td>No</td>\n",
       "      <td>0.0</td>\n",
       "      <td>0.0</td>\n",
       "      <td>No</td>\n",
       "      <td>Female</td>\n",
       "      <td>45-49</td>\n",
       "      <td>Hispanic</td>\n",
       "      <td>No</td>\n",
       "      <td>Yes</td>\n",
       "      <td>Good</td>\n",
       "      <td>6.0</td>\n",
       "      <td>No</td>\n",
       "      <td>No</td>\n",
       "      <td>No</td>\n",
       "    </tr>\n",
       "    <tr>\n",
       "      <th>319793</th>\n",
       "      <td>No</td>\n",
       "      <td>32.81</td>\n",
       "      <td>No</td>\n",
       "      <td>No</td>\n",
       "      <td>No</td>\n",
       "      <td>0.0</td>\n",
       "      <td>0.0</td>\n",
       "      <td>No</td>\n",
       "      <td>Female</td>\n",
       "      <td>25-29</td>\n",
       "      <td>Hispanic</td>\n",
       "      <td>No</td>\n",
       "      <td>No</td>\n",
       "      <td>Good</td>\n",
       "      <td>12.0</td>\n",
       "      <td>No</td>\n",
       "      <td>No</td>\n",
       "      <td>No</td>\n",
       "    </tr>\n",
       "    <tr>\n",
       "      <th>319794</th>\n",
       "      <td>No</td>\n",
       "      <td>46.56</td>\n",
       "      <td>No</td>\n",
       "      <td>No</td>\n",
       "      <td>No</td>\n",
       "      <td>0.0</td>\n",
       "      <td>0.0</td>\n",
       "      <td>No</td>\n",
       "      <td>Female</td>\n",
       "      <td>80 or older</td>\n",
       "      <td>Hispanic</td>\n",
       "      <td>No</td>\n",
       "      <td>Yes</td>\n",
       "      <td>Good</td>\n",
       "      <td>8.0</td>\n",
       "      <td>No</td>\n",
       "      <td>No</td>\n",
       "      <td>No</td>\n",
       "    </tr>\n",
       "  </tbody>\n",
       "</table>\n",
       "<p>319795 rows × 18 columns</p>\n",
       "</div>"
      ],
      "text/plain": [
       "       HeartDisease    BMI Smoking AlcoholDrinking Stroke  PhysicalHealth  \\\n",
       "0                No  16.60     Yes              No     No             3.0   \n",
       "1                No  20.34      No              No    Yes             0.0   \n",
       "2                No  26.58     Yes              No     No            20.0   \n",
       "3                No  24.21      No              No     No             0.0   \n",
       "4                No  23.71      No              No     No            28.0   \n",
       "...             ...    ...     ...             ...    ...             ...   \n",
       "319790          Yes  27.41     Yes              No     No             7.0   \n",
       "319791           No  29.84     Yes              No     No             0.0   \n",
       "319792           No  24.24      No              No     No             0.0   \n",
       "319793           No  32.81      No              No     No             0.0   \n",
       "319794           No  46.56      No              No     No             0.0   \n",
       "\n",
       "        MentalHealth DiffWalking     Sex  AgeCategory      Race Diabetic  \\\n",
       "0               30.0          No  Female        55-59     White      Yes   \n",
       "1                0.0          No  Female  80 or older     White       No   \n",
       "2               30.0          No    Male        65-69     White      Yes   \n",
       "3                0.0          No  Female        75-79     White       No   \n",
       "4                0.0         Yes  Female        40-44     White       No   \n",
       "...              ...         ...     ...          ...       ...      ...   \n",
       "319790           0.0         Yes    Male        60-64  Hispanic      Yes   \n",
       "319791           0.0          No    Male        35-39  Hispanic       No   \n",
       "319792           0.0          No  Female        45-49  Hispanic       No   \n",
       "319793           0.0          No  Female        25-29  Hispanic       No   \n",
       "319794           0.0          No  Female  80 or older  Hispanic       No   \n",
       "\n",
       "       PhysicalActivity  GenHealth  SleepTime Asthma KidneyDisease SkinCancer  \n",
       "0                   Yes  Very good        5.0    Yes            No        Yes  \n",
       "1                   Yes  Very good        7.0     No            No         No  \n",
       "2                   Yes       Fair        8.0    Yes            No         No  \n",
       "3                    No       Good        6.0     No            No        Yes  \n",
       "4                   Yes  Very good        8.0     No            No         No  \n",
       "...                 ...        ...        ...    ...           ...        ...  \n",
       "319790               No       Fair        6.0    Yes            No         No  \n",
       "319791              Yes  Very good        5.0    Yes            No         No  \n",
       "319792              Yes       Good        6.0     No            No         No  \n",
       "319793               No       Good       12.0     No            No         No  \n",
       "319794              Yes       Good        8.0     No            No         No  \n",
       "\n",
       "[319795 rows x 18 columns]"
      ]
     },
     "execution_count": 4,
     "metadata": {},
     "output_type": "execute_result"
    }
   ],
   "source": [
    "dfHeart_raw"
   ]
  },
  {
   "cell_type": "markdown",
   "id": "1100473d-e5ae-4c10-9096-3687a7c0155a",
   "metadata": {},
   "source": [
    "## Missing Data"
   ]
  },
  {
   "cell_type": "code",
   "execution_count": 5,
   "id": "bf8fb38a-cc5b-4001-bbef-ac93e984aa55",
   "metadata": {},
   "outputs": [
    {
     "data": {
      "text/plain": [
       "HeartDisease        0\n",
       "BMI                 0\n",
       "Smoking             0\n",
       "AlcoholDrinking     0\n",
       "Stroke              0\n",
       "PhysicalHealth      0\n",
       "MentalHealth        0\n",
       "DiffWalking         0\n",
       "Sex                 0\n",
       "AgeCategory         0\n",
       "Race                0\n",
       "Diabetic            0\n",
       "PhysicalActivity    0\n",
       "GenHealth           0\n",
       "SleepTime           0\n",
       "Asthma              0\n",
       "KidneyDisease       0\n",
       "SkinCancer          0\n",
       "dtype: int64"
      ]
     },
     "execution_count": 5,
     "metadata": {},
     "output_type": "execute_result"
    }
   ],
   "source": [
    "dfHeart_raw.isna().sum()"
   ]
  },
  {
   "cell_type": "markdown",
   "id": "f3649f50-5ea1-4250-b090-b6da99538510",
   "metadata": {},
   "source": [
    "-------\n",
    "\n",
    "We can see that there are no missing data in this dataset."
   ]
  },
  {
   "cell_type": "code",
   "execution_count": 6,
   "id": "a2bf6ee3-25c5-431c-ab17-7c2a67333bc3",
   "metadata": {},
   "outputs": [
    {
     "name": "stdout",
     "output_type": "stream",
     "text": [
      "HeartDisease: ['No' 'Yes']\n",
      "Smoking: ['Yes' 'No']\n",
      "AlcoholDrinking: ['No' 'Yes']\n",
      "Stroke: ['No' 'Yes']\n",
      "DiffWalking: ['No' 'Yes']\n",
      "Sex: ['Female' 'Male']\n",
      "AgeCategory: ['55-59' '80 or older' '65-69' '75-79' '40-44' '70-74' '60-64' '50-54'\n",
      " '45-49' '18-24' '35-39' '30-34' '25-29']\n",
      "Race: ['White' 'Black' 'Asian' 'American Indian/Alaskan Native' 'Other'\n",
      " 'Hispanic']\n",
      "Diabetic: ['Yes' 'No' 'No, borderline diabetes' 'Yes (during pregnancy)']\n",
      "PhysicalActivity: ['Yes' 'No']\n",
      "GenHealth: ['Very good' 'Fair' 'Good' 'Poor' 'Excellent']\n",
      "Asthma: ['Yes' 'No']\n",
      "KidneyDisease: ['No' 'Yes']\n",
      "SkinCancer: ['Yes' 'No']\n"
     ]
    }
   ],
   "source": [
    "for FEATURE in dfHeart_raw.select_dtypes(include=['object']):\n",
    "    logging.debug(f'FEATURE {FEATURE} UNIQUE VALUES')\n",
    "    print(f'{FEATURE}: {dfHeart_raw[FEATURE].unique()}')"
   ]
  },
  {
   "cell_type": "markdown",
   "id": "f680333f-8484-47b5-a504-0d95f7648bb2",
   "metadata": {},
   "source": [
    "-------\n",
    "\n",
    "There are also no categories in categorical features which indicate missing values, except in the Race feature, with the category *Other*"
   ]
  },
  {
   "cell_type": "markdown",
   "id": "d3e6fdf0-8f49-44e4-9779-1cdafe59c836",
   "metadata": {},
   "source": [
    "## Column types"
   ]
  },
  {
   "cell_type": "code",
   "execution_count": 7,
   "id": "c325dd96-5a44-47d4-b118-c171e41a4784",
   "metadata": {},
   "outputs": [
    {
     "data": {
      "text/plain": [
       "HeartDisease         object\n",
       "BMI                 float64\n",
       "Smoking              object\n",
       "AlcoholDrinking      object\n",
       "Stroke               object\n",
       "PhysicalHealth      float64\n",
       "MentalHealth        float64\n",
       "DiffWalking          object\n",
       "Sex                  object\n",
       "AgeCategory          object\n",
       "Race                 object\n",
       "Diabetic             object\n",
       "PhysicalActivity     object\n",
       "GenHealth            object\n",
       "SleepTime           float64\n",
       "Asthma               object\n",
       "KidneyDisease        object\n",
       "SkinCancer           object\n",
       "dtype: object"
      ]
     },
     "execution_count": 7,
     "metadata": {},
     "output_type": "execute_result"
    }
   ],
   "source": [
    "dfHeart_raw.dtypes"
   ]
  },
  {
   "cell_type": "markdown",
   "id": "c9d6ad41-81cc-4a27-b5a0-b362aa110cb3",
   "metadata": {},
   "source": [
    "----\n",
    "\n",
    "In a first eye look, we can notice that the Yes/No features are encoded as object (strings) but they are binary. So our first approach is to transform these features into boolean.    \n",
    "\n",
    "\n",
    "Lets do that then"
   ]
  },
  {
   "cell_type": "code",
   "execution_count": 8,
   "id": "0f1b2be4-0aef-439f-981f-4ea39a86ee48",
   "metadata": {},
   "outputs": [],
   "source": [
    "logging.debug('Create copy of dataset')\n",
    "dfHeart_v1 = dfHeart_raw.copy()"
   ]
  },
  {
   "cell_type": "markdown",
   "id": "6ea53502-2266-40bd-9946-3d9211b72cd8",
   "metadata": {},
   "source": [
    "### Yes/No Features"
   ]
  },
  {
   "cell_type": "code",
   "execution_count": 9,
   "id": "9e1ef4f1-0973-4669-b4d5-79c0b41c1139",
   "metadata": {},
   "outputs": [],
   "source": [
    "logging.debug('Creating _STRING_TO_BOOL_FEATURES')\n",
    "_STRING_TO_BOOL_FEATURES = ['HeartDisease', 'Smoking', 'AlcoholDrinking', 'Stroke', 'DiffWalking', 'PhysicalActivity', 'Asthma', 'KidneyDisease', 'SkinCancer'] "
   ]
  },
  {
   "cell_type": "code",
   "execution_count": 10,
   "id": "a3531fa2-1966-41d2-9e53-3aafa4982cc7",
   "metadata": {},
   "outputs": [],
   "source": [
    "for _FEATURE in _STRING_TO_BOOL_FEATURES:\n",
    "    logging.debug(f'FEATURE {_FEATURE} TO BOOL')\n",
    "    dfHeart_v1[_FEATURE] = dfHeart_v1[_FEATURE].map({'Yes':True, 'No':False})"
   ]
  },
  {
   "cell_type": "code",
   "execution_count": 11,
   "id": "0615f984-17ee-4ce0-9ff9-d4b7109832b4",
   "metadata": {},
   "outputs": [
    {
     "data": {
      "text/html": [
       "<div>\n",
       "<style scoped>\n",
       "    .dataframe tbody tr th:only-of-type {\n",
       "        vertical-align: middle;\n",
       "    }\n",
       "\n",
       "    .dataframe tbody tr th {\n",
       "        vertical-align: top;\n",
       "    }\n",
       "\n",
       "    .dataframe thead th {\n",
       "        text-align: right;\n",
       "    }\n",
       "</style>\n",
       "<table border=\"1\" class=\"dataframe\">\n",
       "  <thead>\n",
       "    <tr style=\"text-align: right;\">\n",
       "      <th></th>\n",
       "      <th>HeartDisease</th>\n",
       "      <th>BMI</th>\n",
       "      <th>Smoking</th>\n",
       "      <th>AlcoholDrinking</th>\n",
       "      <th>Stroke</th>\n",
       "      <th>PhysicalHealth</th>\n",
       "      <th>MentalHealth</th>\n",
       "      <th>DiffWalking</th>\n",
       "      <th>Sex</th>\n",
       "      <th>AgeCategory</th>\n",
       "      <th>Race</th>\n",
       "      <th>Diabetic</th>\n",
       "      <th>PhysicalActivity</th>\n",
       "      <th>GenHealth</th>\n",
       "      <th>SleepTime</th>\n",
       "      <th>Asthma</th>\n",
       "      <th>KidneyDisease</th>\n",
       "      <th>SkinCancer</th>\n",
       "    </tr>\n",
       "  </thead>\n",
       "  <tbody>\n",
       "    <tr>\n",
       "      <th>0</th>\n",
       "      <td>False</td>\n",
       "      <td>16.60</td>\n",
       "      <td>True</td>\n",
       "      <td>False</td>\n",
       "      <td>False</td>\n",
       "      <td>3.0</td>\n",
       "      <td>30.0</td>\n",
       "      <td>False</td>\n",
       "      <td>Female</td>\n",
       "      <td>55-59</td>\n",
       "      <td>White</td>\n",
       "      <td>Yes</td>\n",
       "      <td>True</td>\n",
       "      <td>Very good</td>\n",
       "      <td>5.0</td>\n",
       "      <td>True</td>\n",
       "      <td>False</td>\n",
       "      <td>True</td>\n",
       "    </tr>\n",
       "    <tr>\n",
       "      <th>1</th>\n",
       "      <td>False</td>\n",
       "      <td>20.34</td>\n",
       "      <td>False</td>\n",
       "      <td>False</td>\n",
       "      <td>True</td>\n",
       "      <td>0.0</td>\n",
       "      <td>0.0</td>\n",
       "      <td>False</td>\n",
       "      <td>Female</td>\n",
       "      <td>80 or older</td>\n",
       "      <td>White</td>\n",
       "      <td>No</td>\n",
       "      <td>True</td>\n",
       "      <td>Very good</td>\n",
       "      <td>7.0</td>\n",
       "      <td>False</td>\n",
       "      <td>False</td>\n",
       "      <td>False</td>\n",
       "    </tr>\n",
       "    <tr>\n",
       "      <th>2</th>\n",
       "      <td>False</td>\n",
       "      <td>26.58</td>\n",
       "      <td>True</td>\n",
       "      <td>False</td>\n",
       "      <td>False</td>\n",
       "      <td>20.0</td>\n",
       "      <td>30.0</td>\n",
       "      <td>False</td>\n",
       "      <td>Male</td>\n",
       "      <td>65-69</td>\n",
       "      <td>White</td>\n",
       "      <td>Yes</td>\n",
       "      <td>True</td>\n",
       "      <td>Fair</td>\n",
       "      <td>8.0</td>\n",
       "      <td>True</td>\n",
       "      <td>False</td>\n",
       "      <td>False</td>\n",
       "    </tr>\n",
       "    <tr>\n",
       "      <th>3</th>\n",
       "      <td>False</td>\n",
       "      <td>24.21</td>\n",
       "      <td>False</td>\n",
       "      <td>False</td>\n",
       "      <td>False</td>\n",
       "      <td>0.0</td>\n",
       "      <td>0.0</td>\n",
       "      <td>False</td>\n",
       "      <td>Female</td>\n",
       "      <td>75-79</td>\n",
       "      <td>White</td>\n",
       "      <td>No</td>\n",
       "      <td>False</td>\n",
       "      <td>Good</td>\n",
       "      <td>6.0</td>\n",
       "      <td>False</td>\n",
       "      <td>False</td>\n",
       "      <td>True</td>\n",
       "    </tr>\n",
       "    <tr>\n",
       "      <th>4</th>\n",
       "      <td>False</td>\n",
       "      <td>23.71</td>\n",
       "      <td>False</td>\n",
       "      <td>False</td>\n",
       "      <td>False</td>\n",
       "      <td>28.0</td>\n",
       "      <td>0.0</td>\n",
       "      <td>True</td>\n",
       "      <td>Female</td>\n",
       "      <td>40-44</td>\n",
       "      <td>White</td>\n",
       "      <td>No</td>\n",
       "      <td>True</td>\n",
       "      <td>Very good</td>\n",
       "      <td>8.0</td>\n",
       "      <td>False</td>\n",
       "      <td>False</td>\n",
       "      <td>False</td>\n",
       "    </tr>\n",
       "    <tr>\n",
       "      <th>...</th>\n",
       "      <td>...</td>\n",
       "      <td>...</td>\n",
       "      <td>...</td>\n",
       "      <td>...</td>\n",
       "      <td>...</td>\n",
       "      <td>...</td>\n",
       "      <td>...</td>\n",
       "      <td>...</td>\n",
       "      <td>...</td>\n",
       "      <td>...</td>\n",
       "      <td>...</td>\n",
       "      <td>...</td>\n",
       "      <td>...</td>\n",
       "      <td>...</td>\n",
       "      <td>...</td>\n",
       "      <td>...</td>\n",
       "      <td>...</td>\n",
       "      <td>...</td>\n",
       "    </tr>\n",
       "    <tr>\n",
       "      <th>319790</th>\n",
       "      <td>True</td>\n",
       "      <td>27.41</td>\n",
       "      <td>True</td>\n",
       "      <td>False</td>\n",
       "      <td>False</td>\n",
       "      <td>7.0</td>\n",
       "      <td>0.0</td>\n",
       "      <td>True</td>\n",
       "      <td>Male</td>\n",
       "      <td>60-64</td>\n",
       "      <td>Hispanic</td>\n",
       "      <td>Yes</td>\n",
       "      <td>False</td>\n",
       "      <td>Fair</td>\n",
       "      <td>6.0</td>\n",
       "      <td>True</td>\n",
       "      <td>False</td>\n",
       "      <td>False</td>\n",
       "    </tr>\n",
       "    <tr>\n",
       "      <th>319791</th>\n",
       "      <td>False</td>\n",
       "      <td>29.84</td>\n",
       "      <td>True</td>\n",
       "      <td>False</td>\n",
       "      <td>False</td>\n",
       "      <td>0.0</td>\n",
       "      <td>0.0</td>\n",
       "      <td>False</td>\n",
       "      <td>Male</td>\n",
       "      <td>35-39</td>\n",
       "      <td>Hispanic</td>\n",
       "      <td>No</td>\n",
       "      <td>True</td>\n",
       "      <td>Very good</td>\n",
       "      <td>5.0</td>\n",
       "      <td>True</td>\n",
       "      <td>False</td>\n",
       "      <td>False</td>\n",
       "    </tr>\n",
       "    <tr>\n",
       "      <th>319792</th>\n",
       "      <td>False</td>\n",
       "      <td>24.24</td>\n",
       "      <td>False</td>\n",
       "      <td>False</td>\n",
       "      <td>False</td>\n",
       "      <td>0.0</td>\n",
       "      <td>0.0</td>\n",
       "      <td>False</td>\n",
       "      <td>Female</td>\n",
       "      <td>45-49</td>\n",
       "      <td>Hispanic</td>\n",
       "      <td>No</td>\n",
       "      <td>True</td>\n",
       "      <td>Good</td>\n",
       "      <td>6.0</td>\n",
       "      <td>False</td>\n",
       "      <td>False</td>\n",
       "      <td>False</td>\n",
       "    </tr>\n",
       "    <tr>\n",
       "      <th>319793</th>\n",
       "      <td>False</td>\n",
       "      <td>32.81</td>\n",
       "      <td>False</td>\n",
       "      <td>False</td>\n",
       "      <td>False</td>\n",
       "      <td>0.0</td>\n",
       "      <td>0.0</td>\n",
       "      <td>False</td>\n",
       "      <td>Female</td>\n",
       "      <td>25-29</td>\n",
       "      <td>Hispanic</td>\n",
       "      <td>No</td>\n",
       "      <td>False</td>\n",
       "      <td>Good</td>\n",
       "      <td>12.0</td>\n",
       "      <td>False</td>\n",
       "      <td>False</td>\n",
       "      <td>False</td>\n",
       "    </tr>\n",
       "    <tr>\n",
       "      <th>319794</th>\n",
       "      <td>False</td>\n",
       "      <td>46.56</td>\n",
       "      <td>False</td>\n",
       "      <td>False</td>\n",
       "      <td>False</td>\n",
       "      <td>0.0</td>\n",
       "      <td>0.0</td>\n",
       "      <td>False</td>\n",
       "      <td>Female</td>\n",
       "      <td>80 or older</td>\n",
       "      <td>Hispanic</td>\n",
       "      <td>No</td>\n",
       "      <td>True</td>\n",
       "      <td>Good</td>\n",
       "      <td>8.0</td>\n",
       "      <td>False</td>\n",
       "      <td>False</td>\n",
       "      <td>False</td>\n",
       "    </tr>\n",
       "  </tbody>\n",
       "</table>\n",
       "<p>319795 rows × 18 columns</p>\n",
       "</div>"
      ],
      "text/plain": [
       "        HeartDisease    BMI  Smoking  AlcoholDrinking  Stroke  PhysicalHealth  \\\n",
       "0              False  16.60     True            False   False             3.0   \n",
       "1              False  20.34    False            False    True             0.0   \n",
       "2              False  26.58     True            False   False            20.0   \n",
       "3              False  24.21    False            False   False             0.0   \n",
       "4              False  23.71    False            False   False            28.0   \n",
       "...              ...    ...      ...              ...     ...             ...   \n",
       "319790          True  27.41     True            False   False             7.0   \n",
       "319791         False  29.84     True            False   False             0.0   \n",
       "319792         False  24.24    False            False   False             0.0   \n",
       "319793         False  32.81    False            False   False             0.0   \n",
       "319794         False  46.56    False            False   False             0.0   \n",
       "\n",
       "        MentalHealth  DiffWalking     Sex  AgeCategory      Race Diabetic  \\\n",
       "0               30.0        False  Female        55-59     White      Yes   \n",
       "1                0.0        False  Female  80 or older     White       No   \n",
       "2               30.0        False    Male        65-69     White      Yes   \n",
       "3                0.0        False  Female        75-79     White       No   \n",
       "4                0.0         True  Female        40-44     White       No   \n",
       "...              ...          ...     ...          ...       ...      ...   \n",
       "319790           0.0         True    Male        60-64  Hispanic      Yes   \n",
       "319791           0.0        False    Male        35-39  Hispanic       No   \n",
       "319792           0.0        False  Female        45-49  Hispanic       No   \n",
       "319793           0.0        False  Female        25-29  Hispanic       No   \n",
       "319794           0.0        False  Female  80 or older  Hispanic       No   \n",
       "\n",
       "        PhysicalActivity  GenHealth  SleepTime  Asthma  KidneyDisease  \\\n",
       "0                   True  Very good        5.0    True          False   \n",
       "1                   True  Very good        7.0   False          False   \n",
       "2                   True       Fair        8.0    True          False   \n",
       "3                  False       Good        6.0   False          False   \n",
       "4                   True  Very good        8.0   False          False   \n",
       "...                  ...        ...        ...     ...            ...   \n",
       "319790             False       Fair        6.0    True          False   \n",
       "319791              True  Very good        5.0    True          False   \n",
       "319792              True       Good        6.0   False          False   \n",
       "319793             False       Good       12.0   False          False   \n",
       "319794              True       Good        8.0   False          False   \n",
       "\n",
       "        SkinCancer  \n",
       "0             True  \n",
       "1            False  \n",
       "2            False  \n",
       "3             True  \n",
       "4            False  \n",
       "...            ...  \n",
       "319790       False  \n",
       "319791       False  \n",
       "319792       False  \n",
       "319793       False  \n",
       "319794       False  \n",
       "\n",
       "[319795 rows x 18 columns]"
      ]
     },
     "execution_count": 11,
     "metadata": {},
     "output_type": "execute_result"
    }
   ],
   "source": [
    "dfHeart_v1"
   ]
  },
  {
   "cell_type": "code",
   "execution_count": 12,
   "id": "8e4a6d43-6402-4220-a5c3-75c919ee9b35",
   "metadata": {},
   "outputs": [
    {
     "data": {
      "text/plain": [
       "HeartDisease           bool\n",
       "BMI                 float64\n",
       "Smoking                bool\n",
       "AlcoholDrinking        bool\n",
       "Stroke                 bool\n",
       "PhysicalHealth      float64\n",
       "MentalHealth        float64\n",
       "DiffWalking            bool\n",
       "Sex                  object\n",
       "AgeCategory          object\n",
       "Race                 object\n",
       "Diabetic             object\n",
       "PhysicalActivity       bool\n",
       "GenHealth            object\n",
       "SleepTime           float64\n",
       "Asthma                 bool\n",
       "KidneyDisease          bool\n",
       "SkinCancer             bool\n",
       "dtype: object"
      ]
     },
     "execution_count": 12,
     "metadata": {},
     "output_type": "execute_result"
    }
   ],
   "source": [
    "dfHeart_v1.dtypes"
   ]
  },
  {
   "cell_type": "markdown",
   "id": "56e8da3f-7354-4fdc-b55d-e6edb8d8ae70",
   "metadata": {},
   "source": [
    "------\n",
    "\n",
    "Other features that need to be worked on are the Sex, Race and GenHealth.  \n",
    "* Sex can be transformed into a boolean\n",
    "* Race into a onehot encoding maybe\n",
    "* Due to the scalar nature of GenHealth, it can be transformed into integers. \n",
    "\n",
    "`Diabetic` still has a problem. Lets check it out"
   ]
  },
  {
   "cell_type": "markdown",
   "id": "c8df830c-5506-4372-a938-a36dfda93dcf",
   "metadata": {},
   "source": [
    "### GenHealth"
   ]
  },
  {
   "cell_type": "code",
   "execution_count": 13,
   "id": "9e43e962-e2cd-43a6-83b3-2c2039d78093",
   "metadata": {},
   "outputs": [
    {
     "data": {
      "text/plain": [
       "array(['Very good', 'Fair', 'Good', 'Poor', 'Excellent'], dtype=object)"
      ]
     },
     "execution_count": 13,
     "metadata": {},
     "output_type": "execute_result"
    }
   ],
   "source": [
    "dfHeart_v1.GenHealth.unique()"
   ]
  },
  {
   "cell_type": "code",
   "execution_count": 14,
   "id": "67da575b-3fea-474c-9b28-fca3d9046632",
   "metadata": {},
   "outputs": [],
   "source": [
    "logging.debug(f'FEATURE GenHealth TO INTEGER')\n",
    "dfHeart_v1['GenHealth'] = dfHeart_v1['GenHealth'].map({'Poor':1, 'Fair':2, 'Good':3, 'Very good':4, 'Excellent':5})"
   ]
  },
  {
   "cell_type": "code",
   "execution_count": 15,
   "id": "5c016dc6-53de-4d71-af04-b9d058d73d9c",
   "metadata": {},
   "outputs": [
    {
     "data": {
      "text/plain": [
       "array([4, 2, 3, 1, 5])"
      ]
     },
     "execution_count": 15,
     "metadata": {},
     "output_type": "execute_result"
    }
   ],
   "source": [
    "dfHeart_v1.GenHealth.unique()"
   ]
  },
  {
   "cell_type": "markdown",
   "id": "8539e4af-0bdb-499b-b96f-4fa538fd4243",
   "metadata": {},
   "source": [
    "### Sex"
   ]
  },
  {
   "cell_type": "code",
   "execution_count": 16,
   "id": "0eff01a3-4855-41be-a37a-9c43c90e7c80",
   "metadata": {},
   "outputs": [
    {
     "data": {
      "text/plain": [
       "array(['Female', 'Male'], dtype=object)"
      ]
     },
     "execution_count": 16,
     "metadata": {},
     "output_type": "execute_result"
    }
   ],
   "source": [
    "dfHeart_v1.Sex.unique()"
   ]
  },
  {
   "cell_type": "code",
   "execution_count": 17,
   "id": "d9e1b6f6-a581-4e69-b904-179aa51f4bb0",
   "metadata": {},
   "outputs": [],
   "source": [
    "logging.debug(f'FEATURE Sex TO INTEGER')\n",
    "dfHeart_v1['Sex'] = dfHeart_v1['Sex'].map({'Female':1, 'Male':0})"
   ]
  },
  {
   "cell_type": "markdown",
   "id": "84b2dab0-4e8a-44f2-b2bd-711cf14ff51c",
   "metadata": {},
   "source": [
    "### Race"
   ]
  },
  {
   "cell_type": "code",
   "execution_count": 18,
   "id": "c1ac9bc5-2f44-42fe-96f3-9d3c62a03281",
   "metadata": {},
   "outputs": [
    {
     "data": {
      "text/plain": [
       "array(['White', 'Black', 'Asian', 'American Indian/Alaskan Native',\n",
       "       'Other', 'Hispanic'], dtype=object)"
      ]
     },
     "execution_count": 18,
     "metadata": {},
     "output_type": "execute_result"
    }
   ],
   "source": [
    "dfHeart_v1.Race.unique()"
   ]
  },
  {
   "cell_type": "code",
   "execution_count": 19,
   "id": "540372df-628a-414c-9394-608c0ef4831f",
   "metadata": {},
   "outputs": [],
   "source": [
    "logging.debug(f'FEATURE Race TO OneHotEncoding')\n",
    "dfHeart_v1[['race_americanindian/alaskannative_fe', 'race_asian_fe', 'race_black_fe', 'race_hispanic_fe', 'race_other_fe', 'race_white_fe']] = pd.get_dummies(dfHeart_v1.Race)"
   ]
  },
  {
   "cell_type": "code",
   "execution_count": 20,
   "id": "936daa7c-d8b9-40b6-af80-3a94747ea7d5",
   "metadata": {},
   "outputs": [
    {
     "data": {
      "text/html": [
       "<div>\n",
       "<style scoped>\n",
       "    .dataframe tbody tr th:only-of-type {\n",
       "        vertical-align: middle;\n",
       "    }\n",
       "\n",
       "    .dataframe tbody tr th {\n",
       "        vertical-align: top;\n",
       "    }\n",
       "\n",
       "    .dataframe thead th {\n",
       "        text-align: right;\n",
       "    }\n",
       "</style>\n",
       "<table border=\"1\" class=\"dataframe\">\n",
       "  <thead>\n",
       "    <tr style=\"text-align: right;\">\n",
       "      <th></th>\n",
       "      <th>Race</th>\n",
       "      <th>race_americanindian/alaskannative_fe</th>\n",
       "      <th>race_asian_fe</th>\n",
       "      <th>race_black_fe</th>\n",
       "      <th>race_hispanic_fe</th>\n",
       "      <th>race_other_fe</th>\n",
       "      <th>race_white_fe</th>\n",
       "    </tr>\n",
       "  </thead>\n",
       "  <tbody>\n",
       "    <tr>\n",
       "      <th>0</th>\n",
       "      <td>White</td>\n",
       "      <td>0</td>\n",
       "      <td>0</td>\n",
       "      <td>0</td>\n",
       "      <td>0</td>\n",
       "      <td>0</td>\n",
       "      <td>1</td>\n",
       "    </tr>\n",
       "    <tr>\n",
       "      <th>5</th>\n",
       "      <td>Black</td>\n",
       "      <td>0</td>\n",
       "      <td>0</td>\n",
       "      <td>1</td>\n",
       "      <td>0</td>\n",
       "      <td>0</td>\n",
       "      <td>0</td>\n",
       "    </tr>\n",
       "    <tr>\n",
       "      <th>69</th>\n",
       "      <td>Asian</td>\n",
       "      <td>0</td>\n",
       "      <td>1</td>\n",
       "      <td>0</td>\n",
       "      <td>0</td>\n",
       "      <td>0</td>\n",
       "      <td>0</td>\n",
       "    </tr>\n",
       "    <tr>\n",
       "      <th>75</th>\n",
       "      <td>American Indian/Alaskan Native</td>\n",
       "      <td>1</td>\n",
       "      <td>0</td>\n",
       "      <td>0</td>\n",
       "      <td>0</td>\n",
       "      <td>0</td>\n",
       "      <td>0</td>\n",
       "    </tr>\n",
       "    <tr>\n",
       "      <th>105</th>\n",
       "      <td>Other</td>\n",
       "      <td>0</td>\n",
       "      <td>0</td>\n",
       "      <td>0</td>\n",
       "      <td>0</td>\n",
       "      <td>1</td>\n",
       "      <td>0</td>\n",
       "    </tr>\n",
       "    <tr>\n",
       "      <th>223</th>\n",
       "      <td>Hispanic</td>\n",
       "      <td>0</td>\n",
       "      <td>0</td>\n",
       "      <td>0</td>\n",
       "      <td>1</td>\n",
       "      <td>0</td>\n",
       "      <td>0</td>\n",
       "    </tr>\n",
       "  </tbody>\n",
       "</table>\n",
       "</div>"
      ],
      "text/plain": [
       "                               Race  race_americanindian/alaskannative_fe  \\\n",
       "0                             White                                     0   \n",
       "5                             Black                                     0   \n",
       "69                            Asian                                     0   \n",
       "75   American Indian/Alaskan Native                                     1   \n",
       "105                           Other                                     0   \n",
       "223                        Hispanic                                     0   \n",
       "\n",
       "     race_asian_fe  race_black_fe  race_hispanic_fe  race_other_fe  \\\n",
       "0                0              0                 0              0   \n",
       "5                0              1                 0              0   \n",
       "69               1              0                 0              0   \n",
       "75               0              0                 0              0   \n",
       "105              0              0                 0              1   \n",
       "223              0              0                 1              0   \n",
       "\n",
       "     race_white_fe  \n",
       "0                1  \n",
       "5                0  \n",
       "69               0  \n",
       "75               0  \n",
       "105              0  \n",
       "223              0  "
      ]
     },
     "execution_count": 20,
     "metadata": {},
     "output_type": "execute_result"
    }
   ],
   "source": [
    "dfHeart_v1[['Race','race_americanindian/alaskannative_fe', 'race_asian_fe', 'race_black_fe', 'race_hispanic_fe','race_other_fe','race_white_fe']].drop_duplicates()"
   ]
  },
  {
   "cell_type": "code",
   "execution_count": 21,
   "id": "cfc319b8-8ffb-45a2-9454-e3de8c975ab1",
   "metadata": {},
   "outputs": [],
   "source": [
    "dfHeart_v1 = dfHeart_v1.drop(columns=['Race'])"
   ]
  },
  {
   "cell_type": "markdown",
   "id": "930d7f8a-d533-4e53-8b35-de26e8f554c8",
   "metadata": {},
   "source": [
    "### Diabetic"
   ]
  },
  {
   "cell_type": "code",
   "execution_count": 22,
   "id": "6c0df814-8d61-468d-b2a1-9f5633ea3cbd",
   "metadata": {},
   "outputs": [
    {
     "data": {
      "text/plain": [
       "array(['Yes', 'No', 'No, borderline diabetes', 'Yes (during pregnancy)'],\n",
       "      dtype=object)"
      ]
     },
     "execution_count": 22,
     "metadata": {},
     "output_type": "execute_result"
    }
   ],
   "source": [
    "dfHeart_v1.Diabetic.unique()"
   ]
  },
  {
   "cell_type": "code",
   "execution_count": 23,
   "id": "98c44493-5737-4cff-b4fd-a382461f3c19",
   "metadata": {},
   "outputs": [],
   "source": [
    "logging.debug(f'FEATURE Diabetic TO OneHotEncoding')\n",
    "dfHeart_v1[['diabetic_no_fe', 'diabetic_no_borderlinediabetes_fe', 'diabetic_yes_fe', 'diabetic_yes_duringpregnancy_fe']] = pd.get_dummies(dfHeart_v1.Diabetic)"
   ]
  },
  {
   "cell_type": "code",
   "execution_count": 24,
   "id": "d43ba2b5-a33e-4597-9500-7dbdd57e5c56",
   "metadata": {},
   "outputs": [
    {
     "data": {
      "text/html": [
       "<div>\n",
       "<style scoped>\n",
       "    .dataframe tbody tr th:only-of-type {\n",
       "        vertical-align: middle;\n",
       "    }\n",
       "\n",
       "    .dataframe tbody tr th {\n",
       "        vertical-align: top;\n",
       "    }\n",
       "\n",
       "    .dataframe thead th {\n",
       "        text-align: right;\n",
       "    }\n",
       "</style>\n",
       "<table border=\"1\" class=\"dataframe\">\n",
       "  <thead>\n",
       "    <tr style=\"text-align: right;\">\n",
       "      <th></th>\n",
       "      <th>Diabetic</th>\n",
       "      <th>diabetic_no_borderlinediabetes_fe</th>\n",
       "      <th>diabetic_no_fe</th>\n",
       "      <th>diabetic_yes_fe</th>\n",
       "      <th>diabetic_yes_duringpregnancy_fe</th>\n",
       "    </tr>\n",
       "  </thead>\n",
       "  <tbody>\n",
       "    <tr>\n",
       "      <th>0</th>\n",
       "      <td>Yes</td>\n",
       "      <td>0</td>\n",
       "      <td>0</td>\n",
       "      <td>1</td>\n",
       "      <td>0</td>\n",
       "    </tr>\n",
       "    <tr>\n",
       "      <th>1</th>\n",
       "      <td>No</td>\n",
       "      <td>0</td>\n",
       "      <td>1</td>\n",
       "      <td>0</td>\n",
       "      <td>0</td>\n",
       "    </tr>\n",
       "    <tr>\n",
       "      <th>8</th>\n",
       "      <td>No, borderline diabetes</td>\n",
       "      <td>1</td>\n",
       "      <td>0</td>\n",
       "      <td>0</td>\n",
       "      <td>0</td>\n",
       "    </tr>\n",
       "    <tr>\n",
       "      <th>237</th>\n",
       "      <td>Yes (during pregnancy)</td>\n",
       "      <td>0</td>\n",
       "      <td>0</td>\n",
       "      <td>0</td>\n",
       "      <td>1</td>\n",
       "    </tr>\n",
       "  </tbody>\n",
       "</table>\n",
       "</div>"
      ],
      "text/plain": [
       "                    Diabetic  diabetic_no_borderlinediabetes_fe  \\\n",
       "0                        Yes                                  0   \n",
       "1                         No                                  0   \n",
       "8    No, borderline diabetes                                  1   \n",
       "237   Yes (during pregnancy)                                  0   \n",
       "\n",
       "     diabetic_no_fe  diabetic_yes_fe  diabetic_yes_duringpregnancy_fe  \n",
       "0                 0                1                                0  \n",
       "1                 1                0                                0  \n",
       "8                 0                0                                0  \n",
       "237               0                0                                1  "
      ]
     },
     "execution_count": 24,
     "metadata": {},
     "output_type": "execute_result"
    }
   ],
   "source": [
    "dfHeart_v1[['Diabetic','diabetic_no_borderlinediabetes_fe', 'diabetic_no_fe', 'diabetic_yes_fe', 'diabetic_yes_duringpregnancy_fe']].drop_duplicates()"
   ]
  },
  {
   "cell_type": "code",
   "execution_count": 25,
   "id": "5ea9dba4-aef5-4d48-b7a4-d9d3c98e6c18",
   "metadata": {},
   "outputs": [],
   "source": [
    "dfHeart_v1 = dfHeart_v1.drop(columns=['Diabetic'])"
   ]
  },
  {
   "cell_type": "markdown",
   "id": "4c11931c-6e5e-4a73-bf57-d88b37d4dc8c",
   "metadata": {},
   "source": [
    "### Age Category"
   ]
  },
  {
   "cell_type": "code",
   "execution_count": 26,
   "id": "f8f030bb-73aa-4e01-90bf-9ddfdf3dc5a8",
   "metadata": {},
   "outputs": [
    {
     "data": {
      "text/plain": [
       "array(['55-59', '80 or older', '65-69', '75-79', '40-44', '70-74',\n",
       "       '60-64', '50-54', '45-49', '18-24', '35-39', '30-34', '25-29'],\n",
       "      dtype=object)"
      ]
     },
     "execution_count": 26,
     "metadata": {},
     "output_type": "execute_result"
    }
   ],
   "source": [
    "dfHeart_v1.AgeCategory.unique()"
   ]
  },
  {
   "cell_type": "code",
   "execution_count": 27,
   "id": "48c8cb37-28a9-4cb8-814f-880295bf1887",
   "metadata": {},
   "outputs": [],
   "source": [
    "logging.debug(f'FEATURE AgeCategory TO OneHotEncoding')\n",
    "dfHeart_v1[['age_18-24_fe','age_25-29_fe', 'age_30-34_fe', 'age_35-39_fe', 'age_40-44_fe', 'age_45-49_fe', \n",
    "            'age_50-54_fe', 'age_55-59_fe', 'age_60-64_fe', 'age_65-69_fe', 'age_70-74_fe', 'age_75-79_fe', 'age_80orolder_fe']] = pd.get_dummies(dfHeart_v1.AgeCategory)"
   ]
  },
  {
   "cell_type": "code",
   "execution_count": 28,
   "id": "d48419e4-bb70-4f60-b4bf-ce5fad158ca0",
   "metadata": {},
   "outputs": [],
   "source": [
    "logging.debug(f'FEATURE AgeCategory TO SEQUENTIAL')\n",
    "dfHeart_v1['AgeCategory_seq_fe'] = dfHeart_v1['AgeCategory'].map({'18-24': 1,'25-29': 2, \n",
    "                                                           '30-34': 3, '35-39': 4, \n",
    "                                                           '40-44': 5, '45-49': 6, \n",
    "                                                           '50-54': 7, '55-59': 8, \n",
    "                                                           '60-64': 9, '65-69': 10, \n",
    "                                                           '70-74': 11, '75-79': 12, \n",
    "                                                           '80 or older': 13})"
   ]
  },
  {
   "cell_type": "code",
   "execution_count": 29,
   "id": "978f00ea-2488-4da1-a942-0b96d2b00058",
   "metadata": {},
   "outputs": [
    {
     "data": {
      "text/html": [
       "<div>\n",
       "<style scoped>\n",
       "    .dataframe tbody tr th:only-of-type {\n",
       "        vertical-align: middle;\n",
       "    }\n",
       "\n",
       "    .dataframe tbody tr th {\n",
       "        vertical-align: top;\n",
       "    }\n",
       "\n",
       "    .dataframe thead th {\n",
       "        text-align: right;\n",
       "    }\n",
       "</style>\n",
       "<table border=\"1\" class=\"dataframe\">\n",
       "  <thead>\n",
       "    <tr style=\"text-align: right;\">\n",
       "      <th></th>\n",
       "      <th>AgeCategory</th>\n",
       "      <th>AgeCategory_seq_fe</th>\n",
       "      <th>age_18-24_fe</th>\n",
       "      <th>age_25-29_fe</th>\n",
       "      <th>age_30-34_fe</th>\n",
       "      <th>age_35-39_fe</th>\n",
       "      <th>age_40-44_fe</th>\n",
       "      <th>age_45-49_fe</th>\n",
       "      <th>age_50-54_fe</th>\n",
       "      <th>age_55-59_fe</th>\n",
       "      <th>age_60-64_fe</th>\n",
       "      <th>age_65-69_fe</th>\n",
       "      <th>age_70-74_fe</th>\n",
       "      <th>age_75-79_fe</th>\n",
       "      <th>age_80orolder_fe</th>\n",
       "    </tr>\n",
       "  </thead>\n",
       "  <tbody>\n",
       "    <tr>\n",
       "      <th>0</th>\n",
       "      <td>55-59</td>\n",
       "      <td>8</td>\n",
       "      <td>0</td>\n",
       "      <td>0</td>\n",
       "      <td>0</td>\n",
       "      <td>0</td>\n",
       "      <td>0</td>\n",
       "      <td>0</td>\n",
       "      <td>0</td>\n",
       "      <td>1</td>\n",
       "      <td>0</td>\n",
       "      <td>0</td>\n",
       "      <td>0</td>\n",
       "      <td>0</td>\n",
       "      <td>0</td>\n",
       "    </tr>\n",
       "    <tr>\n",
       "      <th>1</th>\n",
       "      <td>80 or older</td>\n",
       "      <td>13</td>\n",
       "      <td>0</td>\n",
       "      <td>0</td>\n",
       "      <td>0</td>\n",
       "      <td>0</td>\n",
       "      <td>0</td>\n",
       "      <td>0</td>\n",
       "      <td>0</td>\n",
       "      <td>0</td>\n",
       "      <td>0</td>\n",
       "      <td>0</td>\n",
       "      <td>0</td>\n",
       "      <td>0</td>\n",
       "      <td>1</td>\n",
       "    </tr>\n",
       "    <tr>\n",
       "      <th>2</th>\n",
       "      <td>65-69</td>\n",
       "      <td>10</td>\n",
       "      <td>0</td>\n",
       "      <td>0</td>\n",
       "      <td>0</td>\n",
       "      <td>0</td>\n",
       "      <td>0</td>\n",
       "      <td>0</td>\n",
       "      <td>0</td>\n",
       "      <td>0</td>\n",
       "      <td>0</td>\n",
       "      <td>1</td>\n",
       "      <td>0</td>\n",
       "      <td>0</td>\n",
       "      <td>0</td>\n",
       "    </tr>\n",
       "    <tr>\n",
       "      <th>3</th>\n",
       "      <td>75-79</td>\n",
       "      <td>12</td>\n",
       "      <td>0</td>\n",
       "      <td>0</td>\n",
       "      <td>0</td>\n",
       "      <td>0</td>\n",
       "      <td>0</td>\n",
       "      <td>0</td>\n",
       "      <td>0</td>\n",
       "      <td>0</td>\n",
       "      <td>0</td>\n",
       "      <td>0</td>\n",
       "      <td>0</td>\n",
       "      <td>1</td>\n",
       "      <td>0</td>\n",
       "    </tr>\n",
       "    <tr>\n",
       "      <th>4</th>\n",
       "      <td>40-44</td>\n",
       "      <td>5</td>\n",
       "      <td>0</td>\n",
       "      <td>0</td>\n",
       "      <td>0</td>\n",
       "      <td>0</td>\n",
       "      <td>1</td>\n",
       "      <td>0</td>\n",
       "      <td>0</td>\n",
       "      <td>0</td>\n",
       "      <td>0</td>\n",
       "      <td>0</td>\n",
       "      <td>0</td>\n",
       "      <td>0</td>\n",
       "      <td>0</td>\n",
       "    </tr>\n",
       "    <tr>\n",
       "      <th>6</th>\n",
       "      <td>70-74</td>\n",
       "      <td>11</td>\n",
       "      <td>0</td>\n",
       "      <td>0</td>\n",
       "      <td>0</td>\n",
       "      <td>0</td>\n",
       "      <td>0</td>\n",
       "      <td>0</td>\n",
       "      <td>0</td>\n",
       "      <td>0</td>\n",
       "      <td>0</td>\n",
       "      <td>0</td>\n",
       "      <td>1</td>\n",
       "      <td>0</td>\n",
       "      <td>0</td>\n",
       "    </tr>\n",
       "    <tr>\n",
       "      <th>10</th>\n",
       "      <td>60-64</td>\n",
       "      <td>9</td>\n",
       "      <td>0</td>\n",
       "      <td>0</td>\n",
       "      <td>0</td>\n",
       "      <td>0</td>\n",
       "      <td>0</td>\n",
       "      <td>0</td>\n",
       "      <td>0</td>\n",
       "      <td>0</td>\n",
       "      <td>1</td>\n",
       "      <td>0</td>\n",
       "      <td>0</td>\n",
       "      <td>0</td>\n",
       "      <td>0</td>\n",
       "    </tr>\n",
       "    <tr>\n",
       "      <th>15</th>\n",
       "      <td>50-54</td>\n",
       "      <td>7</td>\n",
       "      <td>0</td>\n",
       "      <td>0</td>\n",
       "      <td>0</td>\n",
       "      <td>0</td>\n",
       "      <td>0</td>\n",
       "      <td>0</td>\n",
       "      <td>1</td>\n",
       "      <td>0</td>\n",
       "      <td>0</td>\n",
       "      <td>0</td>\n",
       "      <td>0</td>\n",
       "      <td>0</td>\n",
       "      <td>0</td>\n",
       "    </tr>\n",
       "    <tr>\n",
       "      <th>22</th>\n",
       "      <td>45-49</td>\n",
       "      <td>6</td>\n",
       "      <td>0</td>\n",
       "      <td>0</td>\n",
       "      <td>0</td>\n",
       "      <td>0</td>\n",
       "      <td>0</td>\n",
       "      <td>1</td>\n",
       "      <td>0</td>\n",
       "      <td>0</td>\n",
       "      <td>0</td>\n",
       "      <td>0</td>\n",
       "      <td>0</td>\n",
       "      <td>0</td>\n",
       "      <td>0</td>\n",
       "    </tr>\n",
       "    <tr>\n",
       "      <th>112</th>\n",
       "      <td>18-24</td>\n",
       "      <td>1</td>\n",
       "      <td>1</td>\n",
       "      <td>0</td>\n",
       "      <td>0</td>\n",
       "      <td>0</td>\n",
       "      <td>0</td>\n",
       "      <td>0</td>\n",
       "      <td>0</td>\n",
       "      <td>0</td>\n",
       "      <td>0</td>\n",
       "      <td>0</td>\n",
       "      <td>0</td>\n",
       "      <td>0</td>\n",
       "      <td>0</td>\n",
       "    </tr>\n",
       "    <tr>\n",
       "      <th>116</th>\n",
       "      <td>35-39</td>\n",
       "      <td>4</td>\n",
       "      <td>0</td>\n",
       "      <td>0</td>\n",
       "      <td>0</td>\n",
       "      <td>1</td>\n",
       "      <td>0</td>\n",
       "      <td>0</td>\n",
       "      <td>0</td>\n",
       "      <td>0</td>\n",
       "      <td>0</td>\n",
       "      <td>0</td>\n",
       "      <td>0</td>\n",
       "      <td>0</td>\n",
       "      <td>0</td>\n",
       "    </tr>\n",
       "    <tr>\n",
       "      <th>290</th>\n",
       "      <td>30-34</td>\n",
       "      <td>3</td>\n",
       "      <td>0</td>\n",
       "      <td>0</td>\n",
       "      <td>1</td>\n",
       "      <td>0</td>\n",
       "      <td>0</td>\n",
       "      <td>0</td>\n",
       "      <td>0</td>\n",
       "      <td>0</td>\n",
       "      <td>0</td>\n",
       "      <td>0</td>\n",
       "      <td>0</td>\n",
       "      <td>0</td>\n",
       "      <td>0</td>\n",
       "    </tr>\n",
       "    <tr>\n",
       "      <th>336</th>\n",
       "      <td>25-29</td>\n",
       "      <td>2</td>\n",
       "      <td>0</td>\n",
       "      <td>1</td>\n",
       "      <td>0</td>\n",
       "      <td>0</td>\n",
       "      <td>0</td>\n",
       "      <td>0</td>\n",
       "      <td>0</td>\n",
       "      <td>0</td>\n",
       "      <td>0</td>\n",
       "      <td>0</td>\n",
       "      <td>0</td>\n",
       "      <td>0</td>\n",
       "      <td>0</td>\n",
       "    </tr>\n",
       "  </tbody>\n",
       "</table>\n",
       "</div>"
      ],
      "text/plain": [
       "     AgeCategory  AgeCategory_seq_fe  age_18-24_fe  age_25-29_fe  \\\n",
       "0          55-59                   8             0             0   \n",
       "1    80 or older                  13             0             0   \n",
       "2          65-69                  10             0             0   \n",
       "3          75-79                  12             0             0   \n",
       "4          40-44                   5             0             0   \n",
       "6          70-74                  11             0             0   \n",
       "10         60-64                   9             0             0   \n",
       "15         50-54                   7             0             0   \n",
       "22         45-49                   6             0             0   \n",
       "112        18-24                   1             1             0   \n",
       "116        35-39                   4             0             0   \n",
       "290        30-34                   3             0             0   \n",
       "336        25-29                   2             0             1   \n",
       "\n",
       "     age_30-34_fe  age_35-39_fe  age_40-44_fe  age_45-49_fe  age_50-54_fe  \\\n",
       "0               0             0             0             0             0   \n",
       "1               0             0             0             0             0   \n",
       "2               0             0             0             0             0   \n",
       "3               0             0             0             0             0   \n",
       "4               0             0             1             0             0   \n",
       "6               0             0             0             0             0   \n",
       "10              0             0             0             0             0   \n",
       "15              0             0             0             0             1   \n",
       "22              0             0             0             1             0   \n",
       "112             0             0             0             0             0   \n",
       "116             0             1             0             0             0   \n",
       "290             1             0             0             0             0   \n",
       "336             0             0             0             0             0   \n",
       "\n",
       "     age_55-59_fe  age_60-64_fe  age_65-69_fe  age_70-74_fe  age_75-79_fe  \\\n",
       "0               1             0             0             0             0   \n",
       "1               0             0             0             0             0   \n",
       "2               0             0             1             0             0   \n",
       "3               0             0             0             0             1   \n",
       "4               0             0             0             0             0   \n",
       "6               0             0             0             1             0   \n",
       "10              0             1             0             0             0   \n",
       "15              0             0             0             0             0   \n",
       "22              0             0             0             0             0   \n",
       "112             0             0             0             0             0   \n",
       "116             0             0             0             0             0   \n",
       "290             0             0             0             0             0   \n",
       "336             0             0             0             0             0   \n",
       "\n",
       "     age_80orolder_fe  \n",
       "0                   0  \n",
       "1                   1  \n",
       "2                   0  \n",
       "3                   0  \n",
       "4                   0  \n",
       "6                   0  \n",
       "10                  0  \n",
       "15                  0  \n",
       "22                  0  \n",
       "112                 0  \n",
       "116                 0  \n",
       "290                 0  \n",
       "336                 0  "
      ]
     },
     "execution_count": 29,
     "metadata": {},
     "output_type": "execute_result"
    }
   ],
   "source": [
    "dfHeart_v1[['AgeCategory','AgeCategory_seq_fe', 'age_18-24_fe','age_25-29_fe', 'age_30-34_fe', 'age_35-39_fe', 'age_40-44_fe', 'age_45-49_fe', \n",
    "            'age_50-54_fe', 'age_55-59_fe', 'age_60-64_fe', 'age_65-69_fe', 'age_70-74_fe', 'age_75-79_fe', 'age_80orolder_fe']].drop_duplicates()"
   ]
  },
  {
   "cell_type": "code",
   "execution_count": 30,
   "id": "278897cf-d9b7-4b2e-ba91-7d7ddf4636cd",
   "metadata": {},
   "outputs": [],
   "source": [
    "dfHeart_v1 = dfHeart_v1.drop(columns=['AgeCategory'])"
   ]
  },
  {
   "cell_type": "markdown",
   "id": "29d97bc6-eee3-4284-a3ef-81ab36bee8b8",
   "metadata": {},
   "source": [
    "## Distributions"
   ]
  },
  {
   "cell_type": "markdown",
   "id": "ffde1e84-79f5-43e3-885c-d1233905d42a",
   "metadata": {},
   "source": [
    "### Heart Disease\n",
    "\n",
    "Lets first look at Heart Disease to understand if we are dealing with imbalanced targets.\n",
    "\n",
    "\n"
   ]
  },
  {
   "cell_type": "code",
   "execution_count": 31,
   "id": "45f0d1f3-36c7-42a1-a8eb-0234cc976d0f",
   "metadata": {},
   "outputs": [
    {
     "data": {
      "text/plain": [
       "<AxesSubplot:xlabel='HeartDisease', ylabel='count'>"
      ]
     },
     "execution_count": 31,
     "metadata": {},
     "output_type": "execute_result"
    },
    {
     "data": {
      "image/png": "[encoded data removed]",
      "text/plain": [
       "<Figure size 432x288 with 1 Axes>"
      ]
     },
     "metadata": {
      "needs_background": "light"
     },
     "output_type": "display_data"
    }
   ],
   "source": [
    "sns.countplot(x = dfHeart_v1['HeartDisease'])"
   ]
  },
  {
   "cell_type": "code",
   "execution_count": 32,
   "id": "f9d0ebe3-f0a9-43e9-aa27-9f41dc49d7ea",
   "metadata": {},
   "outputs": [
    {
     "name": "stdout",
     "output_type": "stream",
     "text": [
      "In terms of percentage, 8.6% of the total dataset has Heart Diseases\n"
     ]
    }
   ],
   "source": [
    "print(f'In terms of percentage, {round(dfHeart_v1[\"HeartDisease\"].sum()/dfHeart_v1[\"HeartDisease\"].count(),3)*100}% of the total dataset has Heart Diseases')"
   ]
  },
  {
   "cell_type": "markdown",
   "id": "e945acbc-c87e-494e-aa6f-a3f3fe9e3a21",
   "metadata": {},
   "source": [
    "We are definitely dealing with an unbalanced dataset. \n",
    "\n",
    "There are a few solutions we can take. \n",
    "https://www.analyticsvidhya.com/blog/2021/06/5-techniques-to-handle-imbalanced-data-for-a-classification-problem/   \n",
    "   * Choose Proper Evaluation Metric\n",
    "   * Resampling (Oversampling and Undersampling)\n",
    "   * SMOTE\n",
    "       * https://towardsdatascience.com/stop-using-smote-to-handle-all-your-imbalanced-data-34403399d3be\n",
    "   * BalancedBaggingClassifier\n",
    "   * Threshold moving       \n",
    "      \n",
    "In the preparation step, we will decide which option is the best."
   ]
  },
  {
   "cell_type": "markdown",
   "id": "e11fff1f-0a15-4a2c-abd1-c6a4ebdeff26",
   "metadata": {},
   "source": [
    "### Boolean Features\n",
    "\n",
    "Interesting: https://seaborn.pydata.org/tutorial/axis_grids.html\n",
    "\n"
   ]
  },
  {
   "cell_type": "code",
   "execution_count": 33,
   "id": "e1c3b2b1-6eea-49a8-a63f-dc6e4c2ac4df",
   "metadata": {},
   "outputs": [
    {
     "data": {
      "image/png": "[encoded data removed]",
      "text/plain": [
       "<Figure size 432x288 with 1 Axes>"
      ]
     },
     "metadata": {
      "needs_background": "light"
     },
     "output_type": "display_data"
    },
    {
     "data": {
      "image/png": "[encoded data removed]",
      "text/plain": [
       "<Figure size 432x288 with 1 Axes>"
      ]
     },
     "metadata": {
      "needs_background": "light"
     },
     "output_type": "display_data"
    },
    {
     "data": {
      "image/png": "[encoded data removed]",
      "text/plain": [
       "<Figure size 432x288 with 1 Axes>"
      ]
     },
     "metadata": {
      "needs_background": "light"
     },
     "output_type": "display_data"
    },
    {
     "data": {
      "image/png": "[encoded data removed]",
      "text/plain": [
       "<Figure size 432x288 with 1 Axes>"
      ]
     },
     "metadata": {
      "needs_background": "light"
     },
     "output_type": "display_data"
    },
    {
     "data": {
      "image/png": "[encoded data removed]",
      "text/plain": [
       "<Figure size 432x288 with 1 Axes>"
      ]
     },
     "metadata": {
      "needs_background": "light"
     },
     "output_type": "display_data"
    },
    {
     "data": {
      "image/png": "[encoded data removed]",
      "text/plain": [
       "<Figure size 432x288 with 1 Axes>"
      ]
     },
     "metadata": {
      "needs_background": "light"
     },
     "output_type": "display_data"
    },
    {
     "data": {
      "image/png": "[encoded data removed]",
      "text/plain": [
       "<Figure size 432x288 with 1 Axes>"
      ]
     },
     "metadata": {
      "needs_background": "light"
     },
     "output_type": "display_data"
    },
    {
     "data": {
      "image/png": "[encoded data removed]",
      "text/plain": [
       "<Figure size 432x288 with 1 Axes>"
      ]
     },
     "metadata": {
      "needs_background": "light"
     },
     "output_type": "display_data"
    },
    {
     "data": {
      "image/png": "[encoded data removed]",
      "text/plain": [
       "<Figure size 432x288 with 1 Axes>"
      ]
     },
     "metadata": {
      "needs_background": "light"
     },
     "output_type": "display_data"
    }
   ],
   "source": [
    "for i in _STRING_TO_BOOL_FEATURES:\n",
    "    sns.countplot(x = dfHeart_v1[i])\n",
    "    plt.show()"
   ]
  },
  {
   "cell_type": "markdown",
   "id": "1aaadcdb-9562-4ebc-893a-d1e1920641de",
   "metadata": {},
   "source": [
    "Some of these features are worrying, since they are very unbalanced.\n",
    "\n",
    "Namely:\n",
    "* Stroke\n",
    "* AlcoholDrinking (Thankfully)\n",
    "* KidneyDisease\n",
    "* SkinCancer\n",
    "\n",
    "But lets look at the True/False proportion of each one to have a clear view."
   ]
  },
  {
   "cell_type": "code",
   "execution_count": 34,
   "id": "82506a7e-47a0-4304-b574-20ce4ad54cc9",
   "metadata": {},
   "outputs": [
    {
     "name": "stdout",
     "output_type": "stream",
     "text": [
      "True/False rate of HeartDisease: 0.086 <----- Less than 0.1\n",
      "True/False rate of Smoking: 0.412\n",
      "True/False rate of AlcoholDrinking: 0.068 <----- Less than 0.1\n",
      "True/False rate of Stroke: 0.038 <----- Less than 0.1\n",
      "True/False rate of DiffWalking: 0.139\n",
      "True/False rate of PhysicalActivity: 0.775\n",
      "True/False rate of Asthma: 0.134\n",
      "True/False rate of KidneyDisease: 0.037 <----- Less than 0.1\n",
      "True/False rate of SkinCancer: 0.093 <----- Less than 0.1\n"
     ]
    }
   ],
   "source": [
    "for i in _STRING_TO_BOOL_FEATURES:\n",
    "    true_false_rate = round(dfHeart_v1[i].sum()/dfHeart_v1[i].count(),3)\n",
    "    print(f'True/False rate of {i}: {true_false_rate}{\" <----- Less than 0.1\" if true_false_rate < 0.1 else \"\"}'.ljust(10))"
   ]
  },
  {
   "cell_type": "markdown",
   "id": "86f4eb83-4580-4b81-a9d4-6e51411f0d17",
   "metadata": {},
   "source": [
    "So, the 4 mentioned features, plus the target, have less than 0.1% of True observations.  \n",
    "\n",
    "TODO:  \n",
    "* What Decision to take here?"
   ]
  },
  {
   "cell_type": "markdown",
   "id": "c6b6ce8d-3a4e-463f-90b8-255baee9563d",
   "metadata": {},
   "source": [
    "### Continuous"
   ]
  },
  {
   "cell_type": "code",
   "execution_count": 35,
   "id": "e91c8d28-ce30-47f1-9887-4c3afe06b555",
   "metadata": {},
   "outputs": [],
   "source": [
    "_CONTINUOUS_FEATURES = dfHeart_raw.select_dtypes(include=['float64']).columns"
   ]
  },
  {
   "cell_type": "code",
   "execution_count": 36,
   "id": "ffb3852c-232f-46cf-9253-8e2881752192",
   "metadata": {},
   "outputs": [
    {
     "data": {
      "image/png": "[encoded data removed]",
      "text/plain": [
       "<Figure size 360x360 with 1 Axes>"
      ]
     },
     "metadata": {
      "needs_background": "light"
     },
     "output_type": "display_data"
    },
    {
     "data": {
      "image/png": "[encoded data removed]",
      "text/plain": [
       "<Figure size 360x360 with 1 Axes>"
      ]
     },
     "metadata": {
      "needs_background": "light"
     },
     "output_type": "display_data"
    },
    {
     "data": {
      "image/png": "[encoded data removed]",
      "text/plain": [
       "<Figure size 360x360 with 1 Axes>"
      ]
     },
     "metadata": {
      "needs_background": "light"
     },
     "output_type": "display_data"
    },
    {
     "data": {
      "image/png": "[encoded data removed]",
      "text/plain": [
       "<Figure size 360x360 with 1 Axes>"
      ]
     },
     "metadata": {
      "needs_background": "light"
     },
     "output_type": "display_data"
    }
   ],
   "source": [
    "for i in _CONTINUOUS_FEATURES:\n",
    "    sns.displot(x = dfHeart_v1[i])\n",
    "    plt.show()"
   ]
  },
  {
   "cell_type": "markdown",
   "id": "2716f8f0-4ecf-464a-8b77-fd653e30dd6a",
   "metadata": {},
   "source": [
    "We can clearly see that some of these features are not actually floats, even though their object type in the `float64`.  \n",
    "Only `BMI`, which appears to follow a normal distribution, is continuos. This feature also might contain outlier candidates.  \n",
    "`SleepTime` is also continuous but not from a python standpoint.  \n",
    "Lets change `SleepTime`, `MentalHealth` and `PhysicalHealth` to `int32`"
   ]
  },
  {
   "cell_type": "markdown",
   "id": "ada3a5e3-fe13-4999-bb54-daad7a5769a8",
   "metadata": {},
   "source": [
    "#### Fix Continuous Features"
   ]
  },
  {
   "cell_type": "code",
   "execution_count": 37,
   "id": "51b2ac65-7902-43d6-b60c-d91f5a7b52c2",
   "metadata": {},
   "outputs": [],
   "source": [
    "for i in _CONTINUOUS_FEATURES:\n",
    "    if i != 'BMI':\n",
    "        logging.debug(f'FEATURE {i} TO int32')\n",
    "        dfHeart_v1[i] = dfHeart_v1[i].astype('int32')"
   ]
  },
  {
   "cell_type": "markdown",
   "id": "fd46c10c-4459-42ed-9e7c-e3ca5f7ef69f",
   "metadata": {},
   "source": [
    "#### Continuation"
   ]
  },
  {
   "cell_type": "code",
   "execution_count": 38,
   "id": "e912532e-c5b8-4db2-b2fa-73bcc8540ec4",
   "metadata": {},
   "outputs": [
    {
     "data": {
      "image/png": "[encoded data removed]",
      "text/plain": [
       "<Figure size 360x360 with 1 Axes>"
      ]
     },
     "metadata": {
      "needs_background": "light"
     },
     "output_type": "display_data"
    },
    {
     "data": {
      "image/png": "[encoded data removed]",
      "text/plain": [
       "<Figure size 360x360 with 1 Axes>"
      ]
     },
     "metadata": {
      "needs_background": "light"
     },
     "output_type": "display_data"
    },
    {
     "data": {
      "image/png": "[encoded data removed]",
      "text/plain": [
       "<Figure size 360x360 with 1 Axes>"
      ]
     },
     "metadata": {
      "needs_background": "light"
     },
     "output_type": "display_data"
    },
    {
     "data": {
      "image/png": "[encoded data removed]",
      "text/plain": [
       "<Figure size 360x360 with 1 Axes>"
      ]
     },
     "metadata": {
      "needs_background": "light"
     },
     "output_type": "display_data"
    }
   ],
   "source": [
    "for i in _CONTINUOUS_FEATURES:\n",
    "    unique_values = dfHeart_v1[i].unique()\n",
    "    sns.displot(x = dfHeart_v1[i], bins = 50 if i == 'BMI' else max(unique_values) - min(unique_values))\n",
    "    plt.show()"
   ]
  },
  {
   "cell_type": "markdown",
   "id": "e3cf5ee1-ee32-4cee-9ee1-cc3acb16b551",
   "metadata": {},
   "source": [
    "`BMI` closely follows a gamma distribution more than a normal.  \n",
    "`Physical` and `Mental` Health are inflated by zeros.  \n",
    "`SleepTime` closely resembles a normal distribution"
   ]
  },
  {
   "cell_type": "markdown",
   "id": "eec609eb-c787-4f1c-a7f9-172b8da178aa",
   "metadata": {},
   "source": [
    "### Conclusions\n",
    "\n",
    "4 of the 9 Boolean features have less than 10% of True cases, which can be a problem in the future for models.  \n",
    "Also, `Physical` and `Mental` Health are highly inflated by zeros. \n",
    "\n",
    "I think it's wise to see what's is the amount of patients who follow these rules:\n",
    "* AlcoholDrinking = False\n",
    "* Stroke = False\n",
    "* KidneyDisease = False\n",
    "* SkinCancer = False\n",
    "* MentalHealth = 0\n",
    "* PhysicalHealth = 0"
   ]
  },
  {
   "cell_type": "code",
   "execution_count": 39,
   "id": "b0a92235-54f1-420a-8bf6-18b9958ce504",
   "metadata": {},
   "outputs": [],
   "source": [
    "logging.info(f'Create filtered dataset with 6 features to False or 0')\n",
    "dfHeart_filter_1 = dfHeart_v1[(dfHeart_v1['AlcoholDrinking'] == False) & (dfHeart_v1['Stroke'] == False) & \\\n",
    "                              (dfHeart_v1['KidneyDisease'] == False) & (dfHeart_v1['SkinCancer'] == False) & \\\n",
    "                              (dfHeart_v1['MentalHealth'] == 0) & (dfHeart_v1['PhysicalHealth'] == 0)]"
   ]
  },
  {
   "cell_type": "code",
   "execution_count": 40,
   "id": "d4e2c20a-348d-418b-a093-0aba2e534819",
   "metadata": {
    "tags": []
   },
   "outputs": [
    {
     "data": {
      "text/plain": [
       "HeartDisease                            0.412255\n",
       "BMI                                     0.412255\n",
       "Smoking                                 0.412255\n",
       "AlcoholDrinking                         0.412255\n",
       "Stroke                                  0.412255\n",
       "PhysicalHealth                          0.412255\n",
       "MentalHealth                            0.412255\n",
       "DiffWalking                             0.412255\n",
       "Sex                                     0.412255\n",
       "PhysicalActivity                        0.412255\n",
       "GenHealth                               0.412255\n",
       "SleepTime                               0.412255\n",
       "Asthma                                  0.412255\n",
       "KidneyDisease                           0.412255\n",
       "SkinCancer                              0.412255\n",
       "race_americanindian/alaskannative_fe    0.412255\n",
       "race_asian_fe                           0.412255\n",
       "race_black_fe                           0.412255\n",
       "race_hispanic_fe                        0.412255\n",
       "race_other_fe                           0.412255\n",
       "race_white_fe                           0.412255\n",
       "diabetic_no_fe                          0.412255\n",
       "diabetic_no_borderlinediabetes_fe       0.412255\n",
       "diabetic_yes_fe                         0.412255\n",
       "diabetic_yes_duringpregnancy_fe         0.412255\n",
       "age_18-24_fe                            0.412255\n",
       "age_25-29_fe                            0.412255\n",
       "age_30-34_fe                            0.412255\n",
       "age_35-39_fe                            0.412255\n",
       "age_40-44_fe                            0.412255\n",
       "age_45-49_fe                            0.412255\n",
       "age_50-54_fe                            0.412255\n",
       "age_55-59_fe                            0.412255\n",
       "age_60-64_fe                            0.412255\n",
       "age_65-69_fe                            0.412255\n",
       "age_70-74_fe                            0.412255\n",
       "age_75-79_fe                            0.412255\n",
       "age_80orolder_fe                        0.412255\n",
       "AgeCategory_seq_fe                      0.412255\n",
       "dtype: float64"
      ]
     },
     "execution_count": 40,
     "metadata": {},
     "output_type": "execute_result"
    }
   ],
   "source": [
    "dfHeart_filter_1.count() / dfHeart_v1.count()"
   ]
  },
  {
   "cell_type": "markdown",
   "id": "e15086ea-5253-4a4b-b285-3e1c76f5b37c",
   "metadata": {},
   "source": [
    "This filter represents 41% of the dataset.  \n",
    "How about in terms of Heart Disease, our target?\n",
    "\n"
   ]
  },
  {
   "cell_type": "code",
   "execution_count": 41,
   "id": "3fc05b08-8871-4034-b365-51d237f40f64",
   "metadata": {},
   "outputs": [
    {
     "data": {
      "text/plain": [
       "<AxesSubplot:xlabel='HeartDisease', ylabel='count'>"
      ]
     },
     "execution_count": 41,
     "metadata": {},
     "output_type": "execute_result"
    },
    {
     "data": {
      "image/png": "[encoded data removed]",
      "text/plain": [
       "<Figure size 432x288 with 1 Axes>"
      ]
     },
     "metadata": {
      "needs_background": "light"
     },
     "output_type": "display_data"
    }
   ],
   "source": [
    "sns.countplot(x = dfHeart_filter_1['HeartDisease'])"
   ]
  },
  {
   "cell_type": "code",
   "execution_count": 42,
   "id": "53fce781-3bbe-49fa-ab8d-4a222921d1ce",
   "metadata": {},
   "outputs": [
    {
     "name": "stdout",
     "output_type": "stream",
     "text": [
      "In terms of percentage, about 5.634% of the filtered dataset has Heart Diseases\n"
     ]
    }
   ],
   "source": [
    "print(f'In terms of percentage, about {round(dfHeart_filter_1[\"HeartDisease\"].sum()/dfHeart_filter_1[\"HeartDisease\"].count()*100,3)}% of the filtered dataset has Heart Diseases')"
   ]
  },
  {
   "cell_type": "markdown",
   "id": "e9d5e3fe-aa85-4172-9884-3c9830e5874d",
   "metadata": {},
   "source": [
    "Even though 6 of the 18 features are False or 0, it doesn't lower that much the chances of heart diseases, that was 8.6% in the total dataset, and in this 41.2% representation of the dataset, it's 5.6%.  \n",
    "This is a hint into the importance of these features. But it's too early to say they are irrelevant.\n",
    "\n",
    "In any case, if they are relevant, 41.2% of the dataset will be equal in these 6 features, which can be an issue for the models, or even in infering their importance."
   ]
  },
  {
   "cell_type": "markdown",
   "id": "d82fa16d-182c-4331-b8d6-ac339d167cdf",
   "metadata": {},
   "source": [
    "## Correlations"
   ]
  },
  {
   "cell_type": "markdown",
   "id": "e9e891bc-4689-4f16-aec8-991848086b26",
   "metadata": {},
   "source": [
    "For this module, I will use phik, pearson and CramerV correlations to get a better view of the dataset in this regard. "
   ]
  },
  {
   "cell_type": "code",
   "execution_count": 43,
   "id": "5d9a33a9-aad2-4195-a7f0-bf4de5587947",
   "metadata": {},
   "outputs": [
    {
     "name": "stdout",
     "output_type": "stream",
     "text": [
      "interval columns not set, guessing: ['BMI', 'PhysicalHealth', 'MentalHealth', 'Sex', 'GenHealth', 'SleepTime', 'race_americanindian/alaskannative_fe', 'race_asian_fe', 'race_black_fe', 'race_hispanic_fe', 'race_other_fe', 'race_white_fe', 'diabetic_no_fe', 'diabetic_no_borderlinediabetes_fe', 'diabetic_yes_fe', 'diabetic_yes_duringpregnancy_fe', 'age_18-24_fe', 'age_25-29_fe', 'age_30-34_fe', 'age_35-39_fe', 'age_40-44_fe', 'age_45-49_fe', 'age_50-54_fe', 'age_55-59_fe', 'age_60-64_fe', 'age_65-69_fe', 'age_70-74_fe', 'age_75-79_fe', 'age_80orolder_fe', 'AgeCategory_seq_fe']\n"
     ]
    }
   ],
   "source": [
    "corr_phik = dfHeart_v1.phik_matrix()"
   ]
  },
  {
   "cell_type": "code",
   "execution_count": 44,
   "id": "9b771f10-1a6e-4a9f-8ca3-693cabed4735",
   "metadata": {},
   "outputs": [
    {
     "data": {
      "text/plain": [
       "<AxesSubplot:>"
      ]
     },
     "execution_count": 44,
     "metadata": {},
     "output_type": "execute_result"
    },
    {
     "data": {
      "image/png": "[encoded data removed]",
      "text/plain": [
       "<Figure size 842.4x595.44 with 2 Axes>"
      ]
     },
     "metadata": {},
     "output_type": "display_data"
    }
   ],
   "source": [
    "sns.set(rc={'figure.figsize':(11.7,8.27)})\n",
    "sns.heatmap(corr_phik)"
   ]
  },
  {
   "cell_type": "markdown",
   "id": "bb7dfb37-dae3-4544-997a-2fef7010e016",
   "metadata": {},
   "source": [
    "There's no indication any feature is extremely correlated (0.9 or +) with another.   \n",
    "But there are a few heat points, namely   \n",
    "* `PhysicalHealth` and `DiffWalking`\n",
    "* `PhysicalHealth` and `GenHealth`\n",
    "* `DiffWalking` and `GenHealth`\n",
    "* `HeartDisease` and `GenHealth`"
   ]
  },
  {
   "cell_type": "code",
   "execution_count": 45,
   "id": "63a1027c-a843-43fc-b7d0-0ce3705780da",
   "metadata": {},
   "outputs": [],
   "source": [
    "_DO_SIGNIFICANCE_MATRIX = False"
   ]
  },
  {
   "cell_type": "code",
   "execution_count": 46,
   "id": "691b3a9f-5b9e-4b8d-8506-78312f9b2a8a",
   "metadata": {},
   "outputs": [],
   "source": [
    "if _DO_SIGNIFICANCE_MATRIX:\n",
    "    # get the significance matrix (expressed as one-sided Z)\n",
    "    # of the hypothesis test of each variable-pair dependency\n",
    "    # https://phik.readthedocs.io/en/latest/\n",
    "\n",
    "    ## I have to remove race out of this \n",
    "    sig_matrix = dfHeart_v1.significance_matrix()"
   ]
  },
  {
   "cell_type": "code",
   "execution_count": 47,
   "id": "82c8eefe-9a3b-4bbe-a869-ab88fa1bd4cb",
   "metadata": {},
   "outputs": [],
   "source": [
    "if _DO_SIGNIFICANCE_MATRIX:\n",
    "    sns.set(rc={'figure.figsize':(11.7,8.27)})\n",
    "\n",
    "    # https://stackoverflow.com/questions/71409131/how-to-set-fixed-color-ranges-with-seaborn-heatmap\n",
    "    my_colors = ['#02ab2e', 'gold', 'orange', 'red', 'darkred']\n",
    "    my_cmap = ListedColormap(my_colors)\n",
    "    bounds = [0, 0.000001, 1, 10, 50, 100]\n",
    "    my_norm = BoundaryNorm(bounds, ncolors=len(my_colors))\n",
    "\n",
    "    grid_kws = {\"width_ratios\": (.9, .025), \"hspace\": .8}\n",
    "    fig, (ax, cbar_ax) = plt.subplots(ncols=2, figsize=(17.7,17.7), gridspec_kw=grid_kws)\n",
    "\n",
    "    sns.heatmap(sig_matrix,\n",
    "               yticklabels=1, \n",
    "                ax=ax,\n",
    "                cmap=my_cmap,\n",
    "                norm=my_norm,\n",
    "                cbar_ax=cbar_ax,\n",
    "                cbar_kws={\"orientation\": \"vertical\"},\n",
    "               linewidths=1, linecolor='black')\n",
    "\n",
    "    colorbar = ax.collections[0].colorbar\n",
    "    colorbar.set_ticks([(b0+b1)/2 for b0, b1 in zip(bounds[:-1], bounds[1:])])\n",
    "    colorbar.set_ticklabels(['0', ']0-1]', ']1-10]', ']10-50]', ']50+'])\n",
    "\n",
    "    plt.show()"
   ]
  },
  {
   "cell_type": "markdown",
   "id": "eb04219c-98a1-40c8-8ced-09d887df9565",
   "metadata": {},
   "source": [
    "## Save Dataset\n",
    "\n"
   ]
  },
  {
   "cell_type": "code",
   "execution_count": 48,
   "id": "04bc9845-a82d-4eda-9e2d-d987c6d67bbd",
   "metadata": {},
   "outputs": [],
   "source": [
    "logging.info(f'Saving Dataset')\n",
    "dfHeart_v1.to_parquet(f'{_ABSOLUTE_DIR}/../artifacts/data/heart/heart_preprocessed.parquet')"
   ]
  }
 ],
 "metadata": {
  "kernelspec": {
   "display_name": "Python 3 (ipykernel)",
   "language": "python",
   "name": "python3"
  },
  "language_info": {
   "codemirror_mode": {
    "name": "ipython",
    "version": 3
   },
   "file_extension": ".py",
   "mimetype": "text/x-python",
   "name": "python",
   "nbconvert_exporter": "python",
   "pygments_lexer": "ipython3",
   "version": "3.10.4"
  }
 },
 "nbformat": 4,
 "nbformat_minor": 5
}
